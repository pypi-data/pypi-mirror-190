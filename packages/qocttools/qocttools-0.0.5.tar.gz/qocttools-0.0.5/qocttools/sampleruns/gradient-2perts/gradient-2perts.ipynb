{
 "cells": [
  {
   "cell_type": "markdown",
   "metadata": {},
   "source": [
    "# Check on the accuracy of the calculation of the QOCT gradients: case with two perturbation fields"
   ]
  },
  {
   "cell_type": "code",
   "execution_count": 1,
   "metadata": {},
   "outputs": [],
   "source": [
    "try:\n",
    "    get_ipython\n",
    "    isnotebook = True\n",
    "except:\n",
    "    isnotebook = False\n",
    "\n",
    "import os\n",
    "import sys\n",
    "import numpy as np\n",
    "import scipy as sp\n",
    "import matplotlib\n",
    "if not isnotebook:\n",
    "    matplotlib.use('Agg')\n",
    "import matplotlib.pyplot as plt\n",
    "import time\n",
    "from qutip import *"
   ]
  },
  {
   "cell_type": "code",
   "execution_count": 2,
   "metadata": {},
   "outputs": [],
   "source": [
    "import qocttools\n",
    "import qocttools.models.GdW30 as GdW30\n",
    "import qocttools.hamiltonians as hamiltonians\n",
    "import qocttools.math_extra as math_extra\n",
    "import qocttools.pulses as pulses\n",
    "import qocttools.qoct as qoct\n",
    "import qocttools.solvers as solvers\n",
    "import qocttools.target as target"
   ]
  },
  {
   "cell_type": "code",
   "execution_count": 3,
   "metadata": {},
   "outputs": [
    {
     "name": "stdout",
     "output_type": "stream",
     "text": [
      "Running qocttools version 0.0.1\n",
      " (development version; hash 1802d64f9638587dc595c5b21e3bdae611b3a334)\n"
     ]
    }
   ],
   "source": [
    "qocttools.about()"
   ]
  },
  {
   "cell_type": "code",
   "execution_count": 4,
   "metadata": {},
   "outputs": [],
   "source": [
    "data = []"
   ]
  },
  {
   "cell_type": "markdown",
   "metadata": {},
   "source": [
    "# Introduction"
   ]
  },
  {
   "cell_type": "markdown",
   "metadata": {},
   "source": [
    "In order to calculate the optimal pulse that induces a given reaction in a quantum system, one defines a function of that pulse that must be optimized. One important ingredient for the optimization is derivative of this function with respect to the control parameters that define the pulse. In this script we check that this gradient or derivative is calculated correctly."
   ]
  },
  {
   "cell_type": "markdown",
   "metadata": {},
   "source": [
    "## Model"
   ]
  },
  {
   "cell_type": "markdown",
   "metadata": {},
   "source": [
    "The model is defined by the Hamiltonian:\n",
    "\n",
    "\\begin{equation}\n",
    "        \\hat{H}(t) = \\hat{H}_0 + f(t)\\hat{V}\n",
    "\\end{equation}\n",
    "where the time-independent part is given by:\n",
    "\\begin{equation}\n",
    "        \\hat{H}_0 = D\\bigg[\\hat{S}_z^2 - \\frac{1}{3}S(S + 1)\\bigg] + E[\\hat{S}_x^2 - \\hat{S}_y^2] - g\\mu_B\\hat{\\vec{S}}\\cdot\\vec{H}\n",
    "\\end{equation}\n",
    "and the time-dependent part is:\n",
    "\\begin{equation}\n",
    "        \\hat{H}(t) = \\hat{H}_0 + f(t)\\hat{V}\n",
    "\\end{equation}\n",
    "The perturbation is a magnetic field:\n",
    "\\begin{equation}\n",
    "        \\hat{V} = -g\\mu_B\\hat{\\vec{S}}\\cdot\\vec{H}_m \n",
    "\\end{equation}"
   ]
  },
  {
   "cell_type": "markdown",
   "metadata": {},
   "source": [
    "In this case:\n",
    "\n",
    "* $S = 7/2$\n",
    "\n",
    "* $D$ = 1281 MHz\n",
    "\n",
    "* $E$ = 294 MHz\n",
    "\n",
    "* $\\vec{H} = (0.15, 0.0, 0.0)$ T\n",
    "\n",
    "* $\\vec{H}_m = (0, 0.001, 0.0)$ T"
   ]
  },
  {
   "cell_type": "code",
   "execution_count": 5,
   "metadata": {},
   "outputs": [],
   "source": [
    "S = 7/2 # spin\n",
    "E = 294 # value in MHz\n",
    "D = 1281 # value in MHz\n",
    "dim = int(2*S + 1) #matrix dim\n",
    "\n",
    "# The target is the population of the first excited state.\n",
    "target_level = 1"
   ]
  },
  {
   "cell_type": "code",
   "execution_count": 6,
   "metadata": {},
   "outputs": [],
   "source": [
    "H = np.array([0.15, 0, 0.0], dtype = float) #magnetic field in T\n",
    "nperts = 2\n",
    "H_m1 = np.array([0, 0.001, 0], dtype = float) #only in presence of perturbation (T)\n",
    "H_m2 = np.array([0, 0, 0.001], dtype = float)\n",
    "H0 = GdW30.hGdW30(D, E, H)\n",
    "V1 = GdW30.vGdW30(H_m1)\n",
    "V2 = GdW30.vGdW30(H_m2)"
   ]
  },
  {
   "cell_type": "code",
   "execution_count": 7,
   "metadata": {},
   "outputs": [],
   "source": [
    "eigenvalues, eigenstates = H0.eigenstates()\n",
    "H0 = H0.transform(eigenstates) - eigenvalues[0]\n",
    "V1 = V1.transform(eigenstates)\n",
    "V2 = V2.transform(eigenstates)"
   ]
  },
  {
   "cell_type": "code",
   "execution_count": 8,
   "metadata": {},
   "outputs": [],
   "source": [
    "H = hamiltonians.hamiltonian(H0, [V1, V2])"
   ]
  },
  {
   "cell_type": "code",
   "execution_count": 9,
   "metadata": {},
   "outputs": [
    {
     "name": "stdout",
     "output_type": "stream",
     "text": [
      "Transition 0: w = 4039.242941 MHz, tau = 0.247571 ns\n",
      "Transition 1: w = 5393.963412 MHz, tau = 0.185392 ns\n",
      "Transition 2: w = 5723.217135 MHz, tau = 0.174727 ns\n",
      "Transition 3: w = 5693.441801 MHz, tau = 0.175641 ns\n",
      "Transition 4: w = 5184.911330 MHz, tau = 0.192867 ns\n",
      "Transition 5: w = 4963.368384 MHz, tau = 0.201476 ns\n",
      "Transition 6: w = 1848.122594 MHz, tau = 0.541090 ns\n"
     ]
    }
   ],
   "source": [
    "w = np.zeros(dim-1)\n",
    "taui = np.zeros(dim-1)\n",
    "for i in range(dim-1):\n",
    "    w[i] = eigenvalues[i+1] - eigenvalues[i]\n",
    "    taui[i] = 2.0*np.pi/w[i]\n",
    "    print(\"Transition {:d}: w = {:f} MHz, tau = {:f} ns\".format(i, w[i], 1000.0*taui[i]/(2.0*np.pi)))"
   ]
  },
  {
   "cell_type": "markdown",
   "metadata": {},
   "source": [
    "## Time array definition"
   ]
  },
  {
   "cell_type": "code",
   "execution_count": 10,
   "metadata": {},
   "outputs": [
    {
     "name": "stdout",
     "output_type": "stream",
     "text": [
      "T = 0.007778 us*2*pi = 1.237856 ns\n",
      "# Time steps = 229\n",
      "# Delta t = 3.4112618006085835e-05\n"
     ]
    }
   ],
   "source": [
    "T = 5*taui[0]\n",
    "print(\"T = {:f} us*2*pi = {:f} ns\".format(T, 1000*T/(2.0*np.pi)))\n",
    "time = math_extra.timegrid(H0, T, 2.0)\n",
    "print('# Time steps =', time.shape[0])\n",
    "print('# Delta t =', time[1])"
   ]
  },
  {
   "cell_type": "markdown",
   "metadata": {},
   "source": [
    "## Control functions"
   ]
  },
  {
   "cell_type": "markdown",
   "metadata": {},
   "source": [
    "The control function are parametrized with the Fourier expansion as follow:\n",
    "\\begin{equation}\n",
    "    f(u, t) = \\frac{1}{\\sqrt{T}}u_0 + \\frac{2}{\\sqrt{T}}\\sum_{k = 1}^{M}u_{2k}\\cos(\\omega_kt) + \\frac{2}{\\sqrt{T}}\\sum_{k = 1}^{M}u_{2k + 1}\\sin(\\omega_kt),\n",
    "\\end{equation}\n",
    "where $u_0\\dots u_{2M + 1}$ are the control parameters. This way, we can compute the derivate respect any control parameter as\n",
    "\\begin{equation}\n",
    "    \\frac{\\partial f}{\\partial u_m}(u, t) = f(e_m, t),\n",
    "\\end{equation}\n",
    "where $e_m$ is the set of parameters where all of them are zero except the m-th ane, that is equal to one.\n",
    "\n",
    "This pulse parametrization is included in the typical_pulses.py file as pulse class."
   ]
  },
  {
   "cell_type": "code",
   "execution_count": 11,
   "metadata": {},
   "outputs": [],
   "source": [
    "M1 = 10\n",
    "M2 = 8\n",
    "\n",
    "u1 = np.zeros(2*M1+1)\n",
    "u1[2] = 1.0\n",
    "u1[3] = 1.0\n",
    "\n",
    "u2 = np.zeros(2*M2+1)\n",
    "u2[1] = 1.0\n",
    "\n",
    "f1 = pulses.pulse(\"fourier\", T, u = u1)\n",
    "f2 = pulses.pulse(\"fourier\", T, u = u2)"
   ]
  },
  {
   "cell_type": "code",
   "execution_count": 12,
   "metadata": {},
   "outputs": [
    {
     "data": {
      "image/png": "[encoded data removed]",
      "text/plain": [
       "<Figure size 432x288 with 1 Axes>"
      ]
     },
     "metadata": {
      "needs_background": "light"
     },
     "output_type": "display_data"
    }
   ],
   "source": [
    "fig, ax = plt.subplots()\n",
    "\n",
    "ax.plot(time * 1000/(2.0*np.pi), f1.fu(time))\n",
    "ax.plot(time * 1000/(2.0*np.pi), f2.fu(time))\n",
    "ax.set_xlabel(\"Time (ns)\")\n",
    "ax.set_xlim(left = 0.0, right = time[-1]*1000/(2.0*np.pi))\n",
    "ax.set_ylabel(\"f(t) (mT)\")\n",
    "if isnotebook:\n",
    "    plt.show()\n",
    "else:\n",
    "    fig.savefig(\"pulse.pdf\")"
   ]
  },
  {
   "cell_type": "markdown",
   "metadata": {},
   "source": [
    "# Gradient calculation for state-to-state transitions"
   ]
  },
  {
   "cell_type": "markdown",
   "metadata": {},
   "source": [
    "## QOCT target function definition"
   ]
  },
  {
   "cell_type": "code",
   "execution_count": 13,
   "metadata": {},
   "outputs": [],
   "source": [
    "lambda_ = 0.1 / sp.integrate.simps(f1.fu(time)*f1.fu(time), time)\n",
    "\n",
    "def Pfunction(u):\n",
    "    f1.set_parameters(u[0:f1.nu])\n",
    "    f2.set_parameters(u[f1.nu:f1.nu+f2.nu])\n",
    "    return - lambda_ * sp.integrate.simps(f1.fu(time) * f1.fu(time), time) \\\n",
    "           - lambda_ * sp.integrate.simps(f2.fu(time) * f2.fu(time), time)\n",
    "\n",
    "def dFdu(u, m):\n",
    "    f1.set_parameters(u[0:f1.nu])\n",
    "    f2.set_parameters(u[f1.nu:f1.nu+f2.nu])\n",
    "    if m < f1.nu:\n",
    "        return - 2.0 * lambda_ * sp.integrate.simps(f1.dfu(time, m) * f1.fu(time), time)\n",
    "    else:\n",
    "        return - 2.0 * lambda_ * sp.integrate.simps(f2.dfu(time, m-f1.nu) * f2.fu(time), time)"
   ]
  },
  {
   "cell_type": "code",
   "execution_count": 14,
   "metadata": {},
   "outputs": [],
   "source": [
    "state_0 = basis(dim, 0) #initial state"
   ]
  },
  {
   "cell_type": "code",
   "execution_count": 15,
   "metadata": {},
   "outputs": [],
   "source": [
    "u = np.zeros(f1.nu + f2.nu)\n",
    "u[:f1.nu] = u1[:]\n",
    "u[f1.nu:] = u2[:]"
   ]
  },
  {
   "cell_type": "markdown",
   "metadata": {},
   "source": [
    "## Comparison, Schrödinger picture"
   ]
  },
  {
   "cell_type": "code",
   "execution_count": 16,
   "metadata": {},
   "outputs": [],
   "source": [
    "tg = target.Target('expectationvalue', operator = fock_dm(dim, target_level), Pu = Pfunction, dFdu = dFdu)\n",
    "\n",
    "opt = qoct.Qoct(H, T, time.shape[0], tg, [f1, f2], state_0,\n",
    "                interaction_picture = False, solve_method = 'cfmagnus4')"
   ]
  },
  {
   "cell_type": "code",
   "execution_count": 17,
   "metadata": {},
   "outputs": [],
   "source": [
    "u = np.zeros(f1.nu + f2.nu)\n",
    "u[:f1.nu] = u1[:]\n",
    "u[f1.nu:] = u2[:]"
   ]
  },
  {
   "cell_type": "code",
   "execution_count": 18,
   "metadata": {},
   "outputs": [
    {
     "name": "stdout",
     "output_type": "stream",
     "text": [
      "Computed the gradient with the QOCT formula. Elapsed time = 0.14659810066223145 s.\n",
      "Will compute the 3 component of the gradient.\n",
      "G(u) = 0.28443741479427953 . Elapsed time = 0.028688430786132812 s.\n",
      "G(u) = 0.2889333267334892 . Elapsed time = 0.0496058464050293 s.\n",
      "G(u) = 0.2851591954067333 . Elapsed time = 0.0397334098815918 s.\n",
      "G(u) = 0.28837000856936773 . Elapsed time = 0.05140852928161621 s.\n",
      "G(u) = 0.2856584120854724 . Elapsed time = 0.03621482849121094 s.\n",
      "G(u) = 0.28795164865701395 . Elapsed time = 0.04906201362609863 s.\n",
      "G(u) = 0.28600668185590733 . Elapsed time = 0.06370687484741211 s.\n",
      "G(u) = 0.28764463457192413 . Elapsed time = 0.04211735725402832 s.\n",
      "G(u) = 0.2862512131779237 . Elapsed time = 0.03435158729553223 s.\n",
      "G(u) = 0.28742115265026524 . Elapsed time = 0.044950246810913086 s.\n",
      "QOCT calculation: \t-0.22471706476248496\n",
      "Ridders calculation: \t-0.22471662069997053 +- 3.2790437032304e-13\n"
     ]
    }
   ],
   "source": [
    "derqoct, dernum, error = opt.check_grad(u, 3)\n",
    "print(\"QOCT calculation: \\t{}\".format(derqoct))\n",
    "print(\"Ridders calculation: \\t{} +- {}\".format(dernum, error))"
   ]
  },
  {
   "cell_type": "code",
   "execution_count": 19,
   "metadata": {},
   "outputs": [],
   "source": [
    "data.append(derqoct)"
   ]
  },
  {
   "cell_type": "code",
   "execution_count": 20,
   "metadata": {},
   "outputs": [
    {
     "name": "stdout",
     "output_type": "stream",
     "text": [
      "Computed the gradient with the QOCT formula. Elapsed time = 0.13713836669921875 s.\n",
      "Will compute the 24 component of the gradient.\n",
      "G(u) = 0.286187082960511 . Elapsed time = 0.04956793785095215 s.\n",
      "G(u) = 0.287495809307581 . Elapsed time = 0.05634617805480957 s.\n",
      "G(u) = 0.2863768350981407 . Elapsed time = 0.04223203659057617 s.\n",
      "G(u) = 0.2873116410576916 . Elapsed time = 0.035477399826049805 s.\n",
      "G(u) = 0.28651180300779916 . Elapsed time = 0.04160761833190918 s.\n",
      "G(u) = 0.2871795220699847 . Elapsed time = 0.04023313522338867 s.\n",
      "G(u) = 0.2866079181163224 . Elapsed time = 0.04086756706237793 s.\n",
      "G(u) = 0.2870848604929778 . Elapsed time = 0.04585886001586914 s.\n",
      "G(u) = 0.286676423505893 . Elapsed time = 0.044715166091918945 s.\n",
      "G(u) = 0.28701709670109377 . Elapsed time = 0.04272317886352539 s.\n",
      "G(u) = 0.2867252802757111 . Elapsed time = 0.039283037185668945 s.\n",
      "G(u) = 0.2869686182974347 . Elapsed time = 0.043909311294555664 s.\n",
      "QOCT calculation: \t-0.06543597218415557\n",
      "Ridders calculation: \t-0.06543652114297255 +- 6.050993039963259e-13\n"
     ]
    }
   ],
   "source": [
    "derqoct, dernum, error = opt.check_grad(u, f1.nu + 3)\n",
    "print(\"QOCT calculation: \\t{}\".format(derqoct))\n",
    "print(\"Ridders calculation: \\t{} +- {}\".format(dernum, error))"
   ]
  },
  {
   "cell_type": "code",
   "execution_count": 21,
   "metadata": {},
   "outputs": [],
   "source": [
    "data.append(derqoct)"
   ]
  },
  {
   "cell_type": "markdown",
   "metadata": {},
   "source": [
    "## Comparison, interaction picture"
   ]
  },
  {
   "cell_type": "code",
   "execution_count": 22,
   "metadata": {},
   "outputs": [],
   "source": [
    "opt.interaction_picture = True"
   ]
  },
  {
   "cell_type": "code",
   "execution_count": 23,
   "metadata": {},
   "outputs": [
    {
     "name": "stdout",
     "output_type": "stream",
     "text": [
      "Computed the gradient with the QOCT formula. Elapsed time = 0.4973411560058594 s.\n",
      "Will compute the 3 component of the gradient.\n",
      "G(u) = 0.28444016087377977 . Elapsed time = 0.18734478950500488 s.\n",
      "G(u) = 0.2889360683460578 . Elapsed time = 0.18632030487060547 s.\n",
      "G(u) = 0.28516194120103655 . Elapsed time = 0.19654560089111328 s.\n",
      "G(u) = 0.2883727511689965 . Elapsed time = 0.19420790672302246 s.\n",
      "G(u) = 0.28566115760318544 . Elapsed time = 0.2898838520050049 s.\n",
      "G(u) = 0.28795439189135497 . Elapsed time = 0.21468305587768555 s.\n",
      "G(u) = 0.28600942713905303 . Elapsed time = 0.18469738960266113 s.\n",
      "G(u) = 0.2876473782235561 . Elapsed time = 0.180558443069458 s.\n",
      "G(u) = 0.2862539582747058 . Elapsed time = 0.18750429153442383 s.\n",
      "G(u) = 0.28742389658148326 . Elapsed time = 0.18318772315979004 s.\n",
      "G(u) = 0.2864264670380478 . Elapsed time = 0.18630194664001465 s.\n",
      "G(u) = 0.28726212750700436 . Elapsed time = 0.18463802337646484 s.\n",
      "QOCT calculation: \t-0.22471688218573868\n",
      "Ridders calculation: \t-0.22471639677934818 +- 5.273559366969494e-13\n"
     ]
    }
   ],
   "source": [
    "derqoct, dernum, error = opt.check_grad(u, 3)\n",
    "print(\"QOCT calculation: \\t{}\".format(derqoct))\n",
    "print(\"Ridders calculation: \\t{} +- {}\".format(dernum, error))"
   ]
  },
  {
   "cell_type": "code",
   "execution_count": 24,
   "metadata": {},
   "outputs": [],
   "source": [
    "data.append(derqoct)"
   ]
  },
  {
   "cell_type": "code",
   "execution_count": 25,
   "metadata": {},
   "outputs": [
    {
     "name": "stdout",
     "output_type": "stream",
     "text": [
      "Computed the gradient with the QOCT formula. Elapsed time = 0.7983949184417725 s.\n",
      "Will compute the 24 component of the gradient.\n",
      "G(u) = 0.2861898056192208 . Elapsed time = 0.15575122833251953 s.\n",
      "G(u) = 0.28749857589820327 . Elapsed time = 0.15472745895385742 s.\n",
      "G(u) = 0.28637956400244613 . Elapsed time = 0.16325020790100098 s.\n",
      "G(u) = 0.28731440134187314 . Elapsed time = 0.15259909629821777 s.\n",
      "G(u) = 0.2865145363794317 . Elapsed time = 0.1398630142211914 s.\n",
      "G(u) = 0.28718227785579853 . Elapsed time = 0.14482927322387695 s.\n",
      "G(u) = 0.28661065468206476 . Elapsed time = 0.14065003395080566 s.\n",
      "G(u) = 0.28708761306884384 . Elapsed time = 0.1372373104095459 s.\n",
      "QOCT calculation: \t-0.06543834730263798\n",
      "Ridders calculation: \t-0.06543871772998723 +- 5.472566844133553e-13\n"
     ]
    }
   ],
   "source": [
    "derqoct, dernum, error = opt.check_grad(u, f1.nu + 3)\n",
    "print(\"QOCT calculation: \\t{}\".format(derqoct))\n",
    "print(\"Ridders calculation: \\t{} +- {}\".format(dernum, error))"
   ]
  },
  {
   "cell_type": "code",
   "execution_count": 26,
   "metadata": {},
   "outputs": [],
   "source": [
    "data.append(derqoct)"
   ]
  },
  {
   "cell_type": "markdown",
   "metadata": {},
   "source": [
    "# Gradient calculation for state-to-state transitions: parametrization with an auxiliary function"
   ]
  },
  {
   "cell_type": "code",
   "execution_count": 27,
   "metadata": {},
   "outputs": [],
   "source": [
    "def g(f, j):\n",
    "    return f[0]\n",
    "\n",
    "def gradg(f, j, l):\n",
    "    return 1.0"
   ]
  },
  {
   "cell_type": "code",
   "execution_count": 28,
   "metadata": {},
   "outputs": [],
   "source": [
    "H = hamiltonians.hamiltonian(H0, [V1, V2], g = g, gradg = gradg)"
   ]
  },
  {
   "cell_type": "code",
   "execution_count": 29,
   "metadata": {},
   "outputs": [],
   "source": [
    "tg = target.Target('expectationvalue', operator = fock_dm(dim, target_level))\n",
    "\n",
    "opt = qoct.Qoct(H, T, time.shape[0], tg, [f1], state_0,\n",
    "                interaction_picture = False,\n",
    "                solve_method = 'cfmagnus4',\n",
    "                new_parametrization = True)"
   ]
  },
  {
   "cell_type": "code",
   "execution_count": 30,
   "metadata": {},
   "outputs": [],
   "source": [
    "u = np.zeros(f1.nu)\n",
    "u[:f1.nu] = u1[:]\n",
    "#u[f1.nu:] = u2[:]"
   ]
  },
  {
   "cell_type": "code",
   "execution_count": 31,
   "metadata": {},
   "outputs": [
    {
     "name": "stdout",
     "output_type": "stream",
     "text": [
      "Computed the gradient with the QOCT formula. Elapsed time = 0.09936380386352539 s.\n",
      "Will compute the 3 component of the gradient.\n",
      "G(u) = 0.46955366599100434 . Elapsed time = 0.027344942092895508 s.\n",
      "G(u) = 0.4762117485487156 . Elapsed time = 0.043967485427856445 s.\n",
      "G(u) = 0.47058776466210694 . Elapsed time = 0.02631092071533203 s.\n",
      "G(u) = 0.47534329641647854 . Elapsed time = 0.030490875244140625 s.\n",
      "G(u) = 0.47130943237481904 . Elapsed time = 0.030269622802734375 s.\n",
      "G(u) = 0.474706152714868 . Elapsed time = 0.036879777908325195 s.\n",
      "G(u) = 0.47181625779768455 . Elapsed time = 0.028345584869384766 s.\n",
      "G(u) = 0.47424245451323055 . Elapsed time = 0.03244209289550781 s.\n",
      "G(u) = 0.4721738653750885 . Elapsed time = 0.03224301338195801 s.\n",
      "G(u) = 0.4739068513296801 . Elapsed time = 0.03016948699951172 s.\n",
      "QOCT calculation: \t-0.3328702789946293\n",
      "Ridders calculation: \t-0.33286960109297153 +- 4.907185768843192e-14\n"
     ]
    }
   ],
   "source": [
    "derqoct, dernum, error = opt.check_grad(u, 3)\n",
    "print(\"QOCT calculation: \\t{}\".format(derqoct))\n",
    "print(\"Ridders calculation: \\t{} +- {}\".format(dernum, error))"
   ]
  },
  {
   "cell_type": "code",
   "execution_count": 32,
   "metadata": {},
   "outputs": [],
   "source": [
    "data.append(derqoct)"
   ]
  },
  {
   "cell_type": "markdown",
   "metadata": {},
   "source": [
    "# Gradient calculation for state-to-state transitions: real-time parametrization of the pulse"
   ]
  },
  {
   "cell_type": "code",
   "execution_count": 33,
   "metadata": {},
   "outputs": [],
   "source": [
    "u1t = f1.fu(time)\n",
    "u2t = f2.fu(time)\n",
    "f1t = pulses.pulse(\"realtime\", T, u = u1t)\n",
    "f2t = pulses.pulse(\"realtime\", T, u = u2t)"
   ]
  },
  {
   "cell_type": "markdown",
   "metadata": {},
   "source": [
    "## QOCT target function definition"
   ]
  },
  {
   "cell_type": "code",
   "execution_count": 34,
   "metadata": {},
   "outputs": [],
   "source": [
    "state_0 = basis(dim, 0) #initial state"
   ]
  },
  {
   "cell_type": "code",
   "execution_count": 35,
   "metadata": {},
   "outputs": [],
   "source": [
    "ut = np.zeros(f1t.nu + f2t.nu)\n",
    "ut[:f1t.nu] = u1t[:]\n",
    "ut[f1t.nu:] = u2t[:]"
   ]
  },
  {
   "cell_type": "markdown",
   "metadata": {},
   "source": [
    "## Comparison, Schrödinger picture"
   ]
  },
  {
   "cell_type": "code",
   "execution_count": 36,
   "metadata": {},
   "outputs": [],
   "source": [
    "H = hamiltonians.hamiltonian(H0, [V1, V2])"
   ]
  },
  {
   "cell_type": "code",
   "execution_count": 37,
   "metadata": {},
   "outputs": [],
   "source": [
    "tg = target.Target('expectationvalue', operator = fock_dm(dim, target_level))\n",
    "\n",
    "opt = qoct.Qoct(H, T, time.shape[0], tg, [f1t, f2t], state_0,\n",
    "                interaction_picture = False, solve_method = 'cfmagnus4')"
   ]
  },
  {
   "cell_type": "code",
   "execution_count": 38,
   "metadata": {},
   "outputs": [],
   "source": [
    "ut = np.zeros(f1t.nu + f2t.nu)\n",
    "ut[:f1t.nu] = u1t[:]\n",
    "ut[f2t.nu:f1t.nu+f2t.nu] = u2t[:]"
   ]
  },
  {
   "cell_type": "code",
   "execution_count": 39,
   "metadata": {},
   "outputs": [
    {
     "name": "stdout",
     "output_type": "stream",
     "text": [
      "Computed the gradient with the QOCT formula. Elapsed time = 0.863286018371582 s.\n",
      "Will compute the 3 component of the gradient.\n",
      "G(u) = 0.436869630460187 . Elapsed time = 0.06593203544616699 s.\n",
      "G(u) = 0.4368746857525621 . Elapsed time = 0.06310534477233887 s.\n",
      "G(u) = 0.43687035261178236 . Elapsed time = 0.06940078735351562 s.\n",
      "G(u) = 0.4368739635349098 . Elapsed time = 0.06263113021850586 s.\n",
      "G(u) = 0.4368708684410908 . Elapsed time = 0.07972192764282227 s.\n",
      "G(u) = 0.43687344767189745 . Elapsed time = 0.07451343536376953 s.\n",
      "G(u) = 0.43687123689403656 . Elapsed time = 0.06128859519958496 s.\n",
      "G(u) = 0.43687307920175544 . Elapsed time = 0.06643152236938477 s.\n",
      "QOCT calculation: \t-0.0002529916063099046\n",
      "Ridders calculation: \t-0.0002527646190076763 +- 4.442751505226439e-14\n"
     ]
    }
   ],
   "source": [
    "derqoct, dernum, error = opt.check_grad(ut, 3)\n",
    "print(\"QOCT calculation: \\t{}\".format(derqoct))\n",
    "print(\"Ridders calculation: \\t{} +- {}\".format(dernum, error))"
   ]
  },
  {
   "cell_type": "code",
   "execution_count": 40,
   "metadata": {},
   "outputs": [],
   "source": [
    "data.append(derqoct)"
   ]
  },
  {
   "cell_type": "code",
   "execution_count": 41,
   "metadata": {},
   "outputs": [],
   "source": [
    "with open(\"data\", \"w\") as datafile:\n",
    "    for i in data:\n",
    "        datafile.write(\"{:.14e}\\n\".format(i))"
   ]
  }
 ],
 "metadata": {
  "kernelspec": {
   "display_name": "Python 3 (ipykernel)",
   "language": "python",
   "name": "python3"
  },
  "language_info": {
   "codemirror_mode": {
    "name": "ipython",
    "version": 3
   },
   "file_extension": ".py",
   "mimetype": "text/x-python",
   "name": "python",
   "nbconvert_exporter": "python",
   "pygments_lexer": "ipython3",
   "version": "3.9.2"
  }
 },
 "nbformat": 4,
 "nbformat_minor": 2
}
