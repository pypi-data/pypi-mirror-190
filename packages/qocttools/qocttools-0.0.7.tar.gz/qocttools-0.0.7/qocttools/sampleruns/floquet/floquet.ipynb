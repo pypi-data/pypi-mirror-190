{
 "cells": [
  {
   "cell_type": "markdown",
   "id": "f043397d",
   "metadata": {},
   "source": [
    "# Floquet optimization"
   ]
  },
  {
   "cell_type": "code",
   "execution_count": 1,
   "id": "9f0dffa0",
   "metadata": {},
   "outputs": [],
   "source": [
    "try:\n",
    "    get_ipython\n",
    "    isnotebook = True\n",
    "except:\n",
    "    isnotebook = False"
   ]
  },
  {
   "cell_type": "code",
   "execution_count": 2,
   "id": "468cfb1b",
   "metadata": {},
   "outputs": [],
   "source": [
    "import os\n",
    "import numpy as np\n",
    "import qutip as qt\n",
    "import nlopt\n",
    "import matplotlib as mpl\n",
    "import matplotlib.pyplot as plt\n",
    "from IPython.display import Image, display\n",
    "if not isnotebook:\n",
    "    def display(args):\n",
    "        pass"
   ]
  },
  {
   "cell_type": "code",
   "execution_count": 3,
   "id": "1c31f089",
   "metadata": {},
   "outputs": [
    {
     "name": "stdout",
     "output_type": "stream",
     "text": [
      "Running qocttools version 0.0.1\n",
      "    Project repository git hash = f5e4b4c9fdf2934ed3a69ac46f9d063ba620c1d6\n",
      "    Project repository last commit date = 2023-01-22 09:47:57\n",
      "    Project repository refs = floquet\n"
     ]
    }
   ],
   "source": [
    "import qocttools\n",
    "import qocttools.pulses as pulses\n",
    "import qocttools.qoct as qoct\n",
    "import qocttools.hamiltonians as hamiltonians\n",
    "import qocttools.floquet as floquet\n",
    "import qocttools.target as target\n",
    "qocttools.about()"
   ]
  },
  {
   "cell_type": "code",
   "execution_count": 4,
   "id": "29a81d0b",
   "metadata": {},
   "outputs": [],
   "source": [
    "if \"NP_RANDOM_SEED\" in os.environ:\n",
    "    seed = int(os.environ[\"NP_RANDOM_SEED\"])\n",
    "else:\n",
    "    seed = 1"
   ]
  },
  {
   "cell_type": "code",
   "execution_count": 5,
   "id": "e7375fd6",
   "metadata": {},
   "outputs": [],
   "source": [
    "data = []"
   ]
  },
  {
   "cell_type": "markdown",
   "id": "90c00e14",
   "metadata": {},
   "source": [
    "# Model definition"
   ]
  },
  {
   "cell_type": "code",
   "execution_count": 6,
   "id": "f4f576b3",
   "metadata": {},
   "outputs": [],
   "source": [
    "Sx = qt.jmat(1, \"x\")\n",
    "Sy = qt.jmat(1, \"y\")\n",
    "Sz = qt.jmat(1, \"z\")\n",
    "Bs = 0.3\n",
    "Nz = 1.00\n",
    "Nxy = 0.05\n",
    "Bd = 0.1\n",
    "omega = 1.00\n",
    "gamma = 0.2\n",
    "beta = 3.0\n",
    "d = 3\n",
    "dim = d**2"
   ]
  },
  {
   "cell_type": "code",
   "execution_count": 7,
   "id": "d3bd6ccd",
   "metadata": {},
   "outputs": [],
   "source": [
    "def system_definition():\n",
    "    H0 = -Bs * Sz + Nz * Sz**2 + Nxy * (Sx**2 - Sy**2)\n",
    "    Vx = -Bd * Sx\n",
    "    Vy = -Bd * Sy\n",
    "    A = []\n",
    "    e, psi = H0.eigenstates()\n",
    "    for i in range(d):\n",
    "        for j in range(d):\n",
    "            if j == i:\n",
    "                continue\n",
    "            gammaij = gamma * np.exp(-beta*e[j]) / (np.exp(-beta*e[i])+np.exp(-beta*e[j]))\n",
    "            A.append( np.sqrt(gammaij) * psi[j] * psi[i].dag())\n",
    "    return H0, [Vx, Vy], A, e, psi\n",
    "\n",
    "H0, V, A, e, psi = system_definition()"
   ]
  },
  {
   "cell_type": "code",
   "execution_count": 8,
   "id": "eda017de",
   "metadata": {},
   "outputs": [
    {
     "name": "stdout",
     "output_type": "stream",
     "text": [
      "Field-free eigenvalues = [0.         0.69586187 1.30413813]\n"
     ]
    }
   ],
   "source": [
    "print(\"Field-free eigenvalues = {}\".format(e))"
   ]
  },
  {
   "cell_type": "markdown",
   "id": "c1203829",
   "metadata": {},
   "source": [
    "# Basic freequency and period"
   ]
  },
  {
   "cell_type": "code",
   "execution_count": 9,
   "id": "277ea406",
   "metadata": {},
   "outputs": [
    {
     "name": "stdout",
     "output_type": "stream",
     "text": [
      "The periodic driving frequency is 3.0 eV.\n",
      "The Floquet period is 2.0943951023931953 a.u\n"
     ]
    }
   ],
   "source": [
    "#omega_eV = 2.0\n",
    "#omega = omega_eV / eV\n",
    "omega = 3.0\n",
    "T = (2.0*np.pi/omega)\n",
    "\n",
    "print(\"The periodic driving frequency is {} eV.\".format(omega))\n",
    "print(\"The Floquet period is {} a.u\".format(T))\n"
   ]
  },
  {
   "cell_type": "markdown",
   "id": "affad2cc",
   "metadata": {},
   "source": [
    "# Zero-field calculation"
   ]
  },
  {
   "cell_type": "code",
   "execution_count": 10,
   "id": "a3ee7d20",
   "metadata": {},
   "outputs": [],
   "source": [
    "a0 = 0.0\n",
    "\n",
    "def Axref(t, args):\n",
    "    return a0 * np.sin(omega * t)\n",
    "\n",
    "def Ayref(t, args):\n",
    "    return a0 * np.cos(omega * t)"
   ]
  },
  {
   "cell_type": "code",
   "execution_count": 11,
   "id": "8a387b22",
   "metadata": {},
   "outputs": [],
   "source": [
    "H = [H0, [V[0], Axref], [V[1], Ayref]]"
   ]
  },
  {
   "cell_type": "code",
   "execution_count": 12,
   "id": "5cfba5f9",
   "metadata": {},
   "outputs": [
    {
     "name": "stdout",
     "output_type": "stream",
     "text": [
      "Field-free Floquet pseudoenergies = [-0.          0.69586183  1.30413808]\n"
     ]
    }
   ],
   "source": [
    "epsilon0 = floquet.epsilon(H, T)\n",
    "print(\"Field-free Floquet pseudoenergies = {}\".format(epsilon0))"
   ]
  },
  {
   "cell_type": "markdown",
   "id": "ff8599ff",
   "metadata": {},
   "source": [
    "# Non-zero field (reference) calculations"
   ]
  },
  {
   "cell_type": "code",
   "execution_count": 13,
   "id": "76b6181b",
   "metadata": {},
   "outputs": [],
   "source": [
    "a0 = 5.0"
   ]
  },
  {
   "cell_type": "code",
   "execution_count": 14,
   "id": "82ecf1e2",
   "metadata": {},
   "outputs": [
    {
     "name": "stdout",
     "output_type": "stream",
     "text": [
      "Reference Floquet pseudoenergies = [0.037835   0.72888143 1.23328365]\n",
      "Field-free Floquet pseudoenergies = [-0.          0.69586183  1.30413808]\n",
      "Diff with the field-free eigenvalues = [ 0.037835    0.0330196  -0.07085443]\n"
     ]
    }
   ],
   "source": [
    "#print(qt.floquet_modes(H, T)[1])\n",
    "epsilon_ref = floquet.epsilon(H, T)\n",
    "print(\"Reference Floquet pseudoenergies = {}\".format(epsilon_ref))\n",
    "print(\"Field-free Floquet pseudoenergies = {}\".format(epsilon0))\n",
    "print(\"Diff with the field-free eigenvalues = {}\".format(epsilon_ref-epsilon0))"
   ]
  },
  {
   "cell_type": "markdown",
   "id": "31f11bbe",
   "metadata": {},
   "source": [
    "# Pulse definitions"
   ]
  },
  {
   "cell_type": "code",
   "execution_count": 15,
   "id": "f142722f",
   "metadata": {},
   "outputs": [],
   "source": [
    "times = np.linspace(0, T, 100)\n",
    "maxamp = a0 * np.sqrt(T) / 2\n",
    "\n",
    "read_initial_guess_from_disk = True"
   ]
  },
  {
   "cell_type": "code",
   "execution_count": 16,
   "id": "45295c42",
   "metadata": {},
   "outputs": [],
   "source": [
    "if not read_initial_guess_from_disk:\n",
    "    \n",
    "    M = 5\n",
    "    random_initial_pulse = True\n",
    "\n",
    "    if random_initial_pulse:\n",
    "        random_bound = 1.0 * maxamp\n",
    "        u1 = np.zeros(2*M+1)\n",
    "        u1[1:] = np.random.uniform(low = -1.0, high = 1.0, size = 2*M)\n",
    "        u1[1:] = random_bound * u1[1:]\n",
    "        u2 = np.zeros(2*M+1)\n",
    "        u2[1:] = np.random.uniform(low = -1.0, high = 1.0, size = 2*M)\n",
    "        u2[1:] = random_bound * u2[1:]\n",
    "    else:\n",
    "        u1 = np.zeros(2*M+1)\n",
    "        u1[7] = maxamp\n",
    "        u2 = np.zeros(2*M+1)\n",
    "        u2[8] = maxamp\n",
    "    \n",
    "    Ax0 = pulses.pulse(\"fourier\", T, u = u1)\n",
    "    Ay0 = pulses.pulse(\"fourier\", T, u = u2)\n",
    "    Axopt = pulses.pulse(\"fourier\", T, u = u1)\n",
    "    Ayopt = pulses.pulse(\"fourier\", T, u = u2)\n",
    "    #Axr = pulses.pulse(\"fourier\", T, u = u1)\n",
    "    #Ayr = pulses.pulse(\"fourier\", T, u = u2)\n",
    "    #uopt = Axr.fitparams(Axref(times, None), times, u1)\n",
    "    #Axr.set_parameters(uopt)\n",
    "    #uopt = Ayr.fitparams(Ayref(times, None), times, u2)\n",
    "    #Ayr.set_parameters(uopt)\n",
    "    Ax0.print('Ax0')\n",
    "    Ay0.print('Ay0')\n",
    "else:\n",
    "    Ax0 = pulses.read_pulse('Ax0')\n",
    "    Ay0 = pulses.read_pulse('Ay0')\n",
    "    Axopt = pulses.read_pulse('Ax0')\n",
    "    Ayopt = pulses.read_pulse('Ay0')\n",
    "\n",
    "#Axopt.set_constraint('zero_average')\n",
    "#Ayopt.set_constraint('zero_average')"
   ]
  },
  {
   "cell_type": "code",
   "execution_count": 17,
   "id": "4fa64be9",
   "metadata": {},
   "outputs": [
    {
     "data": {
      "image/png": "[encoded data removed]",
      "text/plain": [
       "<IPython.core.display.Image object>"
      ]
     },
     "metadata": {},
     "output_type": "display_data"
    }
   ],
   "source": [
    "fig = plt.figure(figsize=(5,4), facecolor = 'red', frameon = True, edgecolor = 'black', linewidth = 5)\n",
    "ax = fig.add_axes([0.15, 0.15, 0.8, 0.8])\n",
    "\n",
    "times = np.linspace(0, T, 100)\n",
    "\n",
    "ax.plot(times/T, Axref(times, None), label = r\"$A^{\\rm ref}_x(t)$\")\n",
    "ax.plot(times/T, Ayref(times, None), label = r\"$A^{\\rm ref}_y(t)$\")\n",
    "\n",
    "ax.plot(times/T, Ax0.fu(times), label = r\"$A^{\\rm 0}_x(t)$\")\n",
    "ax.plot(times/T, Ay0.fu(times), label = r\"$A^{\\rm 0}_y(t)$\")\n",
    "\n",
    "#ax.plot(times/T, Axref(times, None))\n",
    "#ax.plot(times/T, Ayref(times, None))\n",
    "\n",
    "ax.legend()\n",
    "ax.set_xlim(left = 0, right = 1)\n",
    "\n",
    "fname = 'reference-fields'\n",
    "fig.savefig(fname + '.pdf')\n",
    "fig.savefig(fname + '.png')\n",
    "plt.close(fig)\n",
    "display(Image(fname + '.png'))"
   ]
  },
  {
   "cell_type": "code",
   "execution_count": 18,
   "id": "9fdf665a",
   "metadata": {},
   "outputs": [],
   "source": [
    "u0 = pulses.pulse_collection_get_parameters([Ax0, Ay0])"
   ]
  },
  {
   "cell_type": "markdown",
   "id": "49b8775c",
   "metadata": {},
   "source": [
    "# Hamiltonian"
   ]
  },
  {
   "cell_type": "code",
   "execution_count": 19,
   "id": "6c6d1d7e",
   "metadata": {},
   "outputs": [],
   "source": [
    "H = hamiltonians.hamiltonian(H0, V)"
   ]
  },
  {
   "cell_type": "code",
   "execution_count": 20,
   "id": "78766947",
   "metadata": {},
   "outputs": [],
   "source": [
    "def Hfunc(t, args):\n",
    "    fx = args[\"f\"][0]\n",
    "    fy = args[\"f\"][1]\n",
    "    return H0 + fx(t)*V[0] + fy(t)*V[1]\n",
    "\n",
    "def Vfuncx(t, args):\n",
    "    return V[0]\n",
    "\n",
    "def Vfuncy(t, args):\n",
    "    return V[1]\n",
    "\n",
    "H_ = hamiltonians.hamiltonian(Hfunc, [Vfuncx, Vfuncy])"
   ]
  },
  {
   "cell_type": "markdown",
   "id": "c3136a75",
   "metadata": {},
   "source": [
    "# Initial-guess calculations"
   ]
  },
  {
   "cell_type": "code",
   "execution_count": 21,
   "id": "97d6538e",
   "metadata": {},
   "outputs": [],
   "source": [
    "u = u0.copy()"
   ]
  },
  {
   "cell_type": "code",
   "execution_count": 22,
   "id": "3fdd5d75",
   "metadata": {},
   "outputs": [
    {
     "name": "stdout",
     "output_type": "stream",
     "text": [
      "Initial-guess Floquet pseudoenergies = [0.03532869 0.7054971  1.25917426]\n",
      "Reference Floquet pseudoenergies = [0.037835   0.72888143 1.23328365]\n",
      "Diff = [-0.00250631 -0.02338433  0.02589061]\n"
     ]
    }
   ],
   "source": [
    "epsilon_ig = floquet.epsilon3(H, [Ax0, Ay0], u, T)\n",
    "print(\"Initial-guess Floquet pseudoenergies = {}\".format(epsilon_ig))\n",
    "print(\"Reference Floquet pseudoenergies = {}\".format(epsilon_ref))\n",
    "print(\"Diff = {}\".format(epsilon_ig-epsilon_ref))"
   ]
  },
  {
   "cell_type": "code",
   "execution_count": 23,
   "id": "f4e5e9b5",
   "metadata": {},
   "outputs": [
    {
     "name": "stdout",
     "output_type": "stream",
     "text": [
      "Initial-guess Floquet pseudoenergies = [0.03532869 0.7054971  1.25917426]\n",
      "Reference Floquet pseudoenergies = [0.037835   0.72888143 1.23328365]\n",
      "Diff = [-0.00250631 -0.02338433  0.02589061]\n"
     ]
    }
   ],
   "source": [
    "epsilon_ig = floquet.epsilon3(H_, [Ax0, Ay0], u, T)\n",
    "print(\"Initial-guess Floquet pseudoenergies = {}\".format(epsilon_ig))\n",
    "print(\"Reference Floquet pseudoenergies = {}\".format(epsilon_ref))\n",
    "print(\"Diff = {}\".format(epsilon_ig-epsilon_ref))"
   ]
  },
  {
   "cell_type": "markdown",
   "id": "ffe2cb70",
   "metadata": {},
   "source": [
    "# Target definition"
   ]
  },
  {
   "cell_type": "code",
   "execution_count": 24,
   "id": "f58f3bb8",
   "metadata": {},
   "outputs": [],
   "source": [
    "targeteps = epsilon_ref.reshape(1, 3)"
   ]
  },
  {
   "cell_type": "code",
   "execution_count": 25,
   "id": "40310fd6",
   "metadata": {},
   "outputs": [],
   "source": [
    "target_def = 0\n",
    "\n",
    "if target_def == 0:\n",
    "    \n",
    "    def f(eps):\n",
    "        cte = 1.0\n",
    "        fval = 0.0\n",
    "        nkpoints = eps.shape[0]\n",
    "        targete = targeteps\n",
    "        dim = eps.shape[1]\n",
    "        fval = 0.0\n",
    "        for k in range(nkpoints):\n",
    "            for alpha in range(dim):\n",
    "                fval = fval - cte * (eps[k, alpha] - targete[k, alpha])**2\n",
    "        return fval\n",
    "    \n",
    "    def dfdepsilon(eps):\n",
    "        cte = 1.0\n",
    "        nkpoints = eps.shape[0]\n",
    "        targete = targeteps\n",
    "        dim = eps.shape[1]\n",
    "        dfval = np.zeros((nkpoints, dim))\n",
    "        for k in range(nkpoints):\n",
    "            for alpha in range(dim):\n",
    "                dfval[k, alpha] = - 2.0 * cte * (eps[k, alpha]-targete[k, alpha])\n",
    "        return dfval\n",
    "    \n",
    "elif target_def == 1:\n",
    "\n",
    "    def f(eps):\n",
    "        fval = 0.0\n",
    "        dim = eps.shape[1]\n",
    "        nkpoints = eps.shape[0]\n",
    "        for k in range(nkpoints):\n",
    "            fval = fval + eps[k, 0]-eps[k, 2]\n",
    "        return fval\n",
    "\n",
    "    def dfdepsilon(eps):\n",
    "        dim = eps.shape[1]\n",
    "        nkpoints = eps.shape[0]\n",
    "        dfval = np.zeros((nkpoints, dim))\n",
    "        for k in range(nkpoints):\n",
    "            dfval[k, 0] = 1.0\n",
    "            dfval[k, 1] = 0.0\n",
    "            dfval[k, 2] = -1.0\n",
    "        return dfval"
   ]
  },
  {
   "cell_type": "markdown",
   "id": "96f220db",
   "metadata": {},
   "source": [
    "# Optimization: Perturbation-theory formula"
   ]
  },
  {
   "cell_type": "code",
   "execution_count": 26,
   "id": "8c510b60",
   "metadata": {},
   "outputs": [],
   "source": [
    "u = u0.copy()\n",
    "pulses.pulse_collection_set_parameters([Axopt, Ayopt], u)"
   ]
  },
  {
   "cell_type": "code",
   "execution_count": 27,
   "id": "6c0a5751",
   "metadata": {},
   "outputs": [],
   "source": [
    "U0 = qt.qeye(3)\n",
    "U0set = []\n",
    "#for k in range(targetset.nkpoints):\n",
    "U0set.append(U0)"
   ]
  },
  {
   "cell_type": "code",
   "execution_count": 28,
   "id": "96705c46",
   "metadata": {},
   "outputs": [],
   "source": [
    "tg = target.Target('floquet', targeteps = targeteps,\n",
    "                   T = T, fepsilon = f, dfdepsilon = dfdepsilon)\n",
    "#tg = target.Target('floquet', targeteps = targeteps, T = T)"
   ]
  },
  {
   "cell_type": "code",
   "execution_count": 29,
   "id": "dcf13e43",
   "metadata": {},
   "outputs": [
    {
     "name": "stdout",
     "output_type": "stream",
     "text": [
      "G(u) = -0.0012234324867341556 (initial guess)\n"
     ]
    }
   ],
   "source": [
    "opt = qoct.Qoct(H, T, times.shape[0], tg, [Axopt, Ayopt], U0set, floquet_mode = 'pt')\n",
    "print(\"G(u) = {} (initial guess)\".format(opt.gfunc(u)))"
   ]
  },
  {
   "cell_type": "code",
   "execution_count": 30,
   "id": "78fda933",
   "metadata": {},
   "outputs": [
    {
     "name": "stdout",
     "output_type": "stream",
     "text": [
      "Computed the gradient with the QOCT formula. Elapsed time = 0.2032911777496338 s.\n",
      "Will compute the 12 component of the gradient (the largest one).\n",
      "G(u) = -0.0012353671425262879 . Elapsed time = 0.013167381286621094 s.\n",
      "G(u) = -0.0012115545037286383 . Elapsed time = 0.014441490173339844 s.\n",
      "G(u) = -0.0012319514564847261 . Elapsed time = 0.011246919631958008 s.\n",
      "G(u) = -0.0012149423979629045 . Elapsed time = 0.016556978225708008 s.\n",
      "G(u) = -0.0012295145131536898 . Elapsed time = 0.02745366096496582 s.\n",
      "G(u) = -0.0012173650721610542 . Elapsed time = 0.01490640640258789 s.\n",
      "QOCT calculation: \t-0.0011906239935038942\n",
      "Ridders calculation: \t-0.0011906363430327597 +- 4.4031502821010454e-09\n"
     ]
    }
   ],
   "source": [
    "check_gradient = True\n",
    "if check_gradient:\n",
    "    #u = pulses.pulse_collection_get_parameters([Axopt, Ayopt])\n",
    "    derqoct, dernum, error = opt.check_grad(u)\n",
    "    print(\"QOCT calculation: \\t{}\".format(derqoct))\n",
    "    print(\"Ridders calculation: \\t{} +- {}\".format(dernum, error))\n",
    "    data.append(derqoct)\n",
    "\n",
    "optimize = False\n",
    "\n",
    "if optimize:\n",
    "    x, optval, res = opt.maximize(maxeval = 100,\n",
    "                                  verbose = True,\n",
    "                                  #tolerance = -1.0,\n",
    "                                  #algorithm = nlopt.LD_MMA,\n",
    "                                  algorithm = nlopt.LD_SLSQP,\n",
    "                                  #algorithm = nlopt.LN_BOBYQA,\n",
    "                                  #algorithm = nlopt.GD_STOGO,\n",
    "                                  #algorithm = nlopt.LD_LBFGS,\n",
    "                                  upper_bounds = 1 * np.abs(maxamp * np.ones_like(u)),\n",
    "                                  lower_bounds = -1 * np.abs(maxamp * np.ones_like(u)))\n",
    "    data.append(optval)\n",
    "    uopt = pulses.pulse_collection_get_parameters([Axopt, Ayopt])\n",
    "    print(opt.gfunc(uopt))\n",
    "    epsilon_opt1 = floquet.epsilon3(H, [Axopt, Ayopt], uopt, T)\n",
    "    print(\"Optimized Floquet pseudoenergies = {}\".format(epsilon_opt1))\n",
    "    print(\"Reference Floquet pseudoenergies = {}\".format(epsilon_ref))\n",
    "    print(\"Diff = {}\".format(epsilon_opt1-epsilon_ref))"
   ]
  },
  {
   "cell_type": "markdown",
   "id": "91646718",
   "metadata": {},
   "source": [
    "# Optimization: Perturbation-theory formula, Hamiltonian-as-a-function"
   ]
  },
  {
   "cell_type": "code",
   "execution_count": 31,
   "id": "735d529d",
   "metadata": {},
   "outputs": [],
   "source": [
    "u = u0.copy()\n",
    "pulses.pulse_collection_set_parameters([Axopt, Ayopt], u)"
   ]
  },
  {
   "cell_type": "code",
   "execution_count": 32,
   "id": "662957e4",
   "metadata": {},
   "outputs": [],
   "source": [
    "U0 = qt.qeye(3)\n",
    "U0set = []\n",
    "#for k in range(targetset.nkpoints):\n",
    "U0set.append(U0)"
   ]
  },
  {
   "cell_type": "code",
   "execution_count": 33,
   "id": "a38dbb8d",
   "metadata": {},
   "outputs": [],
   "source": [
    "tg = target.Target('floquet', targeteps = targeteps,\n",
    "                   T = T, fepsilon = f, dfdepsilon = dfdepsilon)\n",
    "#tg = target.Target('floquet', targeteps = targeteps, T = T)"
   ]
  },
  {
   "cell_type": "code",
   "execution_count": 34,
   "id": "b530a187",
   "metadata": {},
   "outputs": [
    {
     "name": "stdout",
     "output_type": "stream",
     "text": [
      "G(u) = -0.001223432486734294 (initial guess)\n"
     ]
    }
   ],
   "source": [
    "opt = qoct.Qoct(H_, T, times.shape[0], tg, [Axopt, Ayopt], U0set, floquet_mode = 'pt')\n",
    "print(\"G(u) = {} (initial guess)\".format(opt.gfunc(u)))"
   ]
  },
  {
   "cell_type": "code",
   "execution_count": 35,
   "id": "b424f1f3",
   "metadata": {},
   "outputs": [
    {
     "name": "stdout",
     "output_type": "stream",
     "text": [
      "Computed the gradient with the QOCT formula. Elapsed time = 4.850576400756836 s.\n",
      "Will compute the 12 component of the gradient (the largest one).\n",
      "G(u) = -0.0012353671425262267 . Elapsed time = 0.25832533836364746 s.\n",
      "G(u) = -0.0012115545037285525 . Elapsed time = 0.22982263565063477 s.\n",
      "G(u) = -0.0012319514564846693 . Elapsed time = 0.21710515022277832 s.\n",
      "G(u) = -0.0012149423979627783 . Elapsed time = 0.36176586151123047 s.\n",
      "G(u) = -0.0012295145131538403 . Elapsed time = 0.2389209270477295 s.\n",
      "G(u) = -0.001217365072160931 . Elapsed time = 0.23816514015197754 s.\n",
      "QOCT calculation: \t-0.0011906245388211853\n",
      "Ridders calculation: \t-0.001190636343041389 +- 4.4031576754925e-09\n"
     ]
    }
   ],
   "source": [
    "check_gradient = True\n",
    "if check_gradient:\n",
    "    #u = pulses.pulse_collection_get_parameters([Axopt, Ayopt])\n",
    "    derqoct, dernum, error = opt.check_grad(u)\n",
    "    print(\"QOCT calculation: \\t{}\".format(derqoct))\n",
    "    print(\"Ridders calculation: \\t{} +- {}\".format(dernum, error))\n",
    "    data.append(derqoct)"
   ]
  },
  {
   "cell_type": "code",
   "execution_count": 36,
   "id": "50d4dd74",
   "metadata": {},
   "outputs": [],
   "source": [
    "optimize = False\n",
    "\n",
    "if optimize:\n",
    "    x, optval, res = opt.maximize(maxeval = 100,\n",
    "                                  verbose = True,\n",
    "                                  #tolerance = -1.0,\n",
    "                                  #algorithm = nlopt.LD_MMA,\n",
    "                                  algorithm = nlopt.LD_SLSQP,\n",
    "                                  #algorithm = nlopt.LN_BOBYQA,\n",
    "                                  #algorithm = nlopt.GD_STOGO,\n",
    "                                  #algorithm = nlopt.LD_LBFGS,\n",
    "                                  upper_bounds = 1 * np.abs(maxamp * np.ones_like(u)),\n",
    "                                  lower_bounds = -1 * np.abs(maxamp * np.ones_like(u)))\n",
    "    data.append(optval)\n",
    "    uopt = pulses.pulse_collection_get_parameters([Axopt, Ayopt])\n",
    "    print(opt.gfunc(uopt))\n",
    "    epsilon_opt1 = floquet.epsilon3(H, [Axopt, Ayopt], uopt, T)\n",
    "    print(\"Optimized Floquet pseudoenergies = {}\".format(epsilon_opt1))\n",
    "    print(\"Reference Floquet pseudoenergies = {}\".format(epsilon_ref))\n",
    "    print(\"Diff = {}\".format(epsilon_opt1-epsilon_ref))"
   ]
  },
  {
   "cell_type": "markdown",
   "id": "e44aa0d0",
   "metadata": {},
   "source": [
    "# Optimization: QOCT formula"
   ]
  },
  {
   "cell_type": "code",
   "execution_count": 37,
   "id": "f9f24746",
   "metadata": {},
   "outputs": [],
   "source": [
    "u = u0.copy()\n",
    "pulses.pulse_collection_set_parameters([Axopt, Ayopt], u)"
   ]
  },
  {
   "cell_type": "code",
   "execution_count": 38,
   "id": "e8acc3d2",
   "metadata": {},
   "outputs": [],
   "source": [
    "U0 = qt.qeye(3)\n",
    "U0set = []\n",
    "#for k in range(targetset.nkpoints):\n",
    "U0set.append(U0)"
   ]
  },
  {
   "cell_type": "code",
   "execution_count": 39,
   "id": "780f97c8",
   "metadata": {},
   "outputs": [],
   "source": [
    "#tg = target.Target('floquet', targeteps = targeteps, T = T)\n",
    "tg = target.Target('floquet', targeteps = targeteps,\n",
    "                   T = T, fepsilon = f, dfdepsilon = dfdepsilon)"
   ]
  },
  {
   "cell_type": "code",
   "execution_count": 40,
   "id": "8510c992",
   "metadata": {},
   "outputs": [
    {
     "name": "stdout",
     "output_type": "stream",
     "text": [
      "G(u) = -0.0012234358038925156 (initial guess)\n"
     ]
    }
   ],
   "source": [
    "opt = qoct.Qoct(H, T, times.shape[0], tg, [Axopt, Ayopt], U0set, floquet_mode = 'qoct')\n",
    "print(\"G(u) = {} (initial guess)\".format(opt.gfunc(u)))"
   ]
  },
  {
   "cell_type": "code",
   "execution_count": 41,
   "id": "36064c59",
   "metadata": {},
   "outputs": [
    {
     "name": "stdout",
     "output_type": "stream",
     "text": [
      "Computed the gradient with the QOCT formula. Elapsed time = 0.060933828353881836 s.\n",
      "Will compute the 12 component of the gradient (the largest one).\n",
      "G(u) = -0.001235370461381141 . Elapsed time = 0.021526098251342773 s.\n",
      "G(u) = -0.0012115578812782412 . Elapsed time = 0.019785404205322266 s.\n",
      "G(u) = -0.0012319547751515403 . Elapsed time = 0.02405405044555664 s.\n",
      "G(u) = -0.0012149457789928462 . Elapsed time = 0.01976490020751953 s.\n",
      "G(u) = -0.001229517831542187 . Elapsed time = 0.02214670181274414 s.\n",
      "G(u) = -0.0012173685447921904 . Elapsed time = 0.01914238929748535 s.\n",
      "G(u) = -0.0012277786030502366 . Elapsed time = 0.01291656494140625 s.\n",
      "G(u) = -0.0012191005397085973 . Elapsed time = 0.01894855499267578 s.\n",
      "G(u) = -0.0012265370346669488 . Elapsed time = 0.019313812255859375 s.\n",
      "G(u) = -0.0012203384174924409 . Elapsed time = 0.023956298828125 s.\n",
      "QOCT calculation: \t-0.0011906469047340026\n",
      "Ridders calculation: \t-0.0011906304873247429 +- 4.064890785082653e-15\n"
     ]
    }
   ],
   "source": [
    "check_gradient = True\n",
    "if check_gradient:\n",
    "    #u = pulses.pulse_collection_get_parameters([Axopt, Ayopt])\n",
    "    derqoct, dernum, error = opt.check_grad(u)\n",
    "    print(\"QOCT calculation: \\t{}\".format(derqoct))\n",
    "    print(\"Ridders calculation: \\t{} +- {}\".format(dernum, error))\n",
    "    data.append(derqoct)"
   ]
  },
  {
   "cell_type": "code",
   "execution_count": 42,
   "id": "4628e20a",
   "metadata": {},
   "outputs": [],
   "source": [
    "optimize = False\n",
    "\n",
    "if optimize:\n",
    "    x, optval, res = opt.maximize(maxeval = 100,\n",
    "                                  verbose = True,\n",
    "                                  #tolerance = -1.0,\n",
    "                                  #algorithm = nlopt.LD_MMA,\n",
    "                                  algorithm = nlopt.LD_SLSQP,\n",
    "                                  #algorithm = nlopt.LN_BOBYQA,\n",
    "                                  #algorithm = nlopt.GD_STOGO,\n",
    "                                  #algorithm = nlopt.LD_LBFGS,\n",
    "                                  upper_bounds = 1 * np.abs(maxamp * np.ones_like(u)),\n",
    "                                  lower_bounds = -1 * np.abs(maxamp * np.ones_like(u)))\n",
    "    data.append(optval)\n",
    "    uopt = pulses.pulse_collection_get_parameters([Axopt, Ayopt])\n",
    "    print(opt.gfunc(uopt))\n",
    "    epsilon_opt2 = floquet.epsilon3(H, [Axopt, Ayopt], uopt, T)\n",
    "    print(\"Optimized Floquet pseudoenergies = {}\".format(epsilon_opt2))\n",
    "    print(\"Reference Floquet pseudoenergies = {}\".format(epsilon_ref))\n",
    "    print(\"Diff = {}\".format(epsilon_opt2-epsilon_ref))"
   ]
  },
  {
   "cell_type": "markdown",
   "id": "6f6c597f",
   "metadata": {},
   "source": [
    "# Optimization: QOCT formula, Hamiltonian-as-a-function"
   ]
  },
  {
   "cell_type": "code",
   "execution_count": 43,
   "id": "d408dd3b",
   "metadata": {},
   "outputs": [],
   "source": [
    "u = u0.copy()\n",
    "pulses.pulse_collection_set_parameters([Axopt, Ayopt], u)"
   ]
  },
  {
   "cell_type": "code",
   "execution_count": 44,
   "id": "1c5b403c",
   "metadata": {},
   "outputs": [],
   "source": [
    "U0 = qt.qeye(3)\n",
    "U0set = []\n",
    "#for k in range(targetset.nkpoints):\n",
    "U0set.append(U0)"
   ]
  },
  {
   "cell_type": "code",
   "execution_count": 45,
   "id": "f94762d5",
   "metadata": {},
   "outputs": [],
   "source": [
    "#tg = target.Target('floquet', targeteps = targeteps, T = T)\n",
    "tg = target.Target('floquet', targeteps = targeteps,\n",
    "                   T = T, fepsilon = f, dfdepsilon = dfdepsilon)"
   ]
  },
  {
   "cell_type": "code",
   "execution_count": 46,
   "id": "7e31ad87",
   "metadata": {},
   "outputs": [
    {
     "name": "stdout",
     "output_type": "stream",
     "text": [
      "G(u) = -0.001223431522165414 (initial guess)\n"
     ]
    }
   ],
   "source": [
    "opt = qoct.Qoct(H_, T, times.shape[0], tg, [Axopt, Ayopt], U0set, floquet_mode = 'qoct')\n",
    "print(\"G(u) = {} (initial guess)\".format(opt.gfunc(u)))"
   ]
  },
  {
   "cell_type": "code",
   "execution_count": 47,
   "id": "dd096a63",
   "metadata": {},
   "outputs": [
    {
     "name": "stdout",
     "output_type": "stream",
     "text": [
      "Computed the gradient with the QOCT formula. Elapsed time = 0.49635791778564453 s.\n",
      "Will compute the 12 component of the gradient (the largest one).\n",
      "G(u) = -0.0012353661769810285 . Elapsed time = 0.1888260841369629 s.\n",
      "G(u) = -0.0012115536210271052 . Elapsed time = 0.17839741706848145 s.\n",
      "G(u) = -0.0012319504965332797 . Elapsed time = 0.19098114967346191 s.\n",
      "G(u) = -0.001214941512920773 . Elapsed time = 0.19347453117370605 s.\n",
      "G(u) = -0.0012295135570554061 . Elapsed time = 0.17836451530456543 s.\n",
      "G(u) = -0.0012173642734614918 . Elapsed time = 0.17757391929626465 s.\n",
      "G(u) = -0.0012277743139018082 . Elapsed time = 0.20331931114196777 s.\n",
      "G(u) = -0.0012190962654065884 . Elapsed time = 0.1804952621459961 s.\n",
      "QOCT calculation: \t-0.0011906447926389094\n",
      "Ridders calculation: \t-0.0011906310587650821 +- 1.1067444966126466e-09\n"
     ]
    }
   ],
   "source": [
    "check_gradient = True\n",
    "if check_gradient:\n",
    "    #u = pulses.pulse_collection_get_parameters([Axopt, Ayopt])\n",
    "    derqoct, dernum, error = opt.check_grad(u)\n",
    "    print(\"QOCT calculation: \\t{}\".format(derqoct))\n",
    "    print(\"Ridders calculation: \\t{} +- {}\".format(dernum, error))\n",
    "    data.append(derqoct)"
   ]
  },
  {
   "cell_type": "code",
   "execution_count": 48,
   "id": "6db2645a",
   "metadata": {},
   "outputs": [],
   "source": [
    "optimize = False\n",
    "\n",
    "if optimize:\n",
    "    x, optval, res = opt.maximize(maxeval = 100,\n",
    "                                  verbose = True,\n",
    "                                  #tolerance = -1.0,\n",
    "                                  #algorithm = nlopt.LD_MMA,\n",
    "                                  algorithm = nlopt.LD_SLSQP,\n",
    "                                  #algorithm = nlopt.LN_BOBYQA,\n",
    "                                  #algorithm = nlopt.GD_STOGO,\n",
    "                                  #algorithm = nlopt.LD_LBFGS,\n",
    "                                  upper_bounds = 1 * np.abs(maxamp * np.ones_like(u)),\n",
    "                                  lower_bounds = -1 * np.abs(maxamp * np.ones_like(u)))\n",
    "    data.append(optval)\n",
    "    uopt = pulses.pulse_collection_get_parameters([Axopt, Ayopt])\n",
    "    print(opt.gfunc(uopt))\n",
    "    epsilon_opt2 = floquet.epsilon3(H, [Axopt, Ayopt], uopt, T)\n",
    "    print(\"Optimized Floquet pseudoenergies = {}\".format(epsilon_opt2))\n",
    "    print(\"Reference Floquet pseudoenergies = {}\".format(epsilon_ref))\n",
    "    print(\"Diff = {}\".format(epsilon_opt2-epsilon_ref))"
   ]
  },
  {
   "cell_type": "markdown",
   "id": "6420896f",
   "metadata": {},
   "source": [
    "# Non-equilibrium steady-states (NESS) optimization"
   ]
  },
  {
   "cell_type": "code",
   "execution_count": 49,
   "id": "17598496",
   "metadata": {},
   "outputs": [],
   "source": [
    "Ham = hamiltonians.hamiltonian(H0, V, A)\n",
    "Ham__ = hamiltonians.toliouville(Ham)"
   ]
  },
  {
   "cell_type": "code",
   "execution_count": 50,
   "id": "b08284dc",
   "metadata": {},
   "outputs": [],
   "source": [
    "op1 = Sz\n",
    "op2 = Sx*Sy+Sy*Sx\n",
    "target_operator = op1"
   ]
  },
  {
   "cell_type": "code",
   "execution_count": 51,
   "id": "e6b62ce4",
   "metadata": {},
   "outputs": [],
   "source": [
    "omega0 = 0.5\n",
    "T = (2.0*np.pi/omega0)\n",
    "nts = 100\n",
    "times = np.linspace(0, T, nts + 1)"
   ]
  },
  {
   "cell_type": "code",
   "execution_count": 52,
   "id": "e1e69b56",
   "metadata": {},
   "outputs": [],
   "source": [
    "def pulse_definition(T, p, bound = 4.0, seed = 0):\n",
    "    if seed >= 0:\n",
    "        np.random.seed(seed)\n",
    "        u = (bound-(-bound)) * np.random.random_sample(p) + (-bound)\n",
    "        g1 = pulses.pulse(\"fourier\", T, u)\n",
    "        u = (bound-(-bound)) * np.random.random_sample(p) + (-bound)\n",
    "        g2 = pulses.pulse(\"fourier\", T, u)\n",
    "    else:\n",
    "        #M = p\n",
    "        K = 1\n",
    "        u = np.zeros(p)\n",
    "        u[K] = bound #np.sqrt(T)/2\n",
    "        g1 = pulses.pulse(\"fourier\", T, u)\n",
    "        u = np.zeros(p)\n",
    "        u[K+1] = bound #np.sqrt(T)/2\n",
    "        g2 = pulses.pulse(\"fourier\", T, u)\n",
    "    return [g1, g2]\n",
    "\n",
    "\n",
    "def pulse_set_new(g, bound = 4.0, seed = 0):\n",
    "    np.random.seed(seed)\n",
    "    p = g[0].u.shape[0]\n",
    "    u = (bound-(-bound)) * np.random.random_sample(p) + (-bound)\n",
    "    g[0].set_parameters(u)\n",
    "    u = (bound-(-bound)) * np.random.random_sample(p) + (-bound)\n",
    "    g[1].set_parameters(u)"
   ]
  },
  {
   "cell_type": "code",
   "execution_count": 53,
   "id": "40ce9849",
   "metadata": {},
   "outputs": [],
   "source": [
    "M = 4\n",
    "bound = 4.0\n",
    "g = pulse_definition(T, 2*M+1, bound = bound, seed = -1)\n",
    "gref = pulse_definition(T, 2*M+1, bound = bound, seed = -1)\n",
    "u = pulses.pulse_collection_get_parameters(g)\n",
    "pulses.pulse_collection_set_parameters(gref, u)"
   ]
  },
  {
   "cell_type": "code",
   "execution_count": 54,
   "id": "819a4c7a",
   "metadata": {},
   "outputs": [],
   "source": [
    "tg = target.Target('floquet', operator = target_operator, T = T)\n",
    "opt = qoct.Qoct(Ham, T, nts, tg, g, None, floquet_mode = 'ness')"
   ]
  },
  {
   "cell_type": "code",
   "execution_count": 55,
   "id": "e8ca1623",
   "metadata": {},
   "outputs": [
    {
     "name": "stdout",
     "output_type": "stream",
     "text": [
      "G(u) = 0.09075257707873673\n",
      "G(u=0) = 0.08966865961492405\n"
     ]
    }
   ],
   "source": [
    "print(\"G(u) = {}\".format(opt.gfunc(u)))\n",
    "print(\"G(u=0) = {}\".format(opt.gfunc(np.zeros_like(u))))"
   ]
  },
  {
   "cell_type": "code",
   "execution_count": 56,
   "id": "088c8dbd",
   "metadata": {},
   "outputs": [
    {
     "name": "stdout",
     "output_type": "stream",
     "text": [
      "Computed the gradient with the QOCT formula. Elapsed time = 11.788311243057251 s.\n",
      "Will compute the 11 component of the gradient (the largest one).\n",
      "G(u) = 0.09077461156349058 . Elapsed time = 1.6236615180969238 s.\n",
      "G(u) = 0.09073110812154034 . Elapsed time = 1.6214492321014404 s.\n",
      "G(u) = 0.09076825848108407 . Elapsed time = 1.610398769378662 s.\n",
      "G(u) = 0.09073718421090454 . Elapsed time = 1.590864658355713 s.\n",
      "G(u) = 0.09076374870792431 . Elapsed time = 2.1589391231536865 s.\n",
      "G(u) = 0.09074155266104929 . Elapsed time = 2.194200277328491 s.\n",
      "G(u) = 0.09076054181772826 . Elapsed time = 1.6925585269927979 s.\n",
      "G(u) = 0.09074468744765643 . Elapsed time = 1.7154757976531982 s.\n",
      "QOCT calculation: \t0.0021752268449751672\n",
      "Ridders calculation: \t0.002175226845011761 +- 9.65460350554892e-14\n"
     ]
    }
   ],
   "source": [
    "check_gradient = True\n",
    "if check_gradient:\n",
    "    derqoct, dernum, error = opt.check_grad(u)\n",
    "    print(\"QOCT calculation: \\t{}\".format(derqoct))\n",
    "    print(\"Ridders calculation: \\t{} +- {}\".format(dernum, error))\n",
    "    data.append(derqoct)"
   ]
  },
  {
   "cell_type": "markdown",
   "id": "f65471d8",
   "metadata": {},
   "source": [
    "# Output data"
   ]
  },
  {
   "cell_type": "code",
   "execution_count": 57,
   "id": "6badf886",
   "metadata": {},
   "outputs": [],
   "source": [
    "with open(\"data\", \"w\") as datafile:\n",
    "    for i in data:\n",
    "        datafile.write(\"{:.14e}\\n\".format(i))"
   ]
  }
 ],
 "metadata": {
  "kernelspec": {
   "display_name": "Python 3 (ipykernel)",
   "language": "python",
   "name": "python3"
  },
  "language_info": {
   "codemirror_mode": {
    "name": "ipython",
    "version": 3
   },
   "file_extension": ".py",
   "mimetype": "text/x-python",
   "name": "python",
   "nbconvert_exporter": "python",
   "pygments_lexer": "ipython3",
   "version": "3.9.2"
  }
 },
 "nbformat": 4,
 "nbformat_minor": 5
}
