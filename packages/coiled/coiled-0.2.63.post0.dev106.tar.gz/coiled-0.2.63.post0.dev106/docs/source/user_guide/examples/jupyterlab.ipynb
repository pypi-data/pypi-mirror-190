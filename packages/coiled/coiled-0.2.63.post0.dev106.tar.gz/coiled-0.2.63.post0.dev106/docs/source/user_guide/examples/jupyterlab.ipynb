{
 "cells": [
  {
   "cell_type": "markdown",
   "metadata": {},
   "source": [
    "# Using Coiled with JupyterLab\n",
    "\n",
    "Coiled integrates with the tools you already use. In this guide, you'll learn about a few useful open source JupterLab extensions we recommend:\n",
    "\n",
    "- [Conda kernels extension](https://github.com/Anaconda-Platform/nb_conda_kernels)\n",
    "- [Jupyter Widgets](https://ipywidgets.readthedocs.io/en/latest/index.html)\n",
    "- [Dask JupyterLab extension](https://github.com/dask/dask-labextension)\n",
    "\n",
    "You can download {download}`this jupyter notebook <jupyterlab.ipynb>` to follow along in your own JupyterLab session.\n",
    "\n",
    "## Before you start\n",
    "\n",
    "It’s important to have the same libraries installed both in your local Python environment (e.g. on your laptop), as well as on the remote Dask workers in your cluster. If you are unfamiliar with creating software environments, you can first follow the [tutorial on setting up a custom software environment](https://docs.coiled.io/user_guide/tutorials/matching_coiled_senvs.html).\n",
    "\n",
    "Coiled maintains a default remote environment with the [coiled-runtime metapackage](https://docs.coiled.io/user_guide/software_environment.html#coiled-runtime). Run the snippet below from the command line to create this same environment locally:\n",
    "\n",
    "```\n",
    "conda create -n jupyter-example -c conda-forge python=3.9 coiled-runtime\n",
    "```\n",
    "\n",
    "## Conda kernels extension\n",
    "\n",
    "The [nb_conda_kernels extension](https://github.com/Anaconda-Platform/nb_conda_kernels) enables you to access other conda environments on your machine from Jupyter Notebook or JupyterLab. This allows you to smoothly switch between different software environments you've installed locally.\n",
    "\n",
    ":::{note}\n",
    "Any other environments you want to access must have a kernel package, e.g. `ipykernel`, installed in them. By default, any software environment you've installed with `coiled-runtime` will have `ipykernel` automatically installed to enable use with `nb_conda_kernels`.\n",
    ":::\n",
    "\n",
    "![conda kernels extension](../images/nb_conda_kernels.png)\n",
    "\n",
    "To select the conda environment to use with a notebook in JupyterLab, click the text indicating the current kernel in the upper righthand corner of the notebook (screenshot above). This will bring up a \"Select Kernel\" dropdown menu where you can select which kernel you would like to use for the notebook. You can select the `jupyter-example` environment you created in the previous example.\n",
    "\n",
    "## Coiled cluster widget\n",
    "\n",
    "When you create a cluster from JupyterLab or using Jupyter Notebooks, you'll notice a widget detailing the cluster state overview and progress bars as resources are provisioned. This widget relies on the `ipywidgets` extension."
   ]
  },
  {
   "cell_type": "code",
   "execution_count": null,
   "metadata": {},
   "outputs": [],
   "source": [
    "import coiled\n",
    "\n",
    "cluster = coiled.Cluster(\n",
    "    name=\"jupyter-example\", n_workers=5\n",
    ")"
   ]
  },
  {
   "cell_type": "markdown",
   "metadata": {},
   "source": [
    "![widget](../images/cluster-widget-notebook.png)"
   ]
  },
  {
   "cell_type": "markdown",
   "metadata": {},
   "source": [
    "## Dask JupyterLab extension\n",
    "\n",
    "The Dask community maintains a [JupyterLab extension](https://github.com/dask/dask-labextension) which allows Dask dashboard plots to be embedded directly into a JupyterLab session. Viewing diagnostic plots in JupyterLab instead of in a separate browser tab or window is often a better user experience.\n",
    "\n",
    ":::{note}\n",
    "The Dask JupyterLab extension is automatically installed with `coiled-runtime`. If you are using dask-labextension versions 2.x, see the installation section of the [Dask JupyterLab Extension README file](https://github.com/dask/dask-labextension/blob/707ecb1dc0e4d0ef21e9cf57442db5768235dcd1/README.md).\n",
    ":::\n",
    "\n",
    "Open the Dask JupyterLab extension by clicking the Dask logo in the JupyterLab left sidebar. Then select the magnifying glass icon in the upper right-hand corner and copy and paste the address from the `Dashboard Address` in the cluster widget to connect the extension to your cluster.\n",
    "\n",
    "![jupyterlab extension](../images/jupyterlab-extension.png)\n",
    "\n",
    "Each orange button corresponds to a different diagnostic plot. Try clicking one of the buttons and then arranging the plots. See [this screencast](https://youtu.be/EX_voquHdk0?t=51) for a live demo.\n",
    "\n",
    "Once you've arranged the plots, you can see the Dashboard at work while running a Dask computation:"
   ]
  },
  {
   "cell_type": "code",
   "execution_count": null,
   "metadata": {},
   "outputs": [],
   "source": [
    "import dask\n",
    "\n",
    "# generate random timeseries of data\n",
    "df = dask.datasets.timeseries(\"2000\", \"2005\", partition_freq=\"2w\").persist()\n",
    "\n",
    "# perform a groupby with an aggregation\n",
    "df.groupby(\"name\").aggregate({\"x\": \"sum\", \"y\": \"max\"}).compute()"
   ]
  },
  {
   "cell_type": "markdown",
   "metadata": {},
   "source": [
    "See the [Dask documentation](https://docs.dask.org/en/stable/dashboard.html) for more details on intrepreting the Dask dashboard. Once you've completed your work, you can shutdown your cluster:"
   ]
  },
  {
   "cell_type": "code",
   "execution_count": null,
   "metadata": {},
   "outputs": [],
   "source": [
    "# close the cluster\n",
    "cluster.close()\n",
    "# close the connection to the client\n",
    "client.close()"
   ]
  }
 ],
 "metadata": {
  "kernelspec": {
   "display_name": "coiled-dev",
   "language": "python",
   "name": "python3"
  },
  "language_info": {
   "codemirror_mode": {
    "name": "ipython",
    "version": 3
   },
   "file_extension": ".py",
   "mimetype": "text/x-python",
   "name": "python",
   "nbconvert_exporter": "python",
   "pygments_lexer": "ipython3",
   "version": "3.9.13 | packaged by conda-forge | (main, May 27 2022, 17:01:00) \n[Clang 13.0.1 ]"
  },
  "vscode": {
   "interpreter": {
    "hash": "639fc43ad0df21e5ff15aab96a77a9bcd368f536a42d353336cc030447ec45cb"
   }
  }
 },
 "nbformat": 4,
 "nbformat_minor": 4
}
