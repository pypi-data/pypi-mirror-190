{
 "cells": [
  {
   "cell_type": "markdown",
   "id": "75b0365b",
   "metadata": {
    "pycharm": {
     "name": "#%% md\n"
    }
   },
   "source": [
    "# UEQ+ Data Analysis Tool\n",
    "\n",
    "The goal of this tool is to make the analysis of UEQ+ (Modular extension of the User Experience Questionnaire) data as easy as possible for you. The UEQ+ is a set of scales that can combined to form a concrete UX questionnaire. Thus, it is possible to create a questionnaire that fits exactly to the needs of the evaluated product.\n",
    "\n",
    "Each scale consists of 4 items that measure the impression of subject towards the UX aspect represented by the scale and a single item that measures the relevance or importance of the scale for the subject. \n",
    "\n",
    "This is an Python adaptation of the Excel UEQ+ Data Analysis Tool by Dr. Martin Schrepp. The original tool can be found here: \n",
    "\n",
    "https://ueqplus.ueq-research.org"
   ]
  },
  {
   "cell_type": "code",
   "execution_count": 1,
   "id": "7981e548",
   "metadata": {
    "pycharm": {
     "name": "#%%\n"
    }
   },
   "outputs": [],
   "source": [
    "from definitions import ROOT_DIR\n",
    "%load_ext autoreload\n",
    "%autoreload 2\n",
    "import os\n",
    "import sys\n",
    "\n",
    "\n",
    "module_path = os.path.abspath(os.path.join(ROOT_DIR, '/src/'))\n",
    "sys.path.insert(0, module_path)"
   ]
  },
  {
   "cell_type": "markdown",
   "id": "3fdd6b76",
   "metadata": {
    "pycharm": {
     "name": "#%% md\n"
    }
   },
   "source": [
    "# Importing the data"
   ]
  },
  {
   "cell_type": "code",
   "execution_count": 2,
   "id": "a0dbeaa3",
   "metadata": {
    "pycharm": {
     "name": "#%%\n"
    }
   },
   "outputs": [
    {
     "data": {
      "text/plain": "dict_keys(['quality_of_content', 'trustworthiness', 'clarity', 'usefulness', 'dependability', 'importance_of_scales'])"
     },
     "execution_count": 2,
     "metadata": {},
     "output_type": "execute_result"
    }
   ],
   "source": [
    "from src.ueqplusanalyze.analyzer import read_in_ueq_observed_data\n",
    "ueq = {\n",
    "    'quality_of_content': [\"UP01_01\", \"UP01_02\", \"UP01_03\", \"UP01_04\"],\n",
    "    'trustworthiness': [\"UP02_01\", \"UP02_02\", \"UP02_03\", \"UP02_04\"],\n",
    "    'clarity': [\"UP04_01\", \"UP04_02\", \"UP04_03\", \"UP04_04\"],\n",
    "    'usefulness': [\"UP05_01\", \"UP05_02\", \"UP05_03\", \"UP05_04\"],\n",
    "    'dependability': [\"UP06_01\", \"UP06_02\", \"UP06_03\", \"UP06_04\"],\n",
    "    'importance_of_scales': [\"UP01_05\", \"UP02_05\", \"UP04_05\", \"UP05_05\", \"UP06_05\"]\n",
    "}\n",
    "\n",
    "path_to_data = os.path.join(ROOT_DIR, 'data/ueq_export.csv')\n",
    "ueq_observed_ratings = read_in_ueq_observed_data(path_to_data)\n",
    "ueq.keys()"
   ]
  },
  {
   "cell_type": "markdown",
   "id": "36eda969",
   "metadata": {
    "pycharm": {
     "name": "#%% md\n"
    }
   },
   "source": [
    "# Data_Items\n",
    "\n",
    "For each scale the UEQ+ collects ratings for 4 items and one rating for the overall importance of the scale.  \n",
    "The value range goes from 1 (if the alternative on the extreme left is marked) to 7 (if the alternative on the extreme right is marked). \t"
   ]
  },
  {
   "cell_type": "markdown",
   "id": "8f1b6396",
   "metadata": {
    "pycharm": {
     "name": "#%% md\n"
    }
   },
   "source": [
    "## Observed item ratings"
   ]
  },
  {
   "cell_type": "code",
   "execution_count": 3,
   "id": "28a3f640",
   "metadata": {
    "pycharm": {
     "name": "#%%\n"
    }
   },
   "outputs": [
    {
     "data": {
      "text/plain": "   quality_of_content                         trustworthiness                  \\\n              UP01_01 UP01_02 UP01_03 UP01_04         UP02_01 UP02_02 UP02_03   \n0                   7       6       6       6               6       6       6   \n1                   6       5       7       7               6       7       7   \n2                   6       4       6       6               4       4       4   \n3                   7       5       6       6               6       6       5   \n4                   2       7       3       7               5       7       5   \n5                   7       6       5       7               6       6       7   \n6                   7       7       7       7               7       7       7   \n7                   6       4       7       7               5       7       7   \n8                   4       5       6       7               5       6       6   \n9                   6       5       4       4               4       5       5   \n10                  7       5       5       5               6       4       6   \n11                  4       5       4       5               6       5       5   \n12                  6       3       4       3               2       6       6   \n13                  7       5       5       4               5       4       4   \n14                  4       6       6       6               6       4       5   \n\n           clarity                         usefulness                          \\\n   UP02_04 UP04_01 UP04_02 UP04_03 UP04_04    UP05_01 UP05_02 UP05_03 UP05_04   \n0        6       7       7       7       7          6       7       7       7   \n1        6       7       7       7       7          5       6       6       6   \n2        4       6       6       6       6          6       6       6       4   \n3        5       6       7       7       6          5       6       5       4   \n4        2       6       6       6       6          7       7       7       7   \n5        7       6       6       7       6          6       7       7       6   \n6        7       5       5       2       6          7       7       7       7   \n7        7       6       7       7       7          7       7       5       6   \n8        6       6       6       6       6          6       6       6       5   \n9        5       3       3       4       4          4       5       4       5   \n10       4       5       4       5       3          6       6       7       6   \n11       4       6       6       5       5          4       3       3       4   \n12       4       7       7       7       7          2       2       4       2   \n13       4       5       6       6       6          5       5       5       4   \n14       4       7       7       7       7          6       6       6       5   \n\n   dependability                          \n         UP06_01 UP06_02 UP06_03 UP06_04  \n0              6       7       6       7  \n1              7       7       7       7  \n2              5       6       5       4  \n3              6       6       5       5  \n4              5       7       5       7  \n5              6       7       7       7  \n6              2       6       4       3  \n7              5       6       6       5  \n8              6       6       6       5  \n9              5       5       5       6  \n10             4       5       6       7  \n11             5       6       6       6  \n12             5       6       7       6  \n13             5       4       5       4  \n14             7       6       7       6  ",
      "text/html": "<div>\n<style scoped>\n    .dataframe tbody tr th:only-of-type {\n        vertical-align: middle;\n    }\n\n    .dataframe tbody tr th {\n        vertical-align: top;\n    }\n\n    .dataframe thead tr th {\n        text-align: left;\n    }\n</style>\n<table border=\"1\" class=\"dataframe\">\n  <thead>\n    <tr>\n      <th></th>\n      <th colspan=\"4\" halign=\"left\">quality_of_content</th>\n      <th colspan=\"4\" halign=\"left\">trustworthiness</th>\n      <th colspan=\"4\" halign=\"left\">clarity</th>\n      <th colspan=\"4\" halign=\"left\">usefulness</th>\n      <th colspan=\"4\" halign=\"left\">dependability</th>\n    </tr>\n    <tr>\n      <th></th>\n      <th>UP01_01</th>\n      <th>UP01_02</th>\n      <th>UP01_03</th>\n      <th>UP01_04</th>\n      <th>UP02_01</th>\n      <th>UP02_02</th>\n      <th>UP02_03</th>\n      <th>UP02_04</th>\n      <th>UP04_01</th>\n      <th>UP04_02</th>\n      <th>UP04_03</th>\n      <th>UP04_04</th>\n      <th>UP05_01</th>\n      <th>UP05_02</th>\n      <th>UP05_03</th>\n      <th>UP05_04</th>\n      <th>UP06_01</th>\n      <th>UP06_02</th>\n      <th>UP06_03</th>\n      <th>UP06_04</th>\n    </tr>\n  </thead>\n  <tbody>\n    <tr>\n      <th>0</th>\n      <td>7</td>\n      <td>6</td>\n      <td>6</td>\n      <td>6</td>\n      <td>6</td>\n      <td>6</td>\n      <td>6</td>\n      <td>6</td>\n      <td>7</td>\n      <td>7</td>\n      <td>7</td>\n      <td>7</td>\n      <td>6</td>\n      <td>7</td>\n      <td>7</td>\n      <td>7</td>\n      <td>6</td>\n      <td>7</td>\n      <td>6</td>\n      <td>7</td>\n    </tr>\n    <tr>\n      <th>1</th>\n      <td>6</td>\n      <td>5</td>\n      <td>7</td>\n      <td>7</td>\n      <td>6</td>\n      <td>7</td>\n      <td>7</td>\n      <td>6</td>\n      <td>7</td>\n      <td>7</td>\n      <td>7</td>\n      <td>7</td>\n      <td>5</td>\n      <td>6</td>\n      <td>6</td>\n      <td>6</td>\n      <td>7</td>\n      <td>7</td>\n      <td>7</td>\n      <td>7</td>\n    </tr>\n    <tr>\n      <th>2</th>\n      <td>6</td>\n      <td>4</td>\n      <td>6</td>\n      <td>6</td>\n      <td>4</td>\n      <td>4</td>\n      <td>4</td>\n      <td>4</td>\n      <td>6</td>\n      <td>6</td>\n      <td>6</td>\n      <td>6</td>\n      <td>6</td>\n      <td>6</td>\n      <td>6</td>\n      <td>4</td>\n      <td>5</td>\n      <td>6</td>\n      <td>5</td>\n      <td>4</td>\n    </tr>\n    <tr>\n      <th>3</th>\n      <td>7</td>\n      <td>5</td>\n      <td>6</td>\n      <td>6</td>\n      <td>6</td>\n      <td>6</td>\n      <td>5</td>\n      <td>5</td>\n      <td>6</td>\n      <td>7</td>\n      <td>7</td>\n      <td>6</td>\n      <td>5</td>\n      <td>6</td>\n      <td>5</td>\n      <td>4</td>\n      <td>6</td>\n      <td>6</td>\n      <td>5</td>\n      <td>5</td>\n    </tr>\n    <tr>\n      <th>4</th>\n      <td>2</td>\n      <td>7</td>\n      <td>3</td>\n      <td>7</td>\n      <td>5</td>\n      <td>7</td>\n      <td>5</td>\n      <td>2</td>\n      <td>6</td>\n      <td>6</td>\n      <td>6</td>\n      <td>6</td>\n      <td>7</td>\n      <td>7</td>\n      <td>7</td>\n      <td>7</td>\n      <td>5</td>\n      <td>7</td>\n      <td>5</td>\n      <td>7</td>\n    </tr>\n    <tr>\n      <th>5</th>\n      <td>7</td>\n      <td>6</td>\n      <td>5</td>\n      <td>7</td>\n      <td>6</td>\n      <td>6</td>\n      <td>7</td>\n      <td>7</td>\n      <td>6</td>\n      <td>6</td>\n      <td>7</td>\n      <td>6</td>\n      <td>6</td>\n      <td>7</td>\n      <td>7</td>\n      <td>6</td>\n      <td>6</td>\n      <td>7</td>\n      <td>7</td>\n      <td>7</td>\n    </tr>\n    <tr>\n      <th>6</th>\n      <td>7</td>\n      <td>7</td>\n      <td>7</td>\n      <td>7</td>\n      <td>7</td>\n      <td>7</td>\n      <td>7</td>\n      <td>7</td>\n      <td>5</td>\n      <td>5</td>\n      <td>2</td>\n      <td>6</td>\n      <td>7</td>\n      <td>7</td>\n      <td>7</td>\n      <td>7</td>\n      <td>2</td>\n      <td>6</td>\n      <td>4</td>\n      <td>3</td>\n    </tr>\n    <tr>\n      <th>7</th>\n      <td>6</td>\n      <td>4</td>\n      <td>7</td>\n      <td>7</td>\n      <td>5</td>\n      <td>7</td>\n      <td>7</td>\n      <td>7</td>\n      <td>6</td>\n      <td>7</td>\n      <td>7</td>\n      <td>7</td>\n      <td>7</td>\n      <td>7</td>\n      <td>5</td>\n      <td>6</td>\n      <td>5</td>\n      <td>6</td>\n      <td>6</td>\n      <td>5</td>\n    </tr>\n    <tr>\n      <th>8</th>\n      <td>4</td>\n      <td>5</td>\n      <td>6</td>\n      <td>7</td>\n      <td>5</td>\n      <td>6</td>\n      <td>6</td>\n      <td>6</td>\n      <td>6</td>\n      <td>6</td>\n      <td>6</td>\n      <td>6</td>\n      <td>6</td>\n      <td>6</td>\n      <td>6</td>\n      <td>5</td>\n      <td>6</td>\n      <td>6</td>\n      <td>6</td>\n      <td>5</td>\n    </tr>\n    <tr>\n      <th>9</th>\n      <td>6</td>\n      <td>5</td>\n      <td>4</td>\n      <td>4</td>\n      <td>4</td>\n      <td>5</td>\n      <td>5</td>\n      <td>5</td>\n      <td>3</td>\n      <td>3</td>\n      <td>4</td>\n      <td>4</td>\n      <td>4</td>\n      <td>5</td>\n      <td>4</td>\n      <td>5</td>\n      <td>5</td>\n      <td>5</td>\n      <td>5</td>\n      <td>6</td>\n    </tr>\n    <tr>\n      <th>10</th>\n      <td>7</td>\n      <td>5</td>\n      <td>5</td>\n      <td>5</td>\n      <td>6</td>\n      <td>4</td>\n      <td>6</td>\n      <td>4</td>\n      <td>5</td>\n      <td>4</td>\n      <td>5</td>\n      <td>3</td>\n      <td>6</td>\n      <td>6</td>\n      <td>7</td>\n      <td>6</td>\n      <td>4</td>\n      <td>5</td>\n      <td>6</td>\n      <td>7</td>\n    </tr>\n    <tr>\n      <th>11</th>\n      <td>4</td>\n      <td>5</td>\n      <td>4</td>\n      <td>5</td>\n      <td>6</td>\n      <td>5</td>\n      <td>5</td>\n      <td>4</td>\n      <td>6</td>\n      <td>6</td>\n      <td>5</td>\n      <td>5</td>\n      <td>4</td>\n      <td>3</td>\n      <td>3</td>\n      <td>4</td>\n      <td>5</td>\n      <td>6</td>\n      <td>6</td>\n      <td>6</td>\n    </tr>\n    <tr>\n      <th>12</th>\n      <td>6</td>\n      <td>3</td>\n      <td>4</td>\n      <td>3</td>\n      <td>2</td>\n      <td>6</td>\n      <td>6</td>\n      <td>4</td>\n      <td>7</td>\n      <td>7</td>\n      <td>7</td>\n      <td>7</td>\n      <td>2</td>\n      <td>2</td>\n      <td>4</td>\n      <td>2</td>\n      <td>5</td>\n      <td>6</td>\n      <td>7</td>\n      <td>6</td>\n    </tr>\n    <tr>\n      <th>13</th>\n      <td>7</td>\n      <td>5</td>\n      <td>5</td>\n      <td>4</td>\n      <td>5</td>\n      <td>4</td>\n      <td>4</td>\n      <td>4</td>\n      <td>5</td>\n      <td>6</td>\n      <td>6</td>\n      <td>6</td>\n      <td>5</td>\n      <td>5</td>\n      <td>5</td>\n      <td>4</td>\n      <td>5</td>\n      <td>4</td>\n      <td>5</td>\n      <td>4</td>\n    </tr>\n    <tr>\n      <th>14</th>\n      <td>4</td>\n      <td>6</td>\n      <td>6</td>\n      <td>6</td>\n      <td>6</td>\n      <td>4</td>\n      <td>5</td>\n      <td>4</td>\n      <td>7</td>\n      <td>7</td>\n      <td>7</td>\n      <td>7</td>\n      <td>6</td>\n      <td>6</td>\n      <td>6</td>\n      <td>5</td>\n      <td>7</td>\n      <td>6</td>\n      <td>7</td>\n      <td>6</td>\n    </tr>\n  </tbody>\n</table>\n</div>"
     },
     "execution_count": 3,
     "metadata": {},
     "output_type": "execute_result"
    }
   ],
   "source": [
    "from src.ueqplusanalyze.analyzer import get_observed_item_ratings\n",
    "\n",
    "observed_item_ratings_result = get_observed_item_ratings(ueq_observed_ratings, ueq)\n",
    "observed_item_ratings_result"
   ]
  },
  {
   "cell_type": "markdown",
   "id": "25580b9d",
   "metadata": {
    "pycharm": {
     "name": "#%% md\n"
    }
   },
   "source": [
    "## Scale means per participant"
   ]
  },
  {
   "cell_type": "code",
   "execution_count": 4,
   "id": "ae103a7e",
   "metadata": {
    "pycharm": {
     "name": "#%%\n"
    }
   },
   "outputs": [
    {
     "data": {
      "text/plain": "    quality_of_content  trustworthiness  clarity  usefulness  dependability\n0                 6.25             6.00     7.00        6.75           6.50\n1                 6.25             6.50     7.00        5.75           7.00\n2                 5.50             4.00     6.00        5.50           5.00\n3                 6.00             5.50     6.50        5.00           5.50\n4                 4.75             4.75     6.00        7.00           6.00\n5                 6.25             6.50     6.25        6.50           6.75\n6                 7.00             7.00     4.50        7.00           3.75\n7                 6.00             6.50     6.75        6.25           5.50\n8                 5.50             5.75     6.00        5.75           5.75\n9                 4.75             4.75     3.50        4.50           5.25\n10                5.50             5.00     4.25        6.25           5.50\n11                4.50             5.00     5.50        3.50           5.75\n12                4.00             4.50     7.00        2.50           6.00\n13                5.25             4.25     5.75        4.75           4.50\n14                5.50             4.75     7.00        5.75           6.50",
      "text/html": "<div>\n<style scoped>\n    .dataframe tbody tr th:only-of-type {\n        vertical-align: middle;\n    }\n\n    .dataframe tbody tr th {\n        vertical-align: top;\n    }\n\n    .dataframe thead th {\n        text-align: right;\n    }\n</style>\n<table border=\"1\" class=\"dataframe\">\n  <thead>\n    <tr style=\"text-align: right;\">\n      <th></th>\n      <th>quality_of_content</th>\n      <th>trustworthiness</th>\n      <th>clarity</th>\n      <th>usefulness</th>\n      <th>dependability</th>\n    </tr>\n  </thead>\n  <tbody>\n    <tr>\n      <th>0</th>\n      <td>6.25</td>\n      <td>6.00</td>\n      <td>7.00</td>\n      <td>6.75</td>\n      <td>6.50</td>\n    </tr>\n    <tr>\n      <th>1</th>\n      <td>6.25</td>\n      <td>6.50</td>\n      <td>7.00</td>\n      <td>5.75</td>\n      <td>7.00</td>\n    </tr>\n    <tr>\n      <th>2</th>\n      <td>5.50</td>\n      <td>4.00</td>\n      <td>6.00</td>\n      <td>5.50</td>\n      <td>5.00</td>\n    </tr>\n    <tr>\n      <th>3</th>\n      <td>6.00</td>\n      <td>5.50</td>\n      <td>6.50</td>\n      <td>5.00</td>\n      <td>5.50</td>\n    </tr>\n    <tr>\n      <th>4</th>\n      <td>4.75</td>\n      <td>4.75</td>\n      <td>6.00</td>\n      <td>7.00</td>\n      <td>6.00</td>\n    </tr>\n    <tr>\n      <th>5</th>\n      <td>6.25</td>\n      <td>6.50</td>\n      <td>6.25</td>\n      <td>6.50</td>\n      <td>6.75</td>\n    </tr>\n    <tr>\n      <th>6</th>\n      <td>7.00</td>\n      <td>7.00</td>\n      <td>4.50</td>\n      <td>7.00</td>\n      <td>3.75</td>\n    </tr>\n    <tr>\n      <th>7</th>\n      <td>6.00</td>\n      <td>6.50</td>\n      <td>6.75</td>\n      <td>6.25</td>\n      <td>5.50</td>\n    </tr>\n    <tr>\n      <th>8</th>\n      <td>5.50</td>\n      <td>5.75</td>\n      <td>6.00</td>\n      <td>5.75</td>\n      <td>5.75</td>\n    </tr>\n    <tr>\n      <th>9</th>\n      <td>4.75</td>\n      <td>4.75</td>\n      <td>3.50</td>\n      <td>4.50</td>\n      <td>5.25</td>\n    </tr>\n    <tr>\n      <th>10</th>\n      <td>5.50</td>\n      <td>5.00</td>\n      <td>4.25</td>\n      <td>6.25</td>\n      <td>5.50</td>\n    </tr>\n    <tr>\n      <th>11</th>\n      <td>4.50</td>\n      <td>5.00</td>\n      <td>5.50</td>\n      <td>3.50</td>\n      <td>5.75</td>\n    </tr>\n    <tr>\n      <th>12</th>\n      <td>4.00</td>\n      <td>4.50</td>\n      <td>7.00</td>\n      <td>2.50</td>\n      <td>6.00</td>\n    </tr>\n    <tr>\n      <th>13</th>\n      <td>5.25</td>\n      <td>4.25</td>\n      <td>5.75</td>\n      <td>4.75</td>\n      <td>4.50</td>\n    </tr>\n    <tr>\n      <th>14</th>\n      <td>5.50</td>\n      <td>4.75</td>\n      <td>7.00</td>\n      <td>5.75</td>\n      <td>6.50</td>\n    </tr>\n  </tbody>\n</table>\n</div>"
     },
     "execution_count": 4,
     "metadata": {},
     "output_type": "execute_result"
    }
   ],
   "source": [
    "from src.ueqplusanalyze.analyzer import scale_means_per_participant\n",
    "\n",
    "scale_means_per_participant_result = scale_means_per_participant(ueq_observed_ratings, ueq)\n",
    "scale_means_per_participant_result"
   ]
  },
  {
   "cell_type": "markdown",
   "id": "17516d7d",
   "metadata": {
    "pycharm": {
     "name": "#%% md\n"
    }
   },
   "source": [
    "# Data_Importance\n",
    "\n",
    "For each scale the UEQ+ collects ratings for 4 items and one rating for the overall importance of the scale.  \n",
    "The value range goes from 1 (if the alternative on the extreme left is marked) to 7 (if the alternative on the extreme right is marked). \t\t\t\t\t"
   ]
  },
  {
   "cell_type": "markdown",
   "id": "03415fe2",
   "metadata": {
    "pycharm": {
     "name": "#%% md\n"
    }
   },
   "source": [
    "## Observed importance ratings"
   ]
  },
  {
   "cell_type": "code",
   "execution_count": 5,
   "id": "986c391f",
   "metadata": {
    "pycharm": {
     "name": "#%%\n"
    }
   },
   "outputs": [
    {
     "data": {
      "text/plain": "    quality_of_content  trustworthiness  clarity  usefulness  dependability\n0                    7                6        7           6              7\n1                    6                7        5           5              6\n2                    6                6        7           6              6\n3                    6                6        7           5              6\n4                    7                7        6           7              6\n5                    7                6        7           6              5\n6                    7                7        7           7              7\n7                    7                7        7           7              6\n8                    5                7        5           6              6\n9                    5                7        6           5              5\n10                   5                5        5           6              6\n11                   4                4        4           4              5\n12                   4                4        6           2              3\n13                   3                5        6           5              4\n14                   6                6        7           5              6",
      "text/html": "<div>\n<style scoped>\n    .dataframe tbody tr th:only-of-type {\n        vertical-align: middle;\n    }\n\n    .dataframe tbody tr th {\n        vertical-align: top;\n    }\n\n    .dataframe thead th {\n        text-align: right;\n    }\n</style>\n<table border=\"1\" class=\"dataframe\">\n  <thead>\n    <tr style=\"text-align: right;\">\n      <th></th>\n      <th>quality_of_content</th>\n      <th>trustworthiness</th>\n      <th>clarity</th>\n      <th>usefulness</th>\n      <th>dependability</th>\n    </tr>\n  </thead>\n  <tbody>\n    <tr>\n      <th>0</th>\n      <td>7</td>\n      <td>6</td>\n      <td>7</td>\n      <td>6</td>\n      <td>7</td>\n    </tr>\n    <tr>\n      <th>1</th>\n      <td>6</td>\n      <td>7</td>\n      <td>5</td>\n      <td>5</td>\n      <td>6</td>\n    </tr>\n    <tr>\n      <th>2</th>\n      <td>6</td>\n      <td>6</td>\n      <td>7</td>\n      <td>6</td>\n      <td>6</td>\n    </tr>\n    <tr>\n      <th>3</th>\n      <td>6</td>\n      <td>6</td>\n      <td>7</td>\n      <td>5</td>\n      <td>6</td>\n    </tr>\n    <tr>\n      <th>4</th>\n      <td>7</td>\n      <td>7</td>\n      <td>6</td>\n      <td>7</td>\n      <td>6</td>\n    </tr>\n    <tr>\n      <th>5</th>\n      <td>7</td>\n      <td>6</td>\n      <td>7</td>\n      <td>6</td>\n      <td>5</td>\n    </tr>\n    <tr>\n      <th>6</th>\n      <td>7</td>\n      <td>7</td>\n      <td>7</td>\n      <td>7</td>\n      <td>7</td>\n    </tr>\n    <tr>\n      <th>7</th>\n      <td>7</td>\n      <td>7</td>\n      <td>7</td>\n      <td>7</td>\n      <td>6</td>\n    </tr>\n    <tr>\n      <th>8</th>\n      <td>5</td>\n      <td>7</td>\n      <td>5</td>\n      <td>6</td>\n      <td>6</td>\n    </tr>\n    <tr>\n      <th>9</th>\n      <td>5</td>\n      <td>7</td>\n      <td>6</td>\n      <td>5</td>\n      <td>5</td>\n    </tr>\n    <tr>\n      <th>10</th>\n      <td>5</td>\n      <td>5</td>\n      <td>5</td>\n      <td>6</td>\n      <td>6</td>\n    </tr>\n    <tr>\n      <th>11</th>\n      <td>4</td>\n      <td>4</td>\n      <td>4</td>\n      <td>4</td>\n      <td>5</td>\n    </tr>\n    <tr>\n      <th>12</th>\n      <td>4</td>\n      <td>4</td>\n      <td>6</td>\n      <td>2</td>\n      <td>3</td>\n    </tr>\n    <tr>\n      <th>13</th>\n      <td>3</td>\n      <td>5</td>\n      <td>6</td>\n      <td>5</td>\n      <td>4</td>\n    </tr>\n    <tr>\n      <th>14</th>\n      <td>6</td>\n      <td>6</td>\n      <td>7</td>\n      <td>5</td>\n      <td>6</td>\n    </tr>\n  </tbody>\n</table>\n</div>"
     },
     "execution_count": 5,
     "metadata": {},
     "output_type": "execute_result"
    }
   ],
   "source": [
    "from src.ueqplusanalyze.analyzer import get_observed_importance_ratings\n",
    "\n",
    "observed_importance_ratings_result = get_observed_importance_ratings(ueq_observed_ratings, ueq)\n",
    "observed_importance_ratings_result"
   ]
  },
  {
   "cell_type": "markdown",
   "id": "bbb64cc6",
   "metadata": {
    "pycharm": {
     "name": "#%% md\n"
    }
   },
   "source": [
    "## Relative importance ratings"
   ]
  },
  {
   "cell_type": "code",
   "execution_count": 6,
   "id": "5b80de2c",
   "metadata": {
    "pycharm": {
     "name": "#%%\n"
    }
   },
   "outputs": [
    {
     "data": {
      "text/plain": "    quality_of_content  trustworthiness  clarity  usefulness  dependability\n0                 0.21             0.18     0.21        0.18           0.21\n1                 0.21             0.24     0.17        0.17           0.21\n2                 0.19             0.19     0.23        0.19           0.19\n3                 0.20             0.20     0.23        0.17           0.20\n4                 0.21             0.21     0.18        0.21           0.18\n5                 0.23             0.19     0.23        0.19           0.16\n6                 0.20             0.20     0.20        0.20           0.20\n7                 0.21             0.21     0.21        0.21           0.18\n8                 0.17             0.24     0.17        0.21           0.21\n9                 0.18             0.25     0.21        0.18           0.18\n10                0.19             0.19     0.19        0.22           0.22\n11                0.19             0.19     0.19        0.19           0.24\n12                0.21             0.21     0.32        0.11           0.16\n13                0.13             0.22     0.26        0.22           0.17\n14                0.20             0.20     0.23        0.17           0.20",
      "text/html": "<div>\n<style scoped>\n    .dataframe tbody tr th:only-of-type {\n        vertical-align: middle;\n    }\n\n    .dataframe tbody tr th {\n        vertical-align: top;\n    }\n\n    .dataframe thead th {\n        text-align: right;\n    }\n</style>\n<table border=\"1\" class=\"dataframe\">\n  <thead>\n    <tr style=\"text-align: right;\">\n      <th></th>\n      <th>quality_of_content</th>\n      <th>trustworthiness</th>\n      <th>clarity</th>\n      <th>usefulness</th>\n      <th>dependability</th>\n    </tr>\n  </thead>\n  <tbody>\n    <tr>\n      <th>0</th>\n      <td>0.21</td>\n      <td>0.18</td>\n      <td>0.21</td>\n      <td>0.18</td>\n      <td>0.21</td>\n    </tr>\n    <tr>\n      <th>1</th>\n      <td>0.21</td>\n      <td>0.24</td>\n      <td>0.17</td>\n      <td>0.17</td>\n      <td>0.21</td>\n    </tr>\n    <tr>\n      <th>2</th>\n      <td>0.19</td>\n      <td>0.19</td>\n      <td>0.23</td>\n      <td>0.19</td>\n      <td>0.19</td>\n    </tr>\n    <tr>\n      <th>3</th>\n      <td>0.20</td>\n      <td>0.20</td>\n      <td>0.23</td>\n      <td>0.17</td>\n      <td>0.20</td>\n    </tr>\n    <tr>\n      <th>4</th>\n      <td>0.21</td>\n      <td>0.21</td>\n      <td>0.18</td>\n      <td>0.21</td>\n      <td>0.18</td>\n    </tr>\n    <tr>\n      <th>5</th>\n      <td>0.23</td>\n      <td>0.19</td>\n      <td>0.23</td>\n      <td>0.19</td>\n      <td>0.16</td>\n    </tr>\n    <tr>\n      <th>6</th>\n      <td>0.20</td>\n      <td>0.20</td>\n      <td>0.20</td>\n      <td>0.20</td>\n      <td>0.20</td>\n    </tr>\n    <tr>\n      <th>7</th>\n      <td>0.21</td>\n      <td>0.21</td>\n      <td>0.21</td>\n      <td>0.21</td>\n      <td>0.18</td>\n    </tr>\n    <tr>\n      <th>8</th>\n      <td>0.17</td>\n      <td>0.24</td>\n      <td>0.17</td>\n      <td>0.21</td>\n      <td>0.21</td>\n    </tr>\n    <tr>\n      <th>9</th>\n      <td>0.18</td>\n      <td>0.25</td>\n      <td>0.21</td>\n      <td>0.18</td>\n      <td>0.18</td>\n    </tr>\n    <tr>\n      <th>10</th>\n      <td>0.19</td>\n      <td>0.19</td>\n      <td>0.19</td>\n      <td>0.22</td>\n      <td>0.22</td>\n    </tr>\n    <tr>\n      <th>11</th>\n      <td>0.19</td>\n      <td>0.19</td>\n      <td>0.19</td>\n      <td>0.19</td>\n      <td>0.24</td>\n    </tr>\n    <tr>\n      <th>12</th>\n      <td>0.21</td>\n      <td>0.21</td>\n      <td>0.32</td>\n      <td>0.11</td>\n      <td>0.16</td>\n    </tr>\n    <tr>\n      <th>13</th>\n      <td>0.13</td>\n      <td>0.22</td>\n      <td>0.26</td>\n      <td>0.22</td>\n      <td>0.17</td>\n    </tr>\n    <tr>\n      <th>14</th>\n      <td>0.20</td>\n      <td>0.20</td>\n      <td>0.23</td>\n      <td>0.17</td>\n      <td>0.20</td>\n    </tr>\n  </tbody>\n</table>\n</div>"
     },
     "execution_count": 6,
     "metadata": {},
     "output_type": "execute_result"
    }
   ],
   "source": [
    "from src.ueqplusanalyze.analyzer import relative_importance_ratings\n",
    "\n",
    "relative_importance_ratings_result = relative_importance_ratings(ueq_observed_ratings, ueq)\n",
    "relative_importance_ratings_result"
   ]
  },
  {
   "cell_type": "markdown",
   "id": "8c71bce4",
   "metadata": {
    "pycharm": {
     "name": "#%% md\n"
    }
   },
   "source": [
    "# Means\n",
    "\n",
    "Here means for the scales (mean over all items in a scale), standard deviations and confidence intervalls are calculated.\n",
    "\n",
    "The mean values are transformed from a 1 to 7 range to a -3 to +3 range to be compatible with the reporting format of the original UEQ.\t\t\t\t\t\t\t\t\t\t\t\t"
   ]
  },
  {
   "cell_type": "markdown",
   "id": "43f67c05",
   "metadata": {
    "pycharm": {
     "name": "#%% md\n"
    }
   },
   "source": [
    "## Mean and confidence interval per scale"
   ]
  },
  {
   "cell_type": "code",
   "execution_count": 7,
   "id": "7b345ce8",
   "metadata": {
    "pycharm": {
     "name": "#%%\n"
    }
   },
   "outputs": [
    {
     "data": {
      "text/plain": "                    mean  variance  std_dev   n  confidence  \\\nquality_of_content  1.53      1.68     1.28  15        0.65   \ntrustworthiness     1.38      1.53     1.23  15        0.62   \nclarity             1.93      1.42     1.18  15        0.60   \nusefulness          1.52      1.88     1.36  15        0.69   \ndependability       1.68      1.20     1.09  15        0.55   \n\n                   confidence_interval  \nquality_of_content        [0.88, 2.18]  \ntrustworthiness            [0.76, 2.0]  \nclarity                   [1.34, 2.53]  \nusefulness                 [0.83, 2.2]  \ndependability             [1.13, 2.23]  ",
      "text/html": "<div>\n<style scoped>\n    .dataframe tbody tr th:only-of-type {\n        vertical-align: middle;\n    }\n\n    .dataframe tbody tr th {\n        vertical-align: top;\n    }\n\n    .dataframe thead th {\n        text-align: right;\n    }\n</style>\n<table border=\"1\" class=\"dataframe\">\n  <thead>\n    <tr style=\"text-align: right;\">\n      <th></th>\n      <th>mean</th>\n      <th>variance</th>\n      <th>std_dev</th>\n      <th>n</th>\n      <th>confidence</th>\n      <th>confidence_interval</th>\n    </tr>\n  </thead>\n  <tbody>\n    <tr>\n      <th>quality_of_content</th>\n      <td>1.53</td>\n      <td>1.68</td>\n      <td>1.28</td>\n      <td>15</td>\n      <td>0.65</td>\n      <td>[0.88, 2.18]</td>\n    </tr>\n    <tr>\n      <th>trustworthiness</th>\n      <td>1.38</td>\n      <td>1.53</td>\n      <td>1.23</td>\n      <td>15</td>\n      <td>0.62</td>\n      <td>[0.76, 2.0]</td>\n    </tr>\n    <tr>\n      <th>clarity</th>\n      <td>1.93</td>\n      <td>1.42</td>\n      <td>1.18</td>\n      <td>15</td>\n      <td>0.60</td>\n      <td>[1.34, 2.53]</td>\n    </tr>\n    <tr>\n      <th>usefulness</th>\n      <td>1.52</td>\n      <td>1.88</td>\n      <td>1.36</td>\n      <td>15</td>\n      <td>0.69</td>\n      <td>[0.83, 2.2]</td>\n    </tr>\n    <tr>\n      <th>dependability</th>\n      <td>1.68</td>\n      <td>1.20</td>\n      <td>1.09</td>\n      <td>15</td>\n      <td>0.55</td>\n      <td>[1.13, 2.23]</td>\n    </tr>\n  </tbody>\n</table>\n</div>"
     },
     "execution_count": 7,
     "metadata": {},
     "output_type": "execute_result"
    }
   ],
   "source": [
    "from src.ueqplusanalyze.analyzer import mean_and_confidence_intervall_per_scale\n",
    "\n",
    "mean_and_confidence_intervall_per_scale_result = mean_and_confidence_intervall_per_scale(ueq_observed_ratings, ueq)\n",
    "mean_and_confidence_intervall_per_scale_result"
   ]
  },
  {
   "cell_type": "markdown",
   "id": "98956294",
   "metadata": {
    "pycharm": {
     "name": "#%% md\n"
    }
   },
   "source": [
    "## Mean importance ratings"
   ]
  },
  {
   "cell_type": "code",
   "execution_count": 8,
   "id": "2e0219c0",
   "metadata": {
    "pycharm": {
     "name": "#%%\n"
    }
   },
   "outputs": [
    {
     "data": {
      "text/plain": "                    mean  variance  std_dev   n  confidence  \\\nquality_of_content  1.67      1.67     1.25  15        0.63   \ntrustworthiness     2.00      1.14     1.03  15        0.52   \nclarity             2.13      0.98     0.96  15        0.48   \nusefulness          1.47      1.70     1.26  15        0.64   \ndependability       1.60      1.11     1.02  15        0.52   \n\n                   confidence_interval  \nquality_of_content         [1.04, 2.3]  \ntrustworthiness           [1.48, 2.52]  \nclarity                   [1.65, 2.62]  \nusefulness                 [0.83, 2.1]  \ndependability             [1.08, 2.12]  ",
      "text/html": "<div>\n<style scoped>\n    .dataframe tbody tr th:only-of-type {\n        vertical-align: middle;\n    }\n\n    .dataframe tbody tr th {\n        vertical-align: top;\n    }\n\n    .dataframe thead th {\n        text-align: right;\n    }\n</style>\n<table border=\"1\" class=\"dataframe\">\n  <thead>\n    <tr style=\"text-align: right;\">\n      <th></th>\n      <th>mean</th>\n      <th>variance</th>\n      <th>std_dev</th>\n      <th>n</th>\n      <th>confidence</th>\n      <th>confidence_interval</th>\n    </tr>\n  </thead>\n  <tbody>\n    <tr>\n      <th>quality_of_content</th>\n      <td>1.67</td>\n      <td>1.67</td>\n      <td>1.25</td>\n      <td>15</td>\n      <td>0.63</td>\n      <td>[1.04, 2.3]</td>\n    </tr>\n    <tr>\n      <th>trustworthiness</th>\n      <td>2.00</td>\n      <td>1.14</td>\n      <td>1.03</td>\n      <td>15</td>\n      <td>0.52</td>\n      <td>[1.48, 2.52]</td>\n    </tr>\n    <tr>\n      <th>clarity</th>\n      <td>2.13</td>\n      <td>0.98</td>\n      <td>0.96</td>\n      <td>15</td>\n      <td>0.48</td>\n      <td>[1.65, 2.62]</td>\n    </tr>\n    <tr>\n      <th>usefulness</th>\n      <td>1.47</td>\n      <td>1.70</td>\n      <td>1.26</td>\n      <td>15</td>\n      <td>0.64</td>\n      <td>[0.83, 2.1]</td>\n    </tr>\n    <tr>\n      <th>dependability</th>\n      <td>1.60</td>\n      <td>1.11</td>\n      <td>1.02</td>\n      <td>15</td>\n      <td>0.52</td>\n      <td>[1.08, 2.12]</td>\n    </tr>\n  </tbody>\n</table>\n</div>"
     },
     "execution_count": 8,
     "metadata": {},
     "output_type": "execute_result"
    }
   ],
   "source": [
    "from src.ueqplusanalyze.analyzer import mean_importance_ratings\n",
    "\n",
    "mean_importance_ratings_result = mean_importance_ratings(ueq_observed_ratings, ueq)\n",
    "mean_importance_ratings_result"
   ]
  },
  {
   "cell_type": "markdown",
   "id": "4e0760c7",
   "metadata": {
    "pycharm": {
     "name": "#%% md\n"
    }
   },
   "source": [
    "## Mean and confidence interval per item"
   ]
  },
  {
   "cell_type": "code",
   "execution_count": 9,
   "id": "c5c242f5",
   "metadata": {
    "pycharm": {
     "name": "#%%\n"
    }
   },
   "outputs": [
    {
     "data": {
      "text/plain": "                            mean  variance  std_dev   n  confidence  \\\nquality_of_content UP01_01  1.73      2.35     1.48  15        0.75   \n                   UP01_02  1.20      1.17     1.05  15        0.53   \n                   UP01_03  1.40      1.54     1.20  15        0.61   \n                   UP01_04  1.80      1.74     1.28  15        0.65   \ntrustworthiness    UP02_01  1.27      1.50     1.18  15        0.60   \n                   UP02_02  1.60      1.40     1.14  15        0.58   \n                   UP02_03  1.67      1.10     1.01  15        0.51   \n                   UP02_04  1.00      2.14     1.41  15        0.72   \nclarity            UP04_01  1.87      1.12     1.02  15        0.52   \n                   UP04_02  2.00      1.43     1.15  15        0.58   \n                   UP04_03  1.93      2.07     1.39  15        0.70   \n                   UP04_04  1.93      1.35     1.12  15        0.57   \nusefulness         UP05_01  1.47      1.84     1.31  15        0.66   \n                   UP05_02  1.73      2.21     1.44  15        0.73   \n                   UP05_03  1.67      1.67     1.25  15        0.63   \n                   UP05_04  1.20      2.03     1.38  15        0.70   \ndependability      UP06_01  1.27      1.50     1.18  15        0.60   \n                   UP06_02  2.00      0.71     0.82  15        0.41   \n                   UP06_03  1.80      0.89     0.91  15        0.46   \n                   UP06_04  1.67      1.67     1.25  15        0.63   \n\n                           confidence_interval  \nquality_of_content UP01_01        [0.98, 2.48]  \n                   UP01_02        [0.67, 1.73]  \n                   UP01_03        [0.79, 2.01]  \n                   UP01_04        [1.15, 2.45]  \ntrustworthiness    UP02_01        [0.67, 1.86]  \n                   UP02_02        [1.02, 2.18]  \n                   UP02_03        [1.16, 2.18]  \n                   UP02_04        [0.28, 1.72]  \nclarity            UP04_01        [1.35, 2.38]  \n                   UP04_02        [1.42, 2.58]  \n                   UP04_03        [1.23, 2.64]  \n                   UP04_04         [1.36, 2.5]  \nusefulness         UP05_01         [0.8, 2.13]  \n                   UP05_02        [1.01, 2.46]  \n                   UP05_03         [1.04, 2.3]  \n                   UP05_04          [0.5, 1.9]  \ndependability      UP06_01        [0.67, 1.86]  \n                   UP06_02        [1.59, 2.41]  \n                   UP06_03        [1.34, 2.26]  \n                   UP06_04         [1.04, 2.3]  ",
      "text/html": "<div>\n<style scoped>\n    .dataframe tbody tr th:only-of-type {\n        vertical-align: middle;\n    }\n\n    .dataframe tbody tr th {\n        vertical-align: top;\n    }\n\n    .dataframe thead th {\n        text-align: right;\n    }\n</style>\n<table border=\"1\" class=\"dataframe\">\n  <thead>\n    <tr style=\"text-align: right;\">\n      <th></th>\n      <th></th>\n      <th>mean</th>\n      <th>variance</th>\n      <th>std_dev</th>\n      <th>n</th>\n      <th>confidence</th>\n      <th>confidence_interval</th>\n    </tr>\n  </thead>\n  <tbody>\n    <tr>\n      <th rowspan=\"4\" valign=\"top\">quality_of_content</th>\n      <th>UP01_01</th>\n      <td>1.73</td>\n      <td>2.35</td>\n      <td>1.48</td>\n      <td>15</td>\n      <td>0.75</td>\n      <td>[0.98, 2.48]</td>\n    </tr>\n    <tr>\n      <th>UP01_02</th>\n      <td>1.20</td>\n      <td>1.17</td>\n      <td>1.05</td>\n      <td>15</td>\n      <td>0.53</td>\n      <td>[0.67, 1.73]</td>\n    </tr>\n    <tr>\n      <th>UP01_03</th>\n      <td>1.40</td>\n      <td>1.54</td>\n      <td>1.20</td>\n      <td>15</td>\n      <td>0.61</td>\n      <td>[0.79, 2.01]</td>\n    </tr>\n    <tr>\n      <th>UP01_04</th>\n      <td>1.80</td>\n      <td>1.74</td>\n      <td>1.28</td>\n      <td>15</td>\n      <td>0.65</td>\n      <td>[1.15, 2.45]</td>\n    </tr>\n    <tr>\n      <th rowspan=\"4\" valign=\"top\">trustworthiness</th>\n      <th>UP02_01</th>\n      <td>1.27</td>\n      <td>1.50</td>\n      <td>1.18</td>\n      <td>15</td>\n      <td>0.60</td>\n      <td>[0.67, 1.86]</td>\n    </tr>\n    <tr>\n      <th>UP02_02</th>\n      <td>1.60</td>\n      <td>1.40</td>\n      <td>1.14</td>\n      <td>15</td>\n      <td>0.58</td>\n      <td>[1.02, 2.18]</td>\n    </tr>\n    <tr>\n      <th>UP02_03</th>\n      <td>1.67</td>\n      <td>1.10</td>\n      <td>1.01</td>\n      <td>15</td>\n      <td>0.51</td>\n      <td>[1.16, 2.18]</td>\n    </tr>\n    <tr>\n      <th>UP02_04</th>\n      <td>1.00</td>\n      <td>2.14</td>\n      <td>1.41</td>\n      <td>15</td>\n      <td>0.72</td>\n      <td>[0.28, 1.72]</td>\n    </tr>\n    <tr>\n      <th rowspan=\"4\" valign=\"top\">clarity</th>\n      <th>UP04_01</th>\n      <td>1.87</td>\n      <td>1.12</td>\n      <td>1.02</td>\n      <td>15</td>\n      <td>0.52</td>\n      <td>[1.35, 2.38]</td>\n    </tr>\n    <tr>\n      <th>UP04_02</th>\n      <td>2.00</td>\n      <td>1.43</td>\n      <td>1.15</td>\n      <td>15</td>\n      <td>0.58</td>\n      <td>[1.42, 2.58]</td>\n    </tr>\n    <tr>\n      <th>UP04_03</th>\n      <td>1.93</td>\n      <td>2.07</td>\n      <td>1.39</td>\n      <td>15</td>\n      <td>0.70</td>\n      <td>[1.23, 2.64]</td>\n    </tr>\n    <tr>\n      <th>UP04_04</th>\n      <td>1.93</td>\n      <td>1.35</td>\n      <td>1.12</td>\n      <td>15</td>\n      <td>0.57</td>\n      <td>[1.36, 2.5]</td>\n    </tr>\n    <tr>\n      <th rowspan=\"4\" valign=\"top\">usefulness</th>\n      <th>UP05_01</th>\n      <td>1.47</td>\n      <td>1.84</td>\n      <td>1.31</td>\n      <td>15</td>\n      <td>0.66</td>\n      <td>[0.8, 2.13]</td>\n    </tr>\n    <tr>\n      <th>UP05_02</th>\n      <td>1.73</td>\n      <td>2.21</td>\n      <td>1.44</td>\n      <td>15</td>\n      <td>0.73</td>\n      <td>[1.01, 2.46]</td>\n    </tr>\n    <tr>\n      <th>UP05_03</th>\n      <td>1.67</td>\n      <td>1.67</td>\n      <td>1.25</td>\n      <td>15</td>\n      <td>0.63</td>\n      <td>[1.04, 2.3]</td>\n    </tr>\n    <tr>\n      <th>UP05_04</th>\n      <td>1.20</td>\n      <td>2.03</td>\n      <td>1.38</td>\n      <td>15</td>\n      <td>0.70</td>\n      <td>[0.5, 1.9]</td>\n    </tr>\n    <tr>\n      <th rowspan=\"4\" valign=\"top\">dependability</th>\n      <th>UP06_01</th>\n      <td>1.27</td>\n      <td>1.50</td>\n      <td>1.18</td>\n      <td>15</td>\n      <td>0.60</td>\n      <td>[0.67, 1.86]</td>\n    </tr>\n    <tr>\n      <th>UP06_02</th>\n      <td>2.00</td>\n      <td>0.71</td>\n      <td>0.82</td>\n      <td>15</td>\n      <td>0.41</td>\n      <td>[1.59, 2.41]</td>\n    </tr>\n    <tr>\n      <th>UP06_03</th>\n      <td>1.80</td>\n      <td>0.89</td>\n      <td>0.91</td>\n      <td>15</td>\n      <td>0.46</td>\n      <td>[1.34, 2.26]</td>\n    </tr>\n    <tr>\n      <th>UP06_04</th>\n      <td>1.67</td>\n      <td>1.67</td>\n      <td>1.25</td>\n      <td>15</td>\n      <td>0.63</td>\n      <td>[1.04, 2.3]</td>\n    </tr>\n  </tbody>\n</table>\n</div>"
     },
     "execution_count": 9,
     "metadata": {},
     "output_type": "execute_result"
    }
   ],
   "source": [
    "from src.ueqplusanalyze.analyzer import mean_and_confidence_interval_per_item\n",
    "\n",
    "mean_and_confidence_interval_per_item_result = mean_and_confidence_interval_per_item(ueq_observed_ratings, ueq)\n",
    "mean_and_confidence_interval_per_item_result"
   ]
  },
  {
   "cell_type": "markdown",
   "id": "2b5ef9a6",
   "metadata": {
    "pycharm": {
     "name": "#%% md\n"
    }
   },
   "source": [
    "# Consistency"
   ]
  },
  {
   "cell_type": "markdown",
   "id": "a23747d9",
   "metadata": {
    "pycharm": {
     "name": "#%% md\n"
    }
   },
   "source": [
    "## Scale consistency\n",
    "\n",
    "The Alpha-Coefficient (Cronbach, 1951) is a measure for the consistency of a scale. There is no generally accepted rule how big the value of the coefficient should be. Many authors assume that a scale should show an alpha value > 0.7 to be considered as sufficiently consistent, but these suggestions are more rules-of-thumb and not based on some sound statistical facts. Thus, from an methodological standpoint such a use of a cut-off criterium is not really well-founded (see for example Schmitt, N., 1996). Especially if you have only a small sample (for example less than 50 answers) the value of the Alpha-Coefficient should be interpreted very carefully. In such cases a low Alpha can result from sampling errors and may not be an indicator for a problem with the scale.\n",
    "If the value of the Alpha-Coefficient for a scale shows a massive deviation from a reasonable target value, for example 0.6 or 0.7, this can be a hint that some items of the scale are in the given context interpreted by several participants in an unexpected way. In such cases please check the single item scores and correlations between the items. This can give a hint if there is maybe a common misinterpretation of an item due to the context of the evaluation. In such cases the corresponding scale should be interpreted very carefully."
   ]
  },
  {
   "cell_type": "code",
   "execution_count": 10,
   "id": "c97b5813",
   "metadata": {
    "pycharm": {
     "name": "#%%\n"
    }
   },
   "outputs": [
    {
     "data": {
      "text/plain": "                    corr(l1,l2)  corr(l1,l3)  corr(l1,l4)  corr(l2,l3)  \\\nquality_of_content        -0.22         0.43        -0.20        -0.01   \ntrustworthiness            0.13         0.30         0.36         0.69   \nclarity                    0.90         0.70         0.75         0.75   \nusefulness                 0.92         0.75         0.80         0.81   \ndependability              0.35         0.67         0.51         0.36   \n\n                    corr(l2,l4)  corr(l3,l4)  average_corr  cronbach_alpha  \nquality_of_content         0.53         0.53          0.18            0.46  \ntrustworthiness            0.45         0.75          0.45            0.76  \nclarity                    0.87         0.55          0.75            0.92  \nusefulness                 0.84         0.74          0.81            0.94  \ndependability              0.46         0.65          0.50            0.80  ",
      "text/html": "<div>\n<style scoped>\n    .dataframe tbody tr th:only-of-type {\n        vertical-align: middle;\n    }\n\n    .dataframe tbody tr th {\n        vertical-align: top;\n    }\n\n    .dataframe thead th {\n        text-align: right;\n    }\n</style>\n<table border=\"1\" class=\"dataframe\">\n  <thead>\n    <tr style=\"text-align: right;\">\n      <th></th>\n      <th>corr(l1,l2)</th>\n      <th>corr(l1,l3)</th>\n      <th>corr(l1,l4)</th>\n      <th>corr(l2,l3)</th>\n      <th>corr(l2,l4)</th>\n      <th>corr(l3,l4)</th>\n      <th>average_corr</th>\n      <th>cronbach_alpha</th>\n    </tr>\n  </thead>\n  <tbody>\n    <tr>\n      <th>quality_of_content</th>\n      <td>-0.22</td>\n      <td>0.43</td>\n      <td>-0.20</td>\n      <td>-0.01</td>\n      <td>0.53</td>\n      <td>0.53</td>\n      <td>0.18</td>\n      <td>0.46</td>\n    </tr>\n    <tr>\n      <th>trustworthiness</th>\n      <td>0.13</td>\n      <td>0.30</td>\n      <td>0.36</td>\n      <td>0.69</td>\n      <td>0.45</td>\n      <td>0.75</td>\n      <td>0.45</td>\n      <td>0.76</td>\n    </tr>\n    <tr>\n      <th>clarity</th>\n      <td>0.90</td>\n      <td>0.70</td>\n      <td>0.75</td>\n      <td>0.75</td>\n      <td>0.87</td>\n      <td>0.55</td>\n      <td>0.75</td>\n      <td>0.92</td>\n    </tr>\n    <tr>\n      <th>usefulness</th>\n      <td>0.92</td>\n      <td>0.75</td>\n      <td>0.80</td>\n      <td>0.81</td>\n      <td>0.84</td>\n      <td>0.74</td>\n      <td>0.81</td>\n      <td>0.94</td>\n    </tr>\n    <tr>\n      <th>dependability</th>\n      <td>0.35</td>\n      <td>0.67</td>\n      <td>0.51</td>\n      <td>0.36</td>\n      <td>0.46</td>\n      <td>0.65</td>\n      <td>0.50</td>\n      <td>0.80</td>\n    </tr>\n  </tbody>\n</table>\n</div>"
     },
     "execution_count": 10,
     "metadata": {},
     "output_type": "execute_result"
    }
   ],
   "source": [
    "from src.ueqplusanalyze.analyzer import scale_consistency\n",
    "\n",
    "scale_consistency_result = scale_consistency(ueq_observed_ratings, ueq)\n",
    "scale_consistency_result"
   ]
  },
  {
   "cell_type": "markdown",
   "id": "959146b4",
   "metadata": {
    "pycharm": {
     "name": "#%% md\n"
    }
   },
   "source": [
    "# KPI"
   ]
  },
  {
   "cell_type": "markdown",
   "id": "be4b361d",
   "metadata": {
    "pycharm": {
     "name": "#%% md\n"
    }
   },
   "source": [
    "## Calculation of a KPI\n",
    "\n",
    "\n",
    "For each scale the UEQ+ collects ratings for 4 items and one rating for the overall importance of the scale. These values are used to calculate a KPI that should represent the overall UX impression of the product. \n",
    "For the calculation the relative importance of the scale and the scale mean per participant are calculated. The KPI is then simply the mean over all participants.\t\t\t\t\t"
   ]
  },
  {
   "cell_type": "code",
   "execution_count": 11,
   "id": "a203287a",
   "metadata": {
    "pycharm": {
     "name": "#%%\n"
    }
   },
   "outputs": [
    {
     "name": "stdout",
     "output_type": "stream",
     "text": [
      "Average KPI:  1.65\n",
      "Standard Deviation:  0.6\n"
     ]
    },
    {
     "data": {
      "text/plain": "    quality_of_content  trustworthiness  clarity  usefulness  dependability  \\\n0                 1.33             1.09     1.48        1.23           1.38   \n1                 1.29             1.57     1.21        0.99           1.45   \n2                 1.06             0.77     1.35        1.06           0.97   \n3                 1.20             1.10     1.52        0.83           1.10   \n4                 1.01             1.01     1.09        1.48           1.09   \n5                 1.41             1.26     1.41        1.26           1.09   \n6                 1.40             1.40     0.90        1.40           0.75   \n7                 1.24             1.34     1.39        1.29           0.97   \n8                 0.95             1.39     1.03        1.19           1.19   \n9                 0.85             1.19     0.75        0.80           0.94   \n10                1.02             0.93     0.79        1.39           1.22   \n11                0.86             0.95     1.05        0.67           1.37   \n12                0.84             0.95     2.21        0.26           0.95   \n13                0.68             0.92     1.50        1.03           0.78   \n14                1.10             0.95     1.63        0.96           1.30   \n\n     kpi  \n0   2.51  \n1   2.51  \n2   1.23  \n3   1.75  \n4   1.68  \n5   2.43  \n6   1.85  \n7   2.22  \n8   1.75  \n9   0.53  \n10  1.34  \n11  0.89  \n12  1.21  \n13  0.92  \n14  1.94  ",
      "text/html": "<div>\n<style scoped>\n    .dataframe tbody tr th:only-of-type {\n        vertical-align: middle;\n    }\n\n    .dataframe tbody tr th {\n        vertical-align: top;\n    }\n\n    .dataframe thead th {\n        text-align: right;\n    }\n</style>\n<table border=\"1\" class=\"dataframe\">\n  <thead>\n    <tr style=\"text-align: right;\">\n      <th></th>\n      <th>quality_of_content</th>\n      <th>trustworthiness</th>\n      <th>clarity</th>\n      <th>usefulness</th>\n      <th>dependability</th>\n      <th>kpi</th>\n    </tr>\n  </thead>\n  <tbody>\n    <tr>\n      <th>0</th>\n      <td>1.33</td>\n      <td>1.09</td>\n      <td>1.48</td>\n      <td>1.23</td>\n      <td>1.38</td>\n      <td>2.51</td>\n    </tr>\n    <tr>\n      <th>1</th>\n      <td>1.29</td>\n      <td>1.57</td>\n      <td>1.21</td>\n      <td>0.99</td>\n      <td>1.45</td>\n      <td>2.51</td>\n    </tr>\n    <tr>\n      <th>2</th>\n      <td>1.06</td>\n      <td>0.77</td>\n      <td>1.35</td>\n      <td>1.06</td>\n      <td>0.97</td>\n      <td>1.23</td>\n    </tr>\n    <tr>\n      <th>3</th>\n      <td>1.20</td>\n      <td>1.10</td>\n      <td>1.52</td>\n      <td>0.83</td>\n      <td>1.10</td>\n      <td>1.75</td>\n    </tr>\n    <tr>\n      <th>4</th>\n      <td>1.01</td>\n      <td>1.01</td>\n      <td>1.09</td>\n      <td>1.48</td>\n      <td>1.09</td>\n      <td>1.68</td>\n    </tr>\n    <tr>\n      <th>5</th>\n      <td>1.41</td>\n      <td>1.26</td>\n      <td>1.41</td>\n      <td>1.26</td>\n      <td>1.09</td>\n      <td>2.43</td>\n    </tr>\n    <tr>\n      <th>6</th>\n      <td>1.40</td>\n      <td>1.40</td>\n      <td>0.90</td>\n      <td>1.40</td>\n      <td>0.75</td>\n      <td>1.85</td>\n    </tr>\n    <tr>\n      <th>7</th>\n      <td>1.24</td>\n      <td>1.34</td>\n      <td>1.39</td>\n      <td>1.29</td>\n      <td>0.97</td>\n      <td>2.22</td>\n    </tr>\n    <tr>\n      <th>8</th>\n      <td>0.95</td>\n      <td>1.39</td>\n      <td>1.03</td>\n      <td>1.19</td>\n      <td>1.19</td>\n      <td>1.75</td>\n    </tr>\n    <tr>\n      <th>9</th>\n      <td>0.85</td>\n      <td>1.19</td>\n      <td>0.75</td>\n      <td>0.80</td>\n      <td>0.94</td>\n      <td>0.53</td>\n    </tr>\n    <tr>\n      <th>10</th>\n      <td>1.02</td>\n      <td>0.93</td>\n      <td>0.79</td>\n      <td>1.39</td>\n      <td>1.22</td>\n      <td>1.34</td>\n    </tr>\n    <tr>\n      <th>11</th>\n      <td>0.86</td>\n      <td>0.95</td>\n      <td>1.05</td>\n      <td>0.67</td>\n      <td>1.37</td>\n      <td>0.89</td>\n    </tr>\n    <tr>\n      <th>12</th>\n      <td>0.84</td>\n      <td>0.95</td>\n      <td>2.21</td>\n      <td>0.26</td>\n      <td>0.95</td>\n      <td>1.21</td>\n    </tr>\n    <tr>\n      <th>13</th>\n      <td>0.68</td>\n      <td>0.92</td>\n      <td>1.50</td>\n      <td>1.03</td>\n      <td>0.78</td>\n      <td>0.92</td>\n    </tr>\n    <tr>\n      <th>14</th>\n      <td>1.10</td>\n      <td>0.95</td>\n      <td>1.63</td>\n      <td>0.96</td>\n      <td>1.30</td>\n      <td>1.94</td>\n    </tr>\n  </tbody>\n</table>\n</div>"
     },
     "execution_count": 11,
     "metadata": {},
     "output_type": "execute_result"
    }
   ],
   "source": [
    "from src.ueqplusanalyze.analyzer import calculation_of_a_kpi\n",
    "\n",
    "calculation_of_a_kpi_result, kpi_average, std_dev = calculation_of_a_kpi(ueq_observed_ratings, ueq)\n",
    "print('Average KPI: ', kpi_average)\n",
    "print('Standard Deviation: ', std_dev)\n",
    "calculation_of_a_kpi_result"
   ]
  },
  {
   "cell_type": "markdown",
   "id": "ca5ca286",
   "metadata": {
    "pycharm": {
     "name": "#%% md\n"
    }
   },
   "source": [
    "# Graphics"
   ]
  },
  {
   "cell_type": "markdown",
   "id": "3ae2a5a3",
   "metadata": {
    "pycharm": {
     "name": "#%% md\n"
    }
   },
   "source": [
    "## Scale means"
   ]
  },
  {
   "cell_type": "code",
   "execution_count": 12,
   "id": "64baf14b",
   "metadata": {
    "pycharm": {
     "name": "#%%\n"
    }
   },
   "outputs": [
    {
     "data": {
      "text/plain": "<Figure size 640x480 with 1 Axes>",
      "image/png": "[encoded data removed]"
     },
     "metadata": {},
     "output_type": "display_data"
    }
   ],
   "source": [
    "from src.ueqplusanalyze.analyzer import plot_scale_means\n",
    "\n",
    "mean_and_confidence_intervall_per_scale_result = mean_and_confidence_intervall_per_scale(ueq_observed_ratings, ueq)\n",
    "plot_scale_means(mean_and_confidence_intervall_per_scale_result)"
   ]
  },
  {
   "cell_type": "markdown",
   "id": "6838d6b7",
   "metadata": {
    "pycharm": {
     "name": "#%% md\n"
    }
   },
   "source": [
    "## Importance ratings"
   ]
  },
  {
   "cell_type": "code",
   "execution_count": 13,
   "id": "d853cbe6",
   "metadata": {
    "pycharm": {
     "name": "#%%\n"
    }
   },
   "outputs": [
    {
     "data": {
      "text/plain": "<Figure size 640x480 with 1 Axes>",
      "image/png": "[encoded data removed]"
     },
     "metadata": {},
     "output_type": "display_data"
    }
   ],
   "source": [
    "from src.ueqplusanalyze.analyzer import plot_scale_importance_ratings\n",
    "\n",
    "mean_importance_ratings_result = mean_importance_ratings(ueq_observed_ratings, ueq)\n",
    "plot_scale_importance_ratings(mean_importance_ratings_result)"
   ]
  }
 ],
 "metadata": {
  "kernelspec": {
   "display_name": "Python 3.9.6 ('evaluation-dashboard-NI0IwQMH')",
   "language": "python",
   "name": "python3"
  },
  "language_info": {
   "codemirror_mode": {
    "name": "ipython",
    "version": 3
   },
   "file_extension": ".py",
   "mimetype": "text/x-python",
   "name": "python",
   "nbconvert_exporter": "python",
   "pygments_lexer": "ipython3",
   "version": "3.9.6"
  },
  "vscode": {
   "interpreter": {
    "hash": "8d551a83ebb1fd32e0f5e9e2488728862a35b7d7e77e698781f1e8cd8ad1fc4f"
   }
  }
 },
 "nbformat": 4,
 "nbformat_minor": 5
}