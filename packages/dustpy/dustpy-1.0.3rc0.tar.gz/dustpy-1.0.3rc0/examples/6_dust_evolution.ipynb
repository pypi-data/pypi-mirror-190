{
 "cells": [
  {
   "cell_type": "markdown",
   "metadata": {},
   "source": [
    "[![Binder](https://mybinder.org/badge_logo.svg)](https://mybinder.org/v2/gh/stammler/dustpy/HEAD?labpath=examples%2F6_dust_evolution.ipynb)"
   ]
  },
  {
   "cell_type": "markdown",
   "metadata": {},
   "source": [
    "# 6. Dust Evolution\n",
    "\n",
    "Dust evolution in `DustPy` consists of three parts: coagulation, hydrodynamics, and external sources.  \n",
    "Their source terms are stored in `Simulation.dust.S`."
   ]
  },
  {
   "cell_type": "code",
   "execution_count": 1,
   "metadata": {
    "execution": {
     "iopub.execute_input": "2023-02-06T17:24:30.599008Z",
     "iopub.status.busy": "2023-02-06T17:24:30.598246Z",
     "iopub.status.idle": "2023-02-06T17:24:31.807567Z",
     "shell.execute_reply": "2023-02-06T17:24:31.806590Z"
    }
   },
   "outputs": [],
   "source": [
    "from dustpy import Simulation\n",
    "sim = Simulation()\n",
    "sim.ini.grid.Nr = 5\n",
    "sim.ini.grid.mmax = 10. * sim.ini.grid.mmin\n",
    "sim.ini.dust.allowDriftingParticles = True\n",
    "sim.initialize()"
   ]
  },
  {
   "cell_type": "markdown",
   "metadata": {},
   "source": [
    "The dust is by default integrated with an implicit 1st-order Euler method."
   ]
  },
  {
   "cell_type": "code",
   "execution_count": 2,
   "metadata": {
    "execution": {
     "iopub.execute_input": "2023-02-06T17:24:31.814973Z",
     "iopub.status.busy": "2023-02-06T17:24:31.814447Z",
     "iopub.status.idle": "2023-02-06T17:24:31.824165Z",
     "shell.execute_reply": "2023-02-06T17:24:31.823338Z"
    }
   },
   "outputs": [
    {
     "data": {
      "text/plain": [
       "[Instruction (Dust: implicit 1st-order direct solver),\n",
       " Instruction (Gas: implicit 1st-order direct solver)]"
      ]
     },
     "execution_count": 2,
     "metadata": {},
     "output_type": "execute_result"
    }
   ],
   "source": [
    "sim.integrator.instructions"
   ]
  },
  {
   "cell_type": "markdown",
   "metadata": {},
   "source": [
    "The implicit matrix equation that is solved for dust evolution is given by\n",
    "\n",
    "$\\frac{\\vec{\\Sigma}_\\mathrm{d}^{n+1}-\\vec{\\Sigma}_\\mathrm{d}^{n}}{\\Delta t} = \\mathbb{J} \\cdot \\vec{\\Sigma}_\\mathrm{d}^{n+1} + \\vec{S}_\\mathrm{ext},$\n",
    "\n",
    "which can be written as\n",
    "\n",
    "$\\begin{split}\n",
    "\\left( \\mathbb{1} - \\Delta t\\, \\mathbb{J} \\right) \\cdot \\vec{\\Sigma}_\\mathrm{d}^{n+1} &= \\vec{\\Sigma}_\\mathrm{d}^{n} + \\Delta t\\, \\vec{S}_\\mathrm{ext}\\\\\n",
    "&\\equiv \\vec{R}^n,\n",
    "\\end{split}$\n",
    "\n",
    "with\n",
    "\n",
    "$\\vec{R}^n = \\vec{\\Sigma}_\\mathrm{d}^{n} + \\Delta t\\, \\vec{S}_\\mathrm{ext}$.\n",
    "\n",
    "The Jacobian $\\mathbb{J}$ is a sparse matrix. $\\vec{\\Sigma}_\\mathrm{d}$ is a one-dimensional state vector that can be produces from the surface densities with the `.ravel()` method."
   ]
  },
  {
   "cell_type": "code",
   "execution_count": 3,
   "metadata": {
    "execution": {
     "iopub.execute_input": "2023-02-06T17:24:31.869088Z",
     "iopub.status.busy": "2023-02-06T17:24:31.868231Z",
     "iopub.status.idle": "2023-02-06T17:24:31.879705Z",
     "shell.execute_reply": "2023-02-06T17:24:31.878269Z"
    }
   },
   "outputs": [
    {
     "data": {
      "text/plain": [
       "(40,)"
      ]
     },
     "execution_count": 3,
     "metadata": {},
     "output_type": "execute_result"
    }
   ],
   "source": [
    "sim.dust.Sigma.ravel().shape"
   ]
  },
  {
   "cell_type": "markdown",
   "metadata": {},
   "source": [
    "The Jacobian looks as follows."
   ]
  },
  {
   "cell_type": "code",
   "execution_count": 4,
   "metadata": {
    "execution": {
     "iopub.execute_input": "2023-02-06T17:24:31.885884Z",
     "iopub.status.busy": "2023-02-06T17:24:31.884758Z",
     "iopub.status.idle": "2023-02-06T17:24:31.892657Z",
     "shell.execute_reply": "2023-02-06T17:24:31.891154Z"
    }
   },
   "outputs": [],
   "source": [
    "import matplotlib.pyplot as plt\n",
    "import numpy as np"
   ]
  },
  {
   "cell_type": "code",
   "execution_count": 5,
   "metadata": {
    "execution": {
     "iopub.execute_input": "2023-02-06T17:24:31.899773Z",
     "iopub.status.busy": "2023-02-06T17:24:31.899315Z",
     "iopub.status.idle": "2023-02-06T17:24:32.571155Z",
     "shell.execute_reply": "2023-02-06T17:24:32.569810Z"
    }
   },
   "outputs": [
    {
     "data": {
      "image/png": "[encoded data removed]",
      "text/plain": [
       "<Figure size 900x600 with 1 Axes>"
      ]
     },
     "metadata": {
      "needs_background": "light"
     },
     "output_type": "display_data"
    }
   ],
   "source": [
    "fig = plt.figure(dpi=150)\n",
    "ax = fig.add_subplot(111)\n",
    "ax.imshow(np.where(sim.dust.Sigma.jacobian().toarray() != 0., 1., 0.), cmap=\"Blues\")\n",
    "ax.hlines(np.arange(0., sim.grid.Nr*sim.grid.Nm, sim.grid.Nm)-0.5, -0.5, sim.grid.Nr*sim.grid.Nm-0.5, color=\"gray\", alpha=0.5)\n",
    "ax.vlines(np.arange(0., sim.grid.Nr*sim.grid.Nm, sim.grid.Nm)-0.5, -0.5, sim.grid.Nr*sim.grid.Nm-0.5, color=\"gray\", alpha=0.5)\n",
    "ax.hlines(np.arange(0., sim.grid.Nr*sim.grid.Nm, 1)-0.5, -0.5, sim.grid.Nr*sim.grid.Nm-0.5, color=\"gray\", alpha=0.25, lw=0.5)\n",
    "ax.vlines(np.arange(0., sim.grid.Nr*sim.grid.Nm, 1)-0.5, -0.5, sim.grid.Nr*sim.grid.Nm-0.5, color=\"gray\", alpha=0.25, lw=0.5)\n",
    "ax.get_xaxis().set_visible(False)\n",
    "ax.get_yaxis().set_visible(False)\n",
    "ax.set_title(\"Structure of Jacobian $\\mathbb{J}$\")\n",
    "fig.tight_layout()\n",
    "plt.show()"
   ]
  },
  {
   "cell_type": "markdown",
   "metadata": {},
   "source": [
    "This is a the Jacobian for a simulation with 5 radial grid cells and 8 mass bins. This Jacobian acts on the raveled dust surface densities `Simulation.dust.Sigma.ravel()` and has a shape of `(Simulation.grid.Nr*Simulation.grid.Nm, Simulation.grid.Nr*Simulation.grid.Nm)`\n",
    "\n",
    "Each box has a shape `(Simulation.grid.Nm, Simulation.grid.Nm)`. The boxes on the diagonals contain the coagulation part of the Jacobian. Due to our choice of quantities shown in the chapter about coagulation, the coagulation Jacobian is an upper diagonal matrix with a limited number of lower diagonals. That number depends on the mass grid. The last two columns are empty in this case, because in this case no possible sticking collision involving the two largest mass bins exists that would results in a particle with mass smaller than the largest mass bin. Fragmentation is not happening this early in the simulation, because the relative collision velocities are not large enough.\n",
    "\n",
    "We do not calculate coagulation in the first and last grid cells. Hence the empty boxes.\n",
    "\n",
    "The diagonals represent the transport part of dust evolution.\n",
    "\n",
    "The first and the last row set the boundary conditions. The inner boundary is set to constant gradient. Therefore, the second and third boxes of the first row have diagonals. The outer boundary is set to floor value. Therefore the entire row is empty.\n",
    "\n",
    "Since most of the elements of the Jacobian are empty – especially in larger simulations – the Jacobians is stored as sparse matrix only saving the non-zero elements."
   ]
  },
  {
   "cell_type": "markdown",
   "metadata": {},
   "source": [
    "The implicit integration schemes that come with `simframe` only integrates equations of kind\n",
    "\n",
    "$\\left( \\mathbb{1} - \\Delta t\\, \\mathbb{J} \\right) \\cdot \\vec{Y}^{n+1} = \\vec{Y}^n$.\n",
    "\n",
    "We have therefore created a custom integration schemes for our needs.  \n",
    "Whenever `Simulation.dust.Sigma.jacobian()` is called, the right-hand side of our equation is calculated and stored in a hidden field `Simulation.dusts._rhs`, that can be accessed by our integration scheme.\n",
    "\n",
    "The first and the last rows of the Jacobian, which contain the boundary conditions do not contain the time step $\\Delta t$, since this is not necessarily known when calculating the Jacobian. The integration scheme will add the terms containing the time step.\n",
    "\n",
    "The custom integration scheme can be found in `dustpy.std.dust.impl_1_direct`."
   ]
  },
  {
   "cell_type": "markdown",
   "metadata": {},
   "source": [
    "## Coagulation\n",
    "\n",
    "Please see the previous chapter for details on coagulation.  \n",
    "The coagulation source terms are stored in `Simulation.dust.S.coag`."
   ]
  },
  {
   "cell_type": "markdown",
   "metadata": {},
   "source": [
    "### Turning off Fragmentation\n",
    "\n",
    "If you want to turn off fragmentation (but not sticking), set the sticking probabilities to $1$, the fragmentation probabilities to $0$, and unset the updater of the probabilities."
   ]
  },
  {
   "cell_type": "code",
   "execution_count": 6,
   "metadata": {
    "execution": {
     "iopub.execute_input": "2023-02-06T17:24:32.580585Z",
     "iopub.status.busy": "2023-02-06T17:24:32.579980Z",
     "iopub.status.idle": "2023-02-06T17:24:32.587345Z",
     "shell.execute_reply": "2023-02-06T17:24:32.586343Z"
    }
   },
   "outputs": [],
   "source": [
    "sim.dust.p.stick = 1.\n",
    "sim.dust.p.frag = 0.\n",
    "sim.dust.p.updater = None"
   ]
  },
  {
   "cell_type": "markdown",
   "metadata": {},
   "source": [
    "**Note:** You could also set the fragmentation velocities to a very large value that will never be reached. However, this will still calculate the probabilies at every timestep, even though they are constant in this case and consume valuable computational resources."
   ]
  },
  {
   "cell_type": "markdown",
   "metadata": {},
   "source": [
    "### Turning off Coagulation\n",
    "\n",
    "If you want to turn off coagulation in total, you have to set both probabilities to zero."
   ]
  },
  {
   "cell_type": "code",
   "execution_count": 7,
   "metadata": {
    "execution": {
     "iopub.execute_input": "2023-02-06T17:24:32.594712Z",
     "iopub.status.busy": "2023-02-06T17:24:32.594201Z",
     "iopub.status.idle": "2023-02-06T17:24:32.600552Z",
     "shell.execute_reply": "2023-02-06T17:24:32.599379Z"
    }
   },
   "outputs": [],
   "source": [
    "sim.dust.p.stick = 0.\n",
    "sim.dust.p.frag = 0.\n",
    "sim.dust.p.updater = None"
   ]
  },
  {
   "cell_type": "markdown",
   "metadata": {},
   "source": [
    "You can furthermore unset the updaters of the other fields, that are only used for coagulation to save computational resources."
   ]
  },
  {
   "cell_type": "code",
   "execution_count": 8,
   "metadata": {
    "execution": {
     "iopub.execute_input": "2023-02-06T17:24:32.619247Z",
     "iopub.status.busy": "2023-02-06T17:24:32.618746Z",
     "iopub.status.idle": "2023-02-06T17:24:32.628346Z",
     "shell.execute_reply": "2023-02-06T17:24:32.626790Z"
    }
   },
   "outputs": [],
   "source": [
    "sim.dust.p.updater = None\n",
    "sim.dust.v.rel.updater = None\n",
    "sim.dust.v.frag.updater = None\n",
    "sim.dust.kernel.updater = None"
   ]
  },
  {
   "cell_type": "markdown",
   "metadata": {},
   "source": [
    "## Hydrodynamics\n",
    "\n",
    "`DustPy` solves the following equation for dust transport\n",
    "\n",
    "$\\frac{\\partial}{\\partial t} \\Sigma_\\mathrm{d} + \\frac{1}{r} \\frac{\\partial}{\\partial r} \\left( r\\Sigma_\\mathrm{d}v_\\mathrm{rad} \\right) - \\frac{1}{r} \\frac{\\partial}{\\partial r} \\left[ r D \\Sigma_\\mathrm{g} \\frac{\\partial}{\\partial r} \\left( \\frac{\\Sigma_\\mathrm{d}}{\\Sigma_\\mathrm{g}} \\right) \\right] = 0$\n",
    "\n",
    "The dust hydrodynamics consists of an advective and an diffusive term. The algorithm calculates the advective and diffusive fluxes separately at the grid cell interfaces. Furthermore, the sum of both is calculated."
   ]
  },
  {
   "cell_type": "code",
   "execution_count": 9,
   "metadata": {
    "execution": {
     "iopub.execute_input": "2023-02-06T17:24:32.634307Z",
     "iopub.status.busy": "2023-02-06T17:24:32.633859Z",
     "iopub.status.idle": "2023-02-06T17:24:32.644854Z",
     "shell.execute_reply": "2023-02-06T17:24:32.643472Z"
    }
   },
   "outputs": [
    {
     "data": {
      "text/plain": [
       "Group (Fluxes)\n",
       "--------------\n",
       "    adv          : Field (Advective flux [g/cm/s])\n",
       "    diff         : Field (Diffusive flux [g/cm/s])\n",
       "    tot          : Field (Total flux [g/cm/s])\n",
       "  -----"
      ]
     },
     "execution_count": 9,
     "metadata": {},
     "output_type": "execute_result"
    }
   ],
   "source": [
    "sim.dust.Fi"
   ]
  },
  {
   "cell_type": "markdown",
   "metadata": {},
   "source": [
    "### Advection\n",
    "\n",
    "The advective fluxes at the grid interfaces are calculated as\n",
    "\n",
    "$F_\\mathrm{adv} = v_\\mathrm{rad} \\cdot \\Sigma_\\mathrm{d}$\n",
    "\n",
    "and interpolated onto the grid cell interfaces. The default boundary condition assumes constant velocity."
   ]
  },
  {
   "cell_type": "markdown",
   "metadata": {},
   "source": [
    "### Turning off Advection\n",
    "\n",
    "To turn off advection, you can set the radial dust velocities to $0$ and unset the updater."
   ]
  },
  {
   "cell_type": "code",
   "execution_count": 10,
   "metadata": {
    "execution": {
     "iopub.execute_input": "2023-02-06T17:24:32.651743Z",
     "iopub.status.busy": "2023-02-06T17:24:32.651298Z",
     "iopub.status.idle": "2023-02-06T17:24:32.659408Z",
     "shell.execute_reply": "2023-02-06T17:24:32.657964Z"
    }
   },
   "outputs": [],
   "source": [
    "sim.dust.v.rad = 0\n",
    "sim.dust.v.rad.updater = None"
   ]
  },
  {
   "cell_type": "markdown",
   "metadata": {},
   "source": [
    "You might also want to unset the relative velocities caused by azimuthal drift.  \n",
    "If you have set a backreaction mechanism you may need to unset it, too, for your model."
   ]
  },
  {
   "cell_type": "markdown",
   "metadata": {},
   "source": [
    "### Diffusion\n",
    "\n",
    "The diffusive fluxes are given by\n",
    "\n",
    "$F_\\mathrm{diff} = -D\\Sigma_\\mathrm{g}\\nabla\\frac{\\Sigma_\\mathrm{d}}{\\Sigma_\\mathrm{gas}}$\n",
    "\n",
    "A flux limiter limits the maximum diffusive flux to the diffusive RMS velocity of that dust species. The diffusive flux through the boundaries is set to zero."
   ]
  },
  {
   "cell_type": "markdown",
   "metadata": {},
   "source": [
    "### Turning off Diffusion\n",
    "\n",
    "To turn off dust diffusion you can set the diffusivities to $0$ and unset the updater."
   ]
  },
  {
   "cell_type": "code",
   "execution_count": 11,
   "metadata": {
    "execution": {
     "iopub.execute_input": "2023-02-06T17:24:32.665743Z",
     "iopub.status.busy": "2023-02-06T17:24:32.665305Z",
     "iopub.status.idle": "2023-02-06T17:24:32.673232Z",
     "shell.execute_reply": "2023-02-06T17:24:32.671795Z"
    }
   },
   "outputs": [],
   "source": [
    "sim.dust.D = 0.\n",
    "sim.dust.D.updater = None"
   ]
  },
  {
   "cell_type": "markdown",
   "metadata": {},
   "source": [
    "### Turning off Hydrodynamics\n",
    "\n",
    "If you want to turn off dust hydrodynamics in total, you have to set the radial dust velocity and the dust diffusivities to $0$."
   ]
  },
  {
   "cell_type": "code",
   "execution_count": 12,
   "metadata": {
    "execution": {
     "iopub.execute_input": "2023-02-06T17:24:32.680509Z",
     "iopub.status.busy": "2023-02-06T17:24:32.679858Z",
     "iopub.status.idle": "2023-02-06T17:24:32.688679Z",
     "shell.execute_reply": "2023-02-06T17:24:32.687227Z"
    }
   },
   "outputs": [],
   "source": [
    "sim.dust.v.rad = 0.\n",
    "sim.dust.v.rad.updater = None\n",
    "sim.dust.D = 0.\n",
    "sim.dust.D.updater = None"
   ]
  },
  {
   "cell_type": "markdown",
   "metadata": {},
   "source": [
    "Depending on the aim of your simulation, you can unset the updaters of other fields, if you don't need them."
   ]
  },
  {
   "cell_type": "markdown",
   "metadata": {},
   "source": [
    "## External Sources\n",
    "\n",
    "`DustPy` has the possibility to add external source/loss terms that you can set. With those you can for example add dust in case of infall or remove dust in case of planetesimal formation or pebble accretion.\n",
    "\n",
    "By default the external sources are $0$ without a set updater."
   ]
  },
  {
   "cell_type": "markdown",
   "metadata": {},
   "source": [
    "## Turning off Dust Evolution\n",
    "\n",
    "If you want to deactivate dust evolution as a whole you can remove the integration instruction from the instruction set."
   ]
  },
  {
   "cell_type": "code",
   "execution_count": 13,
   "metadata": {
    "execution": {
     "iopub.execute_input": "2023-02-06T17:24:32.696692Z",
     "iopub.status.busy": "2023-02-06T17:24:32.695980Z",
     "iopub.status.idle": "2023-02-06T17:24:32.707027Z",
     "shell.execute_reply": "2023-02-06T17:24:32.705649Z"
    }
   },
   "outputs": [
    {
     "data": {
      "text/plain": [
       "[Instruction (Dust: implicit 1st-order direct solver),\n",
       " Instruction (Gas: implicit 1st-order direct solver)]"
      ]
     },
     "execution_count": 13,
     "metadata": {},
     "output_type": "execute_result"
    }
   ],
   "source": [
    "sim.integrator.instructions"
   ]
  },
  {
   "cell_type": "code",
   "execution_count": 14,
   "metadata": {
    "execution": {
     "iopub.execute_input": "2023-02-06T17:24:32.713944Z",
     "iopub.status.busy": "2023-02-06T17:24:32.713523Z",
     "iopub.status.idle": "2023-02-06T17:24:32.721641Z",
     "shell.execute_reply": "2023-02-06T17:24:32.720196Z"
    }
   },
   "outputs": [],
   "source": [
    "del(sim.integrator.instructions[0])"
   ]
  },
  {
   "cell_type": "code",
   "execution_count": 15,
   "metadata": {
    "execution": {
     "iopub.execute_input": "2023-02-06T17:24:32.728792Z",
     "iopub.status.busy": "2023-02-06T17:24:32.728202Z",
     "iopub.status.idle": "2023-02-06T17:24:32.738558Z",
     "shell.execute_reply": "2023-02-06T17:24:32.737139Z"
    }
   },
   "outputs": [
    {
     "data": {
      "text/plain": [
       "[Instruction (Gas: implicit 1st-order direct solver)]"
      ]
     },
     "execution_count": 15,
     "metadata": {},
     "output_type": "execute_result"
    }
   ],
   "source": [
    "sim.integrator.instructions"
   ]
  },
  {
   "cell_type": "markdown",
   "metadata": {},
   "source": [
    "You can also deactivate other fields, that are not needed in that case, as described above."
   ]
  },
  {
   "cell_type": "markdown",
   "metadata": {},
   "source": [
    "Keep in mind that the updaters of all fields within `Simulation.dust` will still be called and the fields will be updated unless their updaters are unset. This will on one hand cost computational ressources, and on the other hand could influence the physics in an unwanted way.\n",
    "\n",
    "For example the dust backreaction coefficients will still be calculated and can have an effect on the gas, even though the dust is in principle not moving.\n",
    "\n",
    "Always keep in mind what you want to achieve by turning off dust evolution and unset the updaters of certain fields, if required."
   ]
  },
  {
   "cell_type": "markdown",
   "metadata": {},
   "source": [
    "## Changing the Dust Integrator\n",
    "\n",
    "By default the dust surface densities are integrated implicitly. This involves a matrix inversion. In some cases if the matrix is weakly conditioned this can cause a violation of mass conservation. In that case you might want to use an explicit integrator instead. You can do this by calling"
   ]
  },
  {
   "cell_type": "code",
   "execution_count": 16,
   "metadata": {
    "execution": {
     "iopub.execute_input": "2023-02-06T17:24:32.746246Z",
     "iopub.status.busy": "2023-02-06T17:24:32.745807Z",
     "iopub.status.idle": "2023-02-06T17:24:32.762632Z",
     "shell.execute_reply": "2023-02-06T17:24:32.760973Z"
    }
   },
   "outputs": [
    {
     "name": "stdout",
     "output_type": "stream",
     "text": [
      "Setting dust integrator\n",
      "    scheme: \u001b[94mexplicit\u001b[0m\n",
      "    method: \u001b[94mcash-karp\u001b[0m\n"
     ]
    }
   ],
   "source": [
    "sim.setdustintegrator(scheme=\"explicit\", method=\"cash-karp\")"
   ]
  },
  {
   "cell_type": "markdown",
   "metadata": {},
   "source": [
    "to set the dust integrator to an explicit 5th-order scheme. The function also changes the update order automatically, since for explicit integration all quantities need to be updated before integration. The update order for explicit integration is"
   ]
  },
  {
   "cell_type": "code",
   "execution_count": 17,
   "metadata": {
    "execution": {
     "iopub.execute_input": "2023-02-06T17:24:32.770439Z",
     "iopub.status.busy": "2023-02-06T17:24:32.770006Z",
     "iopub.status.idle": "2023-02-06T17:24:32.782801Z",
     "shell.execute_reply": "2023-02-06T17:24:32.781527Z"
    }
   },
   "outputs": [],
   "source": [
    "sim.dust.updater = [\"delta\", \"rhos\", \"fill\", \"a\", \"St\", \"H\", \"rho\", \"backreaction\", \"v\", \"D\", \"eps\", \"Fi\", \"kernel\", \"p\", \"S\"]\n",
    "sim.dust.backreaction.updater = [\"A\", \"B\"]\n",
    "sim.dust.delta.updater = [\"rad\", \"turb\", \"vert\"]\n",
    "sim.dust.Fi.updater = [\"adv\", \"diff\", \"tot\"]\n",
    "sim.dust.p.updater = [\"frag\", \"stick\"]\n",
    "sim.dust.S.updater = [\"coag\", \"hyd\", \"ext\", \"tot\"]\n",
    "sim.dust.v.updater = [\"frag\", \"driftmax\", \"rad\", \"rel\"]\n",
    "sim.dust.v.rel.updater = [\"azi\", \"brown\", \"rad\", \"turb\", \"vert\", \"tot\"]"
   ]
  },
  {
   "cell_type": "markdown",
   "metadata": {},
   "source": [
    "There are other options for setting the dust integrator. See"
   ]
  },
  {
   "cell_type": "code",
   "execution_count": 18,
   "metadata": {
    "execution": {
     "iopub.execute_input": "2023-02-06T17:24:32.789973Z",
     "iopub.status.busy": "2023-02-06T17:24:32.789517Z",
     "iopub.status.idle": "2023-02-06T17:24:32.799953Z",
     "shell.execute_reply": "2023-02-06T17:24:32.798641Z"
    }
   },
   "outputs": [
    {
     "name": "stdout",
     "output_type": "stream",
     "text": [
      "Help on method setdustintegrator in module dustpy.simulation:\n",
      "\n",
      "setdustintegrator(scheme='explicit', method='cash-karp') method of dustpy.simulation.Simulation instance\n",
      "    Function sets the dust integrator.\n",
      "    \n",
      "    Parameters\n",
      "    ----------\n",
      "    scheme : string, optional, default : \"explicit\"\n",
      "        Possible values\n",
      "            {\"explicit\", \"implicit\"}\n",
      "    method : string, optional, default : \"cash-karp\"\n",
      "        Possible values for explicit integration\n",
      "            {\"cash-karp\"}\n",
      "        Possible values for implicit integration\n",
      "            {\"direct\", \"gmres\", \"bicgstab}\n",
      "\n"
     ]
    }
   ],
   "source": [
    "help(sim.setdustintegrator)"
   ]
  }
 ],
 "metadata": {
  "kernelspec": {
   "display_name": "Python 3 (ipykernel)",
   "language": "python",
   "name": "python3"
  },
  "language_info": {
   "codemirror_mode": {
    "name": "ipython",
    "version": 3
   },
   "file_extension": ".py",
   "mimetype": "text/x-python",
   "name": "python",
   "nbconvert_exporter": "python",
   "pygments_lexer": "ipython3",
   "version": "3.9.0"
  }
 },
 "nbformat": 4,
 "nbformat_minor": 4
}
