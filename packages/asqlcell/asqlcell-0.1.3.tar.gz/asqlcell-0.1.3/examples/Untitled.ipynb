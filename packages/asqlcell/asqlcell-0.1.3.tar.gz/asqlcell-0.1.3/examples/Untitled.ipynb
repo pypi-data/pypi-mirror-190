{
 "cells": [
  {
   "cell_type": "code",
   "execution_count": 21,
   "id": "360f9255-a58e-47e0-9733-28a1d967d638",
   "metadata": {},
   "outputs": [
    {
     "name": "stdout",
     "output_type": "stream",
     "text": [
      "Requirement already satisfied: nbformat in /home/linben/miniconda3/envs/asqlcell/lib/python3.11/site-packages (5.7.1)\n",
      "Requirement already satisfied: fastjsonschema in /home/linben/miniconda3/envs/asqlcell/lib/python3.11/site-packages (from nbformat) (2.16.2)\n",
      "Requirement already satisfied: jsonschema>=2.6 in /home/linben/miniconda3/envs/asqlcell/lib/python3.11/site-packages (from nbformat) (4.17.3)\n",
      "Requirement already satisfied: jupyter-core in /home/linben/miniconda3/envs/asqlcell/lib/python3.11/site-packages (from nbformat) (5.1.2)\n",
      "Requirement already satisfied: traitlets>=5.1 in /home/linben/miniconda3/envs/asqlcell/lib/python3.11/site-packages (from nbformat) (5.8.0)\n",
      "Requirement already satisfied: attrs>=17.4.0 in /home/linben/miniconda3/envs/asqlcell/lib/python3.11/site-packages (from jsonschema>=2.6->nbformat) (22.2.0)\n",
      "Requirement already satisfied: pyrsistent!=0.17.0,!=0.17.1,!=0.17.2,>=0.14.0 in /home/linben/miniconda3/envs/asqlcell/lib/python3.11/site-packages (from jsonschema>=2.6->nbformat) (0.19.3)\n",
      "Requirement already satisfied: platformdirs>=2.5 in /home/linben/miniconda3/envs/asqlcell/lib/python3.11/site-packages (from jupyter-core->nbformat) (2.6.2)\n"
     ]
    }
   ],
   "source": [
    "!pip install nbformat"
   ]
  },
  {
   "cell_type": "code",
   "execution_count": 2,
   "id": "a2e26fb1-b883-416a-a194-550b888ed97b",
   "metadata": {},
   "outputs": [
    {
     "data": {
      "text/plain": [
       "'Hello aaaaa sfadf!'"
      ]
     },
     "execution_count": 2,
     "metadata": {},
     "output_type": "execute_result"
    }
   ],
   "source": [
    "import __main__\n",
    "\n",
    "def get_value(variable_name):\n",
    "    return getattr(__main__, variable_name, None)\n",
    "\n",
    "def get_vars():\n",
    "    dfs = {}\n",
    "    for v in dir(__main__):\n",
    "        dfs[v] = get_value(v)\n",
    "    return dfs\n",
    "\n",
    "from jinja2 import Template\n",
    "template = Template('Hello {{ abc }} {{dd}}!')\n",
    "template.render({'abc' : 'John Doe', 'dd':'lasdf'})\n",
    "abc = 'aaaaa'\n",
    "dd = 'sfadf'\n",
    "aaaaa = 'bsafasd' \n",
    "Template('Hello {{ abc }} {{dd}}!').render(get_vars())"
   ]
  },
  {
   "cell_type": "code",
   "execution_count": 3,
   "id": "4183b595-dd4a-445a-a443-2dacf0f59d91",
   "metadata": {},
   "outputs": [
    {
     "data": {
      "text/plain": [
       "dict"
      ]
     },
     "execution_count": 3,
     "metadata": {},
     "output_type": "execute_result"
    }
   ],
   "source": [
    "from asqlcell import SqlcellWidget\n",
    "from nbformat import read, write, NO_CONVERT\n",
    "from traitlets import Unicode\n",
    "type(Unicode.metadata)\n",
    "w = SqlcellWidget()\n",
    "w"
   ]
  },
  {
   "cell_type": "code",
   "execution_count": 31,
   "id": "c37be40a-b4e3-4db2-a804-7a24eb930fe1",
   "metadata": {},
   "outputs": [
    {
     "data": {
      "text/html": [
       "<div>\n",
       "<style scoped>\n",
       "    .dataframe tbody tr th:only-of-type {\n",
       "        vertical-align: middle;\n",
       "    }\n",
       "\n",
       "    .dataframe tbody tr th {\n",
       "        vertical-align: top;\n",
       "    }\n",
       "\n",
       "    .dataframe thead th {\n",
       "        text-align: right;\n",
       "    }\n",
       "</style>\n",
       "<table border=\"1\" class=\"dataframe\">\n",
       "  <thead>\n",
       "    <tr style=\"text-align: right;\">\n",
       "      <th></th>\n",
       "      <th>histogram(\"C\")</th>\n",
       "    </tr>\n",
       "  </thead>\n",
       "  <tbody>\n",
       "    <tr>\n",
       "      <th>0</th>\n",
       "      <td>{'key': [0.19, 0.2, 0.21, 0.22, 0.23, 0.24, 0.25, 0.26, 0.27, 0.28, 0.29, 0.3, 0.31, 0.32, 0.33, 0.34, 0.35, 0.36, 0.37, 0.38, 0.39, 0.4, 0.41, 0.42, 0.44, 0.45, 0.46, 0.48, 0.49, 0.5, 0.51, 0.52, 0.53, 0.54, 0.55, 0.56, 0.57, 0.58, 0.59, 0.6, 0.61, 0.62, 0.63, 0.64, 0.65, 0.66, 0.67, 0.68, 0.69, 0.7, 0.71, 0.72, 0.73, 0.74, 0.75, 0.76, 0.77, 0.78, 0.79, 0.8, 0.81, 0.82, 0.83, 0.84, 0.85, 0.86, 0.87, 0.88, 0.89, 0.9, 0.91, 0.92, 0.93, 0.94, 0.95, 0.96, 0.97, 0.98, 0.99, 1.0, 1.01, 1.02, 1.03, 1.04, 1.05, 1.06, 1.07, 1.08, 1.09, 1.1, 1.11, 1.12, 1.13, 1.14, 1.15, 1.16, 1.17, 1.18, 1.19, 1.2, ...], 'value': [1, 11, 5, 5, 11, 14, 10, 8, 16, 18, 27, 15, 27, 7, 10, 8, 13, 11, 9, 8, 14, 9, 8, 1, 2, 3, 1, 2, 2, 4, 4, 10, 11, 4, 6, 1, 7, 8, 11, 3, 5, 5, 5, 4, 3, 11, 7, 7, 5, 4, 2, 3, 3, 3, 6, 4, 4, 7, 13, 11, 4, 3, 10, 4, 4, 7, 7, 4, 9, 12, 17, 10, 8, 20, 19, 26, 20, 31, 54, 49, 59, 57, 72, 64, 65, 79, 63, 54, 56, 51, 54, 55, 88, 79, 93, 103, 119, 110, 114, 113, ...]}</td>\n",
       "    </tr>\n",
       "  </tbody>\n",
       "</table>\n",
       "</div>"
      ],
      "text/plain": [
       "                                                                                                                                                                                                                                                                                                                                                                                                                                                                                                                                                                                                                                                                                                                                                                                                                                                                                                                                                                                                   histogram(\"C\")\n",
       "0  {'key': [0.19, 0.2, 0.21, 0.22, 0.23, 0.24, 0.25, 0.26, 0.27, 0.28, 0.29, 0.3, 0.31, 0.32, 0.33, 0.34, 0.35, 0.36, 0.37, 0.38, 0.39, 0.4, 0.41, 0.42, 0.44, 0.45, 0.46, 0.48, 0.49, 0.5, 0.51, 0.52, 0.53, 0.54, 0.55, 0.56, 0.57, 0.58, 0.59, 0.6, 0.61, 0.62, 0.63, 0.64, 0.65, 0.66, 0.67, 0.68, 0.69, 0.7, 0.71, 0.72, 0.73, 0.74, 0.75, 0.76, 0.77, 0.78, 0.79, 0.8, 0.81, 0.82, 0.83, 0.84, 0.85, 0.86, 0.87, 0.88, 0.89, 0.9, 0.91, 0.92, 0.93, 0.94, 0.95, 0.96, 0.97, 0.98, 0.99, 1.0, 1.01, 1.02, 1.03, 1.04, 1.05, 1.06, 1.07, 1.08, 1.09, 1.1, 1.11, 1.12, 1.13, 1.14, 1.15, 1.16, 1.17, 1.18, 1.19, 1.2, ...], 'value': [1, 11, 5, 5, 11, 14, 10, 8, 16, 18, 27, 15, 27, 7, 10, 8, 13, 11, 9, 8, 14, 9, 8, 1, 2, 3, 1, 2, 2, 4, 4, 10, 11, 4, 6, 1, 7, 8, 11, 3, 5, 5, 5, 4, 3, 11, 7, 7, 5, 4, 2, 3, 3, 3, 6, 4, 4, 7, 13, 11, 4, 3, 10, 4, 4, 7, 7, 4, 9, 12, 17, 10, 8, 20, 19, 26, 20, 31, 54, 49, 59, 57, 72, 64, 65, 79, 63, 54, 56, 51, 54, 55, 88, 79, 93, 103, 119, 110, 114, 113, ...]}"
      ]
     },
     "execution_count": 31,
     "metadata": {},
     "output_type": "execute_result"
    }
   ],
   "source": [
    "%sql select histogram(C) from data.parquet"
   ]
  },
  {
   "cell_type": "code",
   "execution_count": 30,
   "id": "517ab0e8-a17e-4886-9858-f8e94e0051db",
   "metadata": {
    "tags": []
   },
   "outputs": [
    {
     "name": "stdout",
     "output_type": "stream",
     "text": [
      "           \n",
      "           \n",
      "           \n",
      "           \n",
      "           \n",
      "           \n",
      "           \n",
      "           \n",
      "           \n",
      "           \n",
      "           \n",
      "           \n",
      "           \n",
      "           \n",
      "           \n",
      "           \n",
      "           \n",
      "           \n",
      "           \n",
      "           \n",
      "           \n",
      "           \n",
      "           \n",
      "           \n",
      "           \n",
      "           \n",
      "           \n",
      "           \n",
      "           \n",
      "           \n",
      "           \n",
      "           \n",
      "           \n",
      "           \n",
      "           \n",
      "           \n",
      "           \n",
      "           \n",
      "           \n",
      "           \n",
      "           \n",
      "           \n",
      "           \n",
      "           \n",
      "           \n",
      "           \n",
      "           \n",
      "           \n",
      "           \n",
      "           \n",
      "           \n",
      "           \n",
      "           \n",
      "           \n",
      "           \n",
      "           \n",
      "           \n",
      "           \n",
      "           \n",
      "           \n",
      "           \n",
      "           \n",
      "           \n",
      "           \n",
      "           \n",
      "           \n",
      "           \n",
      "           \n",
      "           \n",
      "           \n",
      "           \n",
      "           \n",
      "           \n",
      "           \n",
      "           \n",
      "           \n",
      "           \n",
      "           \n",
      "           \n",
      "           \n",
      "           \n",
      "           \n",
      "      histo\n",
      "gram(\"C\")\n",
      "0\n",
      "  {'key': [\n",
      "0.19, 0.2, \n",
      "0.21, 0.22,\n",
      " 0.23, 0.24\n",
      ", 0.25, 0.2\n",
      "6, 0.27, 0.\n",
      "28, 0.29, 0\n",
      ".3, 0.31, 0\n",
      ".32, 0.33, \n",
      "0.34, 0.35,\n",
      " 0.36, 0.37\n",
      ", 0.38, 0.3\n",
      "9, 0.4, 0.4\n",
      "1, 0.42, 0.\n",
      "44, 0.45, 0\n",
      ".46, 0.48, \n",
      "0.49, 0.5, \n",
      "0.51, 0.52,\n",
      " 0.53, 0.54\n",
      ", 0.55, 0.5\n",
      "6, 0.57, 0.\n",
      "58, 0.59, 0\n",
      ".6, 0.61, 0\n",
      ".62, 0.63, \n",
      "0.64, 0.65,\n",
      " 0.66, 0.67\n",
      ", 0.68, 0.6\n",
      "9, 0.7, 0.7\n",
      "1, 0.72, 0.\n",
      "73, 0.74, 0\n",
      ".75, 0.76, \n",
      "0.77, 0.78,\n",
      " 0.79, 0.8,\n",
      " 0.81, 0.82\n",
      ", 0.83, 0.8\n",
      "4, 0.85, 0.\n",
      "86, 0.87, 0\n",
      ".88, 0.89, \n",
      "0.9, 0.91, \n",
      "0.92, 0.93,\n",
      " 0.94, 0.95\n",
      ", 0.96, 0.9\n",
      "7, 0.98, 0.\n",
      "99, 1.0, 1.\n",
      "01, 1.02, 1\n",
      ".03, 1.04, \n",
      "1.05, 1.06,\n",
      " 1.07, 1.08\n",
      ", 1.09, 1.1\n",
      ", 1.11, 1.1\n",
      "2, 1.13, 1.\n",
      "14, 1.15, 1\n",
      ".16, 1.17, \n",
      "1.18, 1.19,\n",
      " 1.2, ...],\n",
      " 'value': [\n",
      "1, 11, 5, 5\n",
      ", 11, 14, 1\n",
      "0, 8, 16, 1\n",
      "8, 27, 15, \n",
      "27, 7, 10, \n",
      "8, 13, 11, \n",
      "9, 8, 14, 9\n",
      ", 8, 1, 2, \n",
      "3, 1, 2, 2,\n",
      " 4, 4, 10, \n",
      "11, 4, 6, 1\n",
      ", 7, 8, 11,\n",
      " 3, 5, 5, 5\n",
      ", 4, 3, 11,\n",
      " 7, 7, 5, 4\n",
      ", 2, 3, 3, \n",
      "3, 6, 4, 4,\n",
      " 7, 13, 11,\n",
      " 4, 3, 10, \n",
      "4, 4, 7, 7,\n",
      " 4, 9, 12, \n",
      "17, 10, 8, \n",
      "20, 19, 26,\n",
      " 20, 31, 54\n",
      ", 49, 59, 5\n",
      "7, 72, 64, \n",
      "65, 79, 63,\n",
      " 54, 56, 51\n",
      ", 54, 55, 8\n",
      "8, 79, 93, \n",
      "103, 119, 1\n",
      "10, 114, 11\n",
      "3, ...]}"
     ]
    }
   ],
   "source": [
    "import pandas as pd\n",
    "pd.set_option(\"max_colwidth\", 1000)\n",
    "import json\n",
    "count=0\n",
    "for s in str(a)[55:]:\n",
    "    print(s, end=\"\")\n",
    "    count += 1\n",
    "    if count % 11 == 0:\n",
    "        print()\n",
    "#json.loads(str(a)[55:])"
   ]
  },
  {
   "cell_type": "code",
   "execution_count": 8,
   "id": "1582cf82-edaf-402b-8bc8-2476f45bf7da",
   "metadata": {},
   "outputs": [
    {
     "data": {
      "application/vnd.jupyter.widget-view+json": {
       "model_id": "66ab3f6680954a6188c51e8dd4f72471",
       "version_major": 2,
       "version_minor": 0
      },
      "text/plain": [
       "SqlcellWidget(data_range=(0, 10), index_sort=('', 0))"
      ]
     },
     "execution_count": 8,
     "metadata": {},
     "output_type": "execute_result"
    }
   ],
   "source": [
    "%%sql b\n",
    "SELECT *\n",
    "FROM data.csv\n",
    "LIMIT 200"
   ]
  },
  {
   "cell_type": "code",
   "execution_count": null,
   "id": "8f087bd1-ff1e-497f-8365-9da5bd4aee0f",
   "metadata": {},
   "outputs": [],
   "source": []
  }
 ],
 "metadata": {
  "kernelspec": {
   "display_name": "Python 3 (ipykernel)",
   "language": "python",
   "name": "python3"
  },
  "language_info": {
   "codemirror_mode": {
    "name": "ipython",
    "version": 3
   },
   "file_extension": ".py",
   "mimetype": "text/x-python",
   "name": "python",
   "nbconvert_exporter": "python",
   "pygments_lexer": "ipython3",
   "version": "3.11.0"
  }
 },
 "nbformat": 4,
 "nbformat_minor": 5
}
