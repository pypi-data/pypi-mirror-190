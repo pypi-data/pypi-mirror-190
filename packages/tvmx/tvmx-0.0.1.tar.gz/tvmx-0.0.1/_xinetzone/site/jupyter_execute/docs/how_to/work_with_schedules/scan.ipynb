{
 "cells": [
  {
   "cell_type": "code",
   "execution_count": null,
   "metadata": {
    "collapsed": false
   },
   "outputs": [],
   "source": [
    "%matplotlib inline"
   ]
  },
  {
   "cell_type": "markdown",
   "metadata": {},
   "source": [
    "\n",
    "# Scan and Recurrent Kernel\n",
    "**Author**: [Tianqi Chen](https://tqchen.github.io)\n",
    "\n",
    "This is an introduction material on how to do recurrent computing in TVM.\n",
    "Recurrent computing is a typical pattern in neural networks.\n"
   ]
  },
  {
   "cell_type": "code",
   "execution_count": null,
   "metadata": {
    "collapsed": false
   },
   "outputs": [],
   "source": [
    "from __future__ import absolute_import, print_function\n",
    "\n",
    "\n",
    "import tvm\n",
    "import tvm.testing\n",
    "from tvm import te\n",
    "import numpy as np"
   ]
  },
  {
   "cell_type": "markdown",
   "metadata": {},
   "source": [
    "TVM supports a scan operator to describe symbolic loop.\n",
    "The following scan op computes cumsum over columns of X.\n",
    "\n",
    "The scan is carried over the highest dimension of the tensor.\n",
    ":code:`s_state` is a placeholder that describes the transition state of the scan.\n",
    ":code:`s_init` describes how we can initialize the first k timesteps.\n",
    "Here since s_init's first dimension is 1, it describes how we initialize\n",
    "The state at first timestep.\n",
    "\n",
    ":code:`s_update` describes how to update the value at timestep t. The update\n",
    "value can refer back to the values of previous timestep via state placeholder.\n",
    "Note that while it is invalid to refer to :code:`s_state` at current or later timestep.\n",
    "\n",
    "The scan takes in state placeholder, initial value and update description.\n",
    "It is also recommended(although not necessary) to list the inputs to the scan cell.\n",
    "The result of the scan is a tensor, giving the result of :code:`s_state` after the\n",
    "update over the time domain.\n",
    "\n",
    "\n"
   ]
  },
  {
   "cell_type": "code",
   "execution_count": null,
   "metadata": {
    "collapsed": false
   },
   "outputs": [],
   "source": [
    "m = te.var(\"m\")\n",
    "n = te.var(\"n\")\n",
    "X = te.placeholder((m, n), name=\"X\")\n",
    "s_state = te.placeholder((m, n))\n",
    "s_init = te.compute((1, n), lambda _, i: X[0, i])\n",
    "s_update = te.compute((m, n), lambda t, i: s_state[t - 1, i] + X[t, i])\n",
    "s_scan = tvm.te.scan(s_init, s_update, s_state, inputs=[X])"
   ]
  },
  {
   "cell_type": "markdown",
   "metadata": {},
   "source": [
    "## Schedule the Scan Cell\n",
    "We can schedule the body of the scan by scheduling the update and\n",
    "init part separately. Note that it is invalid to schedule the\n",
    "first iteration dimension of the update part.\n",
    "To split on the time iteration, user can schedule on scan_op.scan_axis instead.\n",
    "\n",
    "\n"
   ]
  },
  {
   "cell_type": "code",
   "execution_count": null,
   "metadata": {
    "collapsed": false
   },
   "outputs": [],
   "source": [
    "s = te.create_schedule(s_scan.op)\n",
    "num_thread = 256\n",
    "block_x = te.thread_axis(\"blockIdx.x\")\n",
    "thread_x = te.thread_axis(\"threadIdx.x\")\n",
    "xo, xi = s[s_init].split(s_init.op.axis[1], factor=num_thread)\n",
    "s[s_init].bind(xo, block_x)\n",
    "s[s_init].bind(xi, thread_x)\n",
    "xo, xi = s[s_update].split(s_update.op.axis[1], factor=num_thread)\n",
    "s[s_update].bind(xo, block_x)\n",
    "s[s_update].bind(xi, thread_x)\n",
    "print(tvm.lower(s, [X, s_scan], simple_mode=True))"
   ]
  },
  {
   "cell_type": "markdown",
   "metadata": {},
   "source": [
    "## Build and Verify\n",
    "We can build the scan kernel like other TVM kernels, here we use\n",
    "numpy to verify the correctness of the result.\n",
    "\n",
    "\n"
   ]
  },
  {
   "cell_type": "code",
   "execution_count": null,
   "metadata": {
    "collapsed": false
   },
   "outputs": [],
   "source": [
    "fscan = tvm.build(s, [X, s_scan], \"cuda\", name=\"myscan\")\n",
    "dev = tvm.cuda(0)\n",
    "n = 1024\n",
    "m = 10\n",
    "a_np = np.random.uniform(size=(m, n)).astype(s_scan.dtype)\n",
    "a = tvm.nd.array(a_np, dev)\n",
    "b = tvm.nd.array(np.zeros((m, n), dtype=s_scan.dtype), dev)\n",
    "fscan(a, b)\n",
    "tvm.testing.assert_allclose(b.numpy(), np.cumsum(a_np, axis=0))"
   ]
  },
  {
   "cell_type": "markdown",
   "metadata": {},
   "source": [
    "## Multi-Stage Scan Cell\n",
    "In the above example we described the scan cell using one Tensor\n",
    "computation stage in s_update. It is possible to use multiple\n",
    "Tensor stages in the scan cell.\n",
    "\n",
    "The following lines demonstrate a scan with two stage operations\n",
    "in the scan cell.\n",
    "\n",
    "\n"
   ]
  },
  {
   "cell_type": "code",
   "execution_count": null,
   "metadata": {
    "collapsed": false
   },
   "outputs": [],
   "source": [
    "m = te.var(\"m\")\n",
    "n = te.var(\"n\")\n",
    "X = te.placeholder((m, n), name=\"X\")\n",
    "s_state = te.placeholder((m, n))\n",
    "s_init = te.compute((1, n), lambda _, i: X[0, i])\n",
    "s_update_s1 = te.compute((m, n), lambda t, i: s_state[t - 1, i] * 2, name=\"s1\")\n",
    "s_update_s2 = te.compute((m, n), lambda t, i: s_update_s1[t, i] + X[t, i], name=\"s2\")\n",
    "s_scan = tvm.te.scan(s_init, s_update_s2, s_state, inputs=[X])"
   ]
  },
  {
   "cell_type": "markdown",
   "metadata": {},
   "source": [
    "These intermediate tensors can also be scheduled normally.\n",
    "To ensure correctness, TVM creates a group constraint to forbid\n",
    "the body of scan to be compute_at locations outside the scan loop.\n",
    "\n",
    "\n"
   ]
  },
  {
   "cell_type": "code",
   "execution_count": null,
   "metadata": {
    "collapsed": false
   },
   "outputs": [],
   "source": [
    "s = te.create_schedule(s_scan.op)\n",
    "xo, xi = s[s_update_s2].split(s_update_s2.op.axis[1], factor=32)\n",
    "s[s_update_s1].compute_at(s[s_update_s2], xo)\n",
    "print(tvm.lower(s, [X, s_scan], simple_mode=True))"
   ]
  },
  {
   "cell_type": "markdown",
   "metadata": {},
   "source": [
    "## Multiple States\n",
    "For complicated applications like RNN, we might need more than one\n",
    "recurrent state. Scan support multiple recurrent states.\n",
    "The following example demonstrates how we can build recurrence with two states.\n",
    "\n",
    "\n"
   ]
  },
  {
   "cell_type": "code",
   "execution_count": null,
   "metadata": {
    "collapsed": false
   },
   "outputs": [],
   "source": [
    "m = te.var(\"m\")\n",
    "n = te.var(\"n\")\n",
    "l = te.var(\"l\")\n",
    "X = te.placeholder((m, n), name=\"X\")\n",
    "s_state1 = te.placeholder((m, n))\n",
    "s_state2 = te.placeholder((m, l))\n",
    "s_init1 = te.compute((1, n), lambda _, i: X[0, i])\n",
    "s_init2 = te.compute((1, l), lambda _, i: 0.0)\n",
    "s_update1 = te.compute((m, n), lambda t, i: s_state1[t - 1, i] + X[t, i])\n",
    "s_update2 = te.compute((m, l), lambda t, i: s_state2[t - 1, i] + s_state1[t - 1, 0])\n",
    "s_scan1, s_scan2 = tvm.te.scan(\n",
    "    [s_init1, s_init2], [s_update1, s_update2], [s_state1, s_state2], inputs=[X]\n",
    ")\n",
    "s = te.create_schedule(s_scan1.op)\n",
    "print(tvm.lower(s, [X, s_scan1, s_scan2], simple_mode=True))"
   ]
  },
  {
   "cell_type": "markdown",
   "metadata": {},
   "source": [
    "## Summary\n",
    "This tutorial provides a walk through of scan primitive.\n",
    "\n",
    "- Describe scan with init and update.\n",
    "- Schedule the scan cells as normal schedule.\n",
    "- For complicated workload, use multiple states and steps in scan cell.\n",
    "\n"
   ]
  }
 ],
 "metadata": {
  "kernelspec": {
   "display_name": "Python 3",
   "language": "python",
   "name": "python3"
  },
  "language_info": {
   "codemirror_mode": {
    "name": "ipython",
    "version": 3
   },
   "file_extension": ".py",
   "mimetype": "text/x-python",
   "name": "python",
   "nbconvert_exporter": "python",
   "pygments_lexer": "ipython3",
   "version": "3.7.5"
  }
 },
 "nbformat": 4,
 "nbformat_minor": 0
}