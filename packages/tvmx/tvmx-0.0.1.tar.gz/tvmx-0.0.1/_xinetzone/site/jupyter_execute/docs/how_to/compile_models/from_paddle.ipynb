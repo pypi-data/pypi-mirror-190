{
 "cells": [
  {
   "cell_type": "code",
   "execution_count": null,
   "metadata": {
    "collapsed": false
   },
   "outputs": [],
   "source": [
    "%matplotlib inline"
   ]
  },
  {
   "cell_type": "markdown",
   "metadata": {},
   "source": [
    "\n",
    "# Compile PaddlePaddle Models\n",
    "**Author**: [Ziyuan Ma](https://github.com/ZiyuanMa/)\n",
    "\n",
    "This article is an introductory tutorial to deploy PaddlePaddle models with Relay.\n",
    "For us to begin with, PaddlePaddle>=2.1.3 is required to be installed.\n",
    "A quick solution is\n",
    "\n",
    "```bash\n",
    "pip install paddlepaddle -i https://mirror.baidu.com/pypi/simple\n",
    "```\n",
    "or please refer to official site.\n",
    "https://www.paddlepaddle.org.cn/install/quick?docurl=/documentation/docs/zh/install/pip/linux-pip.html\n"
   ]
  },
  {
   "cell_type": "code",
   "execution_count": null,
   "metadata": {
    "collapsed": false
   },
   "outputs": [],
   "source": [
    "import tarfile\n",
    "import paddle\n",
    "import numpy as np\n",
    "import tvm\n",
    "from tvm import relay\n",
    "from tvm.contrib.download import download_testdata"
   ]
  },
  {
   "cell_type": "markdown",
   "metadata": {},
   "source": [
    "## Load pretrained ResNet50 model\n",
    "We load a pretrained ResNet50 provided by PaddlePaddle.\n",
    "\n"
   ]
  },
  {
   "cell_type": "code",
   "execution_count": null,
   "metadata": {
    "collapsed": false
   },
   "outputs": [],
   "source": [
    "url = \"https://bj.bcebos.com/x2paddle/models/paddle_resnet50.tar\"\n",
    "model_path = download_testdata(url, \"paddle_resnet50.tar\", module=\"model\")\n",
    "\n",
    "with tarfile.open(model_path) as tar:\n",
    "    names = tar.getnames()\n",
    "    for name in names:\n",
    "        tar.extract(name, \"./\")\n",
    "\n",
    "model = paddle.jit.load(\"./paddle_resnet50/model\")"
   ]
  },
  {
   "cell_type": "markdown",
   "metadata": {},
   "source": [
    "## Load a test image\n",
    "A single cat dominates the examples!\n",
    "\n"
   ]
  },
  {
   "cell_type": "code",
   "execution_count": null,
   "metadata": {
    "collapsed": false
   },
   "outputs": [],
   "source": [
    "from PIL import Image\n",
    "import paddle.vision.transforms as T\n",
    "\n",
    "\n",
    "transforms = T.Compose(\n",
    "    [\n",
    "        T.Resize((256, 256)),\n",
    "        T.CenterCrop(224),\n",
    "        T.ToTensor(),\n",
    "        T.Normalize(mean=[0.485, 0.456, 0.406], std=[0.229, 0.224, 0.225]),\n",
    "    ]\n",
    ")\n",
    "\n",
    "img_url = \"https://github.com/dmlc/mxnet.js/blob/main/data/cat.png?raw=true\"\n",
    "img_path = download_testdata(img_url, \"cat.png\", module=\"data\")\n",
    "img = Image.open(img_path).resize((224, 224))\n",
    "\n",
    "img = transforms(img)\n",
    "img = np.expand_dims(img, axis=0)"
   ]
  },
  {
   "cell_type": "markdown",
   "metadata": {},
   "source": [
    "## Compile the model with relay\n",
    "\n"
   ]
  },
  {
   "cell_type": "code",
   "execution_count": null,
   "metadata": {
    "collapsed": false
   },
   "outputs": [],
   "source": [
    "target = \"llvm\"\n",
    "shape_dict = {\"inputs\": img.shape}\n",
    "mod, params = relay.frontend.from_paddle(model, shape_dict)\n",
    "\n",
    "with tvm.transform.PassContext(opt_level=3):\n",
    "    executor = relay.build_module.create_executor(\n",
    "        \"graph\", mod, tvm.cpu(0), target, params\n",
    "    ).evaluate()"
   ]
  },
  {
   "cell_type": "markdown",
   "metadata": {},
   "source": [
    "## Execute on TVM\n",
    "\n"
   ]
  },
  {
   "cell_type": "code",
   "execution_count": null,
   "metadata": {
    "collapsed": false
   },
   "outputs": [],
   "source": [
    "dtype = \"float32\"\n",
    "tvm_output = executor(tvm.nd.array(img.astype(dtype))).numpy()"
   ]
  },
  {
   "cell_type": "markdown",
   "metadata": {},
   "source": [
    "## Look up synset name\n",
    "Look up prediction top 1 index in 1000 class synset.\n",
    "\n"
   ]
  },
  {
   "cell_type": "code",
   "execution_count": null,
   "metadata": {
    "collapsed": false
   },
   "outputs": [],
   "source": [
    "synset_url = \"\".join(\n",
    "    [\n",
    "        \"https://gist.githubusercontent.com/zhreshold/\",\n",
    "        \"4d0b62f3d01426887599d4f7ede23ee5/raw/\",\n",
    "        \"596b27d23537e5a1b5751d2b0481ef172f58b539/\",\n",
    "        \"imagenet1000_clsid_to_human.txt\",\n",
    "    ]\n",
    ")\n",
    "synset_name = \"imagenet1000_clsid_to_human.txt\"\n",
    "synset_path = download_testdata(synset_url, synset_name, module=\"data\")\n",
    "with open(synset_path) as f:\n",
    "    synset = f.readlines()\n",
    "\n",
    "top1 = np.argmax(tvm_output[0])\n",
    "print(f\"TVM prediction top-1 id: {top1}, class name: {synset[top1]}\")"
   ]
  }
 ],
 "metadata": {
  "kernelspec": {
   "display_name": "Python 3",
   "language": "python",
   "name": "python3"
  },
  "language_info": {
   "codemirror_mode": {
    "name": "ipython",
    "version": 3
   },
   "file_extension": ".py",
   "mimetype": "text/x-python",
   "name": "python",
   "nbconvert_exporter": "python",
   "pygments_lexer": "ipython3",
   "version": "3.7.5"
  }
 },
 "nbformat": 4,
 "nbformat_minor": 0
}