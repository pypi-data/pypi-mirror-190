{
 "cells": [
  {
   "cell_type": "code",
   "execution_count": null,
   "metadata": {
    "collapsed": false
   },
   "outputs": [],
   "source": [
    "%matplotlib inline"
   ]
  },
  {
   "cell_type": "markdown",
   "metadata": {},
   "source": [
    "\n",
    "\n",
    "# Deploy the Pretrained Model on Android\n",
    "**Author**: [Tomohiro Kato](https://tkat0.github.io/)\n",
    "\n",
    "This is an example of using Relay to compile a keras model and deploy it on Android device.\n"
   ]
  },
  {
   "cell_type": "code",
   "execution_count": null,
   "metadata": {
    "collapsed": false
   },
   "outputs": [],
   "source": [
    "import os\n",
    "import numpy as np\n",
    "from PIL import Image\n",
    "import keras\n",
    "from keras.applications.mobilenet_v2 import MobileNetV2\n",
    "import tvm\n",
    "from tvm import te\n",
    "import tvm.relay as relay\n",
    "from tvm import rpc\n",
    "from tvm.contrib import utils, ndk, graph_executor as runtime\n",
    "from tvm.contrib.download import download_testdata"
   ]
  },
  {
   "cell_type": "markdown",
   "metadata": {},
   "source": [
    "## Setup Environment\n",
    "Since there are many required packages for Android, it is recommended to use the official Docker Image.\n",
    "\n",
    "First, to build and run Docker Image, we can run the following command.\n",
    "\n",
    "```bash\n",
    "git clone --recursive https://github.com/apache/tvm tvm\n",
    "cd tvm\n",
    "docker build -t tvm.demo_android -f docker/Dockerfile.demo_android ./docker\n",
    "docker run --pid=host -h tvm -v $PWD:/workspace \\\n",
    "       -w /workspace -p 9190:9190 --name tvm -it tvm.demo_android bash\n",
    "```\n",
    "You are now inside the container. The cloned TVM directory is mounted on /workspace.\n",
    "At this time, mount the 9190 port used by RPC described later.\n",
    "\n",
    "<div class=\"alert alert-info\"><h4>Note</h4><p>Please execute the following steps in the container.\n",
    "  We can execute :code:`docker exec -it tvm bash` to open a new terminal in the container.</p></div>\n",
    "\n",
    "Next we build the TVM.\n",
    "\n",
    "```bash\n",
    "mkdir build\n",
    "cd build\n",
    "cmake -DUSE_LLVM=llvm-config-8 \\\n",
    "      -DUSE_RPC=ON \\\n",
    "      -DUSE_SORT=ON \\\n",
    "      -DUSE_VULKAN=ON \\\n",
    "      -DUSE_GRAPH_EXECUTOR=ON \\\n",
    "      ..\n",
    "make -j10\n",
    "```\n",
    "After building TVM successfully, Please set PYTHONPATH.\n",
    "\n",
    "```bash\n",
    "echo 'export PYTHONPATH=/workspace/python:/workspace/vta/python:${PYTHONPATH}' >> ~/.bashrc\n",
    "source ~/.bashrc\n",
    "```\n"
   ]
  },
  {
   "cell_type": "markdown",
   "metadata": {},
   "source": [
    "## Start RPC Tracker\n",
    "TVM uses RPC session to communicate with Android device.\n",
    "\n",
    "To start an RPC tracker, run this command in the container. The tracker is\n",
    "required during the whole tuning process, so we need to open a new terminal for\n",
    "this command:\n",
    "\n",
    "```bash\n",
    "python3 -m tvm.exec.rpc_tracker --host=0.0.0.0 --port=9190\n",
    "```\n",
    "The expected output is\n",
    "\n",
    "```bash\n",
    "INFO:RPCTracker:bind to 0.0.0.0:9190\n",
    "```\n"
   ]
  },
  {
   "cell_type": "markdown",
   "metadata": {},
   "source": [
    "## Register Android device to RPC Tracker\n",
    "Now we can register our Android device to the tracker.\n",
    "\n",
    "Follow this [readme page](https://github.com/apache/tvm/tree/main/apps/android_rpc) to\n",
    "install TVM RPC APK on the android device.\n",
    "\n",
    "Here is an example of config.mk. I enabled OpenCL and Vulkan.\n",
    "\n",
    "\n",
    "```bash\n",
    "APP_ABI = arm64-v8a\n",
    "\n",
    "APP_PLATFORM = android-24\n",
    "\n",
    "# whether enable OpenCL during compile\n",
    "USE_OPENCL = 1\n",
    "\n",
    "# whether to enable Vulkan during compile\n",
    "USE_VULKAN = 1\n",
    "\n",
    "ifeq ($(USE_VULKAN), 1)\n",
    "  # Statically linking vulkan requires API Level 24 or higher\n",
    "  APP_PLATFORM = android-24\n",
    "endif\n",
    "\n",
    "# the additional include headers you want to add, e.g., SDK_PATH/adrenosdk/Development/Inc\n",
    "ADD_C_INCLUDES += /work/adrenosdk-linux-5_0/Development/Inc\n",
    "# downloaded from https://github.com/KhronosGroup/OpenCL-Headers\n",
    "ADD_C_INCLUDES += /usr/local/OpenCL-Headers/\n",
    "\n",
    "# the additional link libs you want to add, e.g., ANDROID_LIB_PATH/libOpenCL.so\n",
    "ADD_LDLIBS = /workspace/pull-from-android-device/libOpenCL.so\n",
    "```\n",
    "<div class=\"alert alert-info\"><h4>Note</h4><p>At this time, don't forget to [create a standalone toolchain](https://github.com/apache/tvm/tree/main/apps/android_rpc#architecture-and-android-standalone-toolchain) .\n",
    "\n",
    "  for example\n",
    "\n",
    "```bash\n",
    "$ANDROID_NDK_HOME/build/tools/make-standalone-toolchain.sh \\\n",
    "   --platform=android-24 --use-llvm --arch=arm64 --install-dir=/opt/android-toolchain-arm64\n",
    "export TVM_NDK_CC=/opt/android-toolchain-arm64/bin/aarch64-linux-android-g++</p></div>\n",
    "```\n",
    "Next, start the Android application and enter the IP address and port of RPC Tracker.\n",
    "Then you have already registered your device.\n",
    "\n",
    "After registering devices, we can confirm it by querying rpc_tracker\n",
    "\n",
    "```bash\n",
    "python3 -m tvm.exec.query_rpc_tracker --host=0.0.0.0 --port=9190\n",
    "```\n",
    "For example, if we have 1 Android device.\n",
    "the output can be\n",
    "\n",
    "```bash\n",
    "Queue Status\n",
    "----------------------------------\n",
    "key          total  free  pending\n",
    "----------------------------------\n",
    "android      1      1     0\n",
    "----------------------------------\n",
    "```\n",
    "To confirm that you can communicate with Android, we can run following test script.\n",
    "If you use OpenCL and Vulkan, please set :code:`test_opencl` and :code:`test_vulkan` in the script.\n",
    "\n",
    "```bash\n",
    "export TVM_TRACKER_HOST=0.0.0.0\n",
    "export TVM_TRACKER_PORT=9190\n",
    "```\n",
    "```bash\n",
    "cd /workspace/apps/android_rpc\n",
    "python3 tests/android_rpc_test.py\n",
    "```\n"
   ]
  },
  {
   "cell_type": "markdown",
   "metadata": {},
   "source": [
    "## Load pretrained keras model\n",
    "We load a pretrained MobileNetV2(alpha=0.5) classification model provided by keras.\n",
    "\n"
   ]
  },
  {
   "cell_type": "code",
   "execution_count": null,
   "metadata": {
    "collapsed": false
   },
   "outputs": [],
   "source": [
    "keras.backend.clear_session()  # Destroys the current TF graph and creates a new one.\n",
    "weights_url = \"\".join(\n",
    "    [\n",
    "        \"https://github.com/JonathanCMitchell/\",\n",
    "        \"mobilenet_v2_keras/releases/download/v1.1/\",\n",
    "        \"mobilenet_v2_weights_tf_dim_ordering_tf_kernels_0.5_224.h5\",\n",
    "    ]\n",
    ")\n",
    "weights_file = \"mobilenet_v2_weights.h5\"\n",
    "weights_path = download_testdata(weights_url, weights_file, module=\"keras\")\n",
    "keras_mobilenet_v2 = MobileNetV2(\n",
    "    alpha=0.5, include_top=True, weights=None, input_shape=(224, 224, 3), classes=1000\n",
    ")\n",
    "keras_mobilenet_v2.load_weights(weights_path)"
   ]
  },
  {
   "cell_type": "markdown",
   "metadata": {},
   "source": [
    "In order to test our model, here we download an image of cat and\n",
    "transform its format.\n",
    "\n"
   ]
  },
  {
   "cell_type": "code",
   "execution_count": null,
   "metadata": {
    "collapsed": false
   },
   "outputs": [],
   "source": [
    "img_url = \"https://github.com/dmlc/mxnet.js/blob/main/data/cat.png?raw=true\"\n",
    "img_name = \"cat.png\"\n",
    "img_path = download_testdata(img_url, img_name, module=\"data\")\n",
    "image = Image.open(img_path).resize((224, 224))\n",
    "dtype = \"float32\"\n",
    "\n",
    "\n",
    "def transform_image(image):\n",
    "    image = np.array(image) - np.array([123.0, 117.0, 104.0])\n",
    "    image /= np.array([58.395, 57.12, 57.375])\n",
    "    image = image.transpose((2, 0, 1))\n",
    "    image = image[np.newaxis, :]\n",
    "    return image\n",
    "\n",
    "\n",
    "x = transform_image(image)"
   ]
  },
  {
   "cell_type": "markdown",
   "metadata": {},
   "source": [
    "synset is used to transform the label from number of ImageNet class to\n",
    "the word human can understand.\n",
    "\n"
   ]
  },
  {
   "cell_type": "code",
   "execution_count": null,
   "metadata": {
    "collapsed": false
   },
   "outputs": [],
   "source": [
    "synset_url = \"\".join(\n",
    "    [\n",
    "        \"https://gist.githubusercontent.com/zhreshold/\",\n",
    "        \"4d0b62f3d01426887599d4f7ede23ee5/raw/\",\n",
    "        \"596b27d23537e5a1b5751d2b0481ef172f58b539/\",\n",
    "        \"imagenet1000_clsid_to_human.txt\",\n",
    "    ]\n",
    ")\n",
    "synset_name = \"imagenet1000_clsid_to_human.txt\"\n",
    "synset_path = download_testdata(synset_url, synset_name, module=\"data\")\n",
    "with open(synset_path) as f:\n",
    "    synset = eval(f.read())"
   ]
  },
  {
   "cell_type": "markdown",
   "metadata": {},
   "source": [
    "## Compile the model with relay\n",
    "If we run the example on our x86 server for demonstration, we can simply\n",
    "set it as :code:`llvm`. If running it on the Android device, we need to\n",
    "specify its instruction set. Set :code:`local_demo` to False if you want\n",
    "to run this tutorial with a real device.\n",
    "\n"
   ]
  },
  {
   "cell_type": "code",
   "execution_count": null,
   "metadata": {
    "collapsed": false
   },
   "outputs": [],
   "source": [
    "local_demo = True\n",
    "\n",
    "# by default on CPU target will execute.\n",
    "# select 'cpu', 'opencl' and 'vulkan'\n",
    "test_target = \"cpu\"\n",
    "\n",
    "# Change target configuration.\n",
    "# Run `adb shell cat /proc/cpuinfo` to find the arch.\n",
    "arch = \"arm64\"\n",
    "target = tvm.target.Target(\"llvm -mtriple=%s-linux-android\" % arch)\n",
    "\n",
    "if local_demo:\n",
    "    target = tvm.target.Target(\"llvm\")\n",
    "elif test_target == \"opencl\":\n",
    "    target = tvm.target.Target(\"opencl\", host=target)\n",
    "elif test_target == \"vulkan\":\n",
    "    target = tvm.target.Target(\"vulkan\", host=target)\n",
    "\n",
    "input_name = \"input_1\"\n",
    "shape_dict = {input_name: x.shape}\n",
    "mod, params = relay.frontend.from_keras(keras_mobilenet_v2, shape_dict)\n",
    "\n",
    "with tvm.transform.PassContext(opt_level=3):\n",
    "    lib = relay.build(mod, target=target, params=params)\n",
    "\n",
    "# After `relay.build`, you will get three return values: graph,\n",
    "# library and the new parameter, since we do some optimization that will\n",
    "# change the parameters but keep the result of model as the same.\n",
    "\n",
    "# Save the library at local temporary directory.\n",
    "tmp = utils.tempdir()\n",
    "lib_fname = tmp.relpath(\"net.so\")\n",
    "fcompile = ndk.create_shared if not local_demo else None\n",
    "lib.export_library(lib_fname, fcompile)"
   ]
  },
  {
   "cell_type": "markdown",
   "metadata": {},
   "source": [
    "## Deploy the Model Remotely by RPC\n",
    "With RPC, you can deploy the model remotely from your host machine\n",
    "to the remote android device.\n",
    "\n"
   ]
  },
  {
   "cell_type": "code",
   "execution_count": null,
   "metadata": {
    "collapsed": false
   },
   "outputs": [],
   "source": [
    "tracker_host = os.environ.get(\"TVM_TRACKER_HOST\", \"127.0.0.1\")\n",
    "tracker_port = int(os.environ.get(\"TVM_TRACKER_PORT\", 9190))\n",
    "key = \"android\"\n",
    "\n",
    "if local_demo:\n",
    "    remote = rpc.LocalSession()\n",
    "else:\n",
    "    tracker = rpc.connect_tracker(tracker_host, tracker_port)\n",
    "    # When running a heavy model, we should increase the `session_timeout`\n",
    "    remote = tracker.request(key, priority=0, session_timeout=60)\n",
    "\n",
    "if local_demo:\n",
    "    dev = remote.cpu(0)\n",
    "elif test_target == \"opencl\":\n",
    "    dev = remote.cl(0)\n",
    "elif test_target == \"vulkan\":\n",
    "    dev = remote.vulkan(0)\n",
    "else:\n",
    "    dev = remote.cpu(0)\n",
    "\n",
    "# upload the library to remote device and load it\n",
    "remote.upload(lib_fname)\n",
    "rlib = remote.load_module(\"net.so\")\n",
    "\n",
    "# create the remote runtime module\n",
    "module = runtime.GraphModule(rlib[\"default\"](dev))"
   ]
  },
  {
   "cell_type": "markdown",
   "metadata": {},
   "source": [
    "## Execute on TVM\n",
    "\n"
   ]
  },
  {
   "cell_type": "code",
   "execution_count": null,
   "metadata": {
    "collapsed": false
   },
   "outputs": [],
   "source": [
    "# set input data\n",
    "module.set_input(input_name, tvm.nd.array(x.astype(dtype)))\n",
    "# run\n",
    "module.run()\n",
    "# get output\n",
    "out = module.get_output(0)\n",
    "\n",
    "# get top1 result\n",
    "top1 = np.argmax(out.numpy())\n",
    "print(\"TVM prediction top-1: {}\".format(synset[top1]))\n",
    "\n",
    "print(\"Evaluate inference time cost...\")\n",
    "print(module.benchmark(dev, number=1, repeat=10))"
   ]
  },
  {
   "cell_type": "markdown",
   "metadata": {},
   "source": [
    "## Sample Output\n",
    "The following is the result of 'cpu', 'opencl' and 'vulkan' using Adreno 530 on Snapdragon 820\n",
    "\n",
    "Although we can run on a GPU, it is slower than CPU.\n",
    "To speed up, we need to write and optimize the schedule according to the GPU architecture.\n",
    "\n",
    "```bash\n",
    "# cpu\n",
    "TVM prediction top-1: tiger cat\n",
    "Evaluate inference time cost...\n",
    "Mean inference time (std dev): 37.92 ms (19.67 ms)\n",
    "\n",
    "# opencl\n",
    "TVM prediction top-1: tiger cat\n",
    "Evaluate inference time cost...\n",
    "Mean inference time (std dev): 419.83 ms (7.49 ms)\n",
    "\n",
    "# vulkan\n",
    "TVM prediction top-1: tiger cat\n",
    "Evaluate inference time cost...\n",
    "Mean inference time (std dev): 465.80 ms (4.52 ms)\n",
    "```\n"
   ]
  }
 ],
 "metadata": {
  "kernelspec": {
   "display_name": "Python 3",
   "language": "python",
   "name": "python3"
  },
  "language_info": {
   "codemirror_mode": {
    "name": "ipython",
    "version": 3
   },
   "file_extension": ".py",
   "mimetype": "text/x-python",
   "name": "python",
   "nbconvert_exporter": "python",
   "pygments_lexer": "ipython3",
   "version": "3.7.5"
  }
 },
 "nbformat": 4,
 "nbformat_minor": 0
}