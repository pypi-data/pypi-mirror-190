{
 "cells": [
  {
   "cell_type": "code",
   "execution_count": null,
   "metadata": {
    "collapsed": false
   },
   "outputs": [],
   "source": [
    "%matplotlib inline"
   ]
  },
  {
   "cell_type": "markdown",
   "metadata": {},
   "source": [
    "\n",
    "# Compute and Reduce with Tuple Inputs\n",
    "**Author**: [Ziheng Jiang](https://github.com/ZihengJiang)\n",
    "\n",
    "Often we want to compute multiple outputs with the same shape within\n",
    "a single loop or perform reduction that involves multiple values like\n",
    ":code:`argmax`. These problems can be addressed by tuple inputs.\n",
    "\n",
    "In this tutorial, we will introduce the usage of tuple inputs in TVM.\n"
   ]
  },
  {
   "cell_type": "code",
   "execution_count": null,
   "metadata": {
    "collapsed": false
   },
   "outputs": [],
   "source": [
    "from __future__ import absolute_import, print_function\n",
    "\n",
    "\n",
    "import tvm\n",
    "from tvm import te\n",
    "import numpy as np"
   ]
  },
  {
   "cell_type": "markdown",
   "metadata": {},
   "source": [
    "## Describe Batchwise Computation\n",
    "For operators which have the same shape, we can put them together as\n",
    "the inputs of :any:`te.compute`, if we want them to be scheduled\n",
    "together in the next schedule procedure.\n",
    "\n",
    "\n"
   ]
  },
  {
   "cell_type": "code",
   "execution_count": null,
   "metadata": {
    "collapsed": false
   },
   "outputs": [],
   "source": [
    "n = te.var(\"n\")\n",
    "m = te.var(\"m\")\n",
    "A0 = te.placeholder((m, n), name=\"A0\")\n",
    "A1 = te.placeholder((m, n), name=\"A1\")\n",
    "B0, B1 = te.compute((m, n), lambda i, j: (A0[i, j] + 2, A1[i, j] * 3), name=\"B\")\n",
    "\n",
    "# The generated IR code would be:\n",
    "s = te.create_schedule(B0.op)\n",
    "print(tvm.lower(s, [A0, A1, B0, B1], simple_mode=True))"
   ]
  },
  {
   "cell_type": "markdown",
   "metadata": {},
   "source": [
    "\n",
    "## Describe Reduction with Collaborative Inputs\n",
    "Sometimes, we require multiple inputs to express some reduction\n",
    "operators, and the inputs will collaborate together, e.g. :code:`argmax`.\n",
    "In the reduction procedure, :code:`argmax` need to compare the value of\n",
    "operands, also need to keep the index of operand. It can be expressed\n",
    "with :py:func:`te.comm_reducer` as below:\n",
    "\n"
   ]
  },
  {
   "cell_type": "code",
   "execution_count": null,
   "metadata": {
    "collapsed": false
   },
   "outputs": [],
   "source": [
    "# x and y are the operands of reduction, both of them is a tuple of index\n",
    "# and value.\n",
    "def fcombine(x, y):\n",
    "    lhs = tvm.tir.Select((x[1] >= y[1]), x[0], y[0])\n",
    "    rhs = tvm.tir.Select((x[1] >= y[1]), x[1], y[1])\n",
    "    return lhs, rhs\n",
    "\n",
    "\n",
    "# our identity element also need to be a tuple, so `fidentity` accepts\n",
    "# two types as inputs.\n",
    "def fidentity(t0, t1):\n",
    "    return tvm.tir.const(-1, t0), tvm.te.min_value(t1)\n",
    "\n",
    "\n",
    "argmax = te.comm_reducer(fcombine, fidentity, name=\"argmax\")\n",
    "\n",
    "# describe the reduction computation\n",
    "m = te.var(\"m\")\n",
    "n = te.var(\"n\")\n",
    "idx = te.placeholder((m, n), name=\"idx\", dtype=\"int32\")\n",
    "val = te.placeholder((m, n), name=\"val\", dtype=\"int32\")\n",
    "k = te.reduce_axis((0, n), \"k\")\n",
    "T0, T1 = te.compute((m,), lambda i: argmax((idx[i, k], val[i, k]), axis=k), name=\"T\")\n",
    "\n",
    "# the generated IR code would be:\n",
    "s = te.create_schedule(T0.op)\n",
    "print(tvm.lower(s, [idx, val, T0, T1], simple_mode=True))"
   ]
  },
  {
   "cell_type": "markdown",
   "metadata": {},
   "source": [
    "<div class=\"alert alert-info\"><h4>Note</h4><p>For ones who are not familiar with reduction, please refer to\n",
    "  `general-reduction`.</p></div>\n",
    "\n"
   ]
  },
  {
   "cell_type": "markdown",
   "metadata": {},
   "source": [
    "## Schedule Operation with Tuple Inputs\n",
    "It is worth mentioning that although you will get multiple outputs\n",
    "with one batch operation, but they can only be scheduled together\n",
    "in terms of operation.\n",
    "\n"
   ]
  },
  {
   "cell_type": "code",
   "execution_count": null,
   "metadata": {
    "collapsed": false
   },
   "outputs": [],
   "source": [
    "n = te.var(\"n\")\n",
    "m = te.var(\"m\")\n",
    "A0 = te.placeholder((m, n), name=\"A0\")\n",
    "B0, B1 = te.compute((m, n), lambda i, j: (A0[i, j] + 2, A0[i, j] * 3), name=\"B\")\n",
    "A1 = te.placeholder((m, n), name=\"A1\")\n",
    "C = te.compute((m, n), lambda i, j: A1[i, j] + B0[i, j], name=\"C\")\n",
    "\n",
    "s = te.create_schedule(C.op)\n",
    "s[B0].compute_at(s[C], C.op.axis[0])\n",
    "# as you can see in the below generated IR code:\n",
    "print(tvm.lower(s, [A0, A1, C], simple_mode=True))"
   ]
  },
  {
   "cell_type": "markdown",
   "metadata": {},
   "source": [
    "## Summary\n",
    "This tutorial introduces the usage of tuple inputs operation.\n",
    "\n",
    "- Describe normal batchwise computation.\n",
    "- Describe reduction operation with tuple inputs.\n",
    "- Notice that you can only schedule computation in terms of operation instead of tensor.\n",
    "\n"
   ]
  }
 ],
 "metadata": {
  "kernelspec": {
   "display_name": "Python 3",
   "language": "python",
   "name": "python3"
  },
  "language_info": {
   "codemirror_mode": {
    "name": "ipython",
    "version": 3
   },
   "file_extension": ".py",
   "mimetype": "text/x-python",
   "name": "python",
   "nbconvert_exporter": "python",
   "pygments_lexer": "ipython3",
   "version": "3.7.5"
  }
 },
 "nbformat": 4,
 "nbformat_minor": 0
}