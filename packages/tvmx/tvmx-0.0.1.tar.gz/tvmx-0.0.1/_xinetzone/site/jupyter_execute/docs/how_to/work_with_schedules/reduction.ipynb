{
 "cells": [
  {
   "cell_type": "code",
   "execution_count": null,
   "metadata": {
    "collapsed": false
   },
   "outputs": [],
   "source": [
    "%matplotlib inline"
   ]
  },
  {
   "cell_type": "markdown",
   "metadata": {},
   "source": [
    "\n",
    "# Reduction\n",
    "**Author**: [Tianqi Chen](https://tqchen.github.io)\n",
    "\n",
    "This is an introduction material on how to do reduction in TVM.\n",
    "Associative reduction operators like sum/max/min are typical\n",
    "construction blocks of linear algebra operations.\n",
    "\n",
    "In this tutorial, we will demonstrate how to do reduction in TVM.\n"
   ]
  },
  {
   "cell_type": "code",
   "execution_count": null,
   "metadata": {
    "collapsed": false
   },
   "outputs": [],
   "source": [
    "from __future__ import absolute_import, print_function\n",
    "\n",
    "\n",
    "import tvm\n",
    "import tvm.testing\n",
    "from tvm import te\n",
    "import numpy as np"
   ]
  },
  {
   "cell_type": "markdown",
   "metadata": {},
   "source": [
    "## Describe Sum of Rows\n",
    "Assume we want to compute sum of rows as our example.\n",
    "In numpy semantics this can be written as :code:`B = numpy.sum(A, axis=1)`\n",
    "\n",
    "The following lines describe the row sum operation.\n",
    "To create a reduction formula, we declare a reduction axis using\n",
    ":any:`te.reduce_axis`. :any:`te.reduce_axis` takes in the range of reductions.\n",
    ":any:`te.sum` takes in the expression to be reduced as well as the reduction\n",
    "axis and compute the sum of value over all k in the declared range.\n",
    "\n",
    "The equivalent C code is as follows:\n",
    "\n",
    "```c\n",
    "for (int i = 0; i < n; ++i) {\n",
    "  B[i] = 0;\n",
    "  for (int k = 0; k < m; ++k) {\n",
    "    B[i] = B[i] + A[i][k];\n",
    "  }\n",
    "}\n",
    "```\n"
   ]
  },
  {
   "cell_type": "code",
   "execution_count": null,
   "metadata": {
    "collapsed": false
   },
   "outputs": [],
   "source": [
    "n = te.var(\"n\")\n",
    "m = te.var(\"m\")\n",
    "A = te.placeholder((n, m), name=\"A\")\n",
    "k = te.reduce_axis((0, m), \"k\")\n",
    "B = te.compute((n,), lambda i: te.sum(A[i, k], axis=k), name=\"B\")"
   ]
  },
  {
   "cell_type": "markdown",
   "metadata": {},
   "source": [
    "## Schedule the Reduction\n",
    "There are several ways to schedule a reduction.\n",
    "Before doing anything, let us print out the IR code of default schedule.\n",
    "\n",
    "\n"
   ]
  },
  {
   "cell_type": "code",
   "execution_count": null,
   "metadata": {
    "collapsed": false
   },
   "outputs": [],
   "source": [
    "s = te.create_schedule(B.op)\n",
    "print(tvm.lower(s, [A, B], simple_mode=True))"
   ]
  },
  {
   "cell_type": "markdown",
   "metadata": {},
   "source": [
    "You can find that the IR code is quite like the C code.\n",
    "The reduction axis is similar to a normal axis, it can be splitted.\n",
    "\n",
    "In the following code we split both the row axis of B as well\n",
    "axis by different factors. The result is a nested reduction.\n",
    "\n",
    "\n"
   ]
  },
  {
   "cell_type": "code",
   "execution_count": null,
   "metadata": {
    "collapsed": false
   },
   "outputs": [],
   "source": [
    "ko, ki = s[B].split(B.op.reduce_axis[0], factor=16)\n",
    "xo, xi = s[B].split(B.op.axis[0], factor=32)\n",
    "print(tvm.lower(s, [A, B], simple_mode=True))"
   ]
  },
  {
   "cell_type": "markdown",
   "metadata": {},
   "source": [
    "If we are building a GPU kernel, we can bind the rows of B to GPU threads.\n",
    "\n"
   ]
  },
  {
   "cell_type": "code",
   "execution_count": null,
   "metadata": {
    "collapsed": false
   },
   "outputs": [],
   "source": [
    "s[B].bind(xo, te.thread_axis(\"blockIdx.x\"))\n",
    "s[B].bind(xi, te.thread_axis(\"threadIdx.x\"))\n",
    "print(tvm.lower(s, [A, B], simple_mode=True))"
   ]
  },
  {
   "cell_type": "markdown",
   "metadata": {},
   "source": [
    "## Reduction Factoring and Parallelization\n",
    "One problem of building a reduction is that we cannot simply\n",
    "parallelize over the reduction axis. We need to divide the computation\n",
    "of the reduction, store the local reduction result in a temporal array\n",
    "before doing a reduction over the temp array.\n",
    "\n",
    "The rfactor primitive does such rewrite of the computation.\n",
    "In the following schedule, the result of B is written to a temporary\n",
    "result B.rf. The factored dimension becomes the first dimension of B.rf.\n",
    "\n",
    "\n"
   ]
  },
  {
   "cell_type": "code",
   "execution_count": null,
   "metadata": {
    "collapsed": false
   },
   "outputs": [],
   "source": [
    "s = te.create_schedule(B.op)\n",
    "ko, ki = s[B].split(B.op.reduce_axis[0], factor=16)\n",
    "BF = s.rfactor(B, ki)\n",
    "print(tvm.lower(s, [A, B], simple_mode=True))"
   ]
  },
  {
   "cell_type": "markdown",
   "metadata": {},
   "source": [
    "The scheduled operator of B also get rewritten to be sum over\n",
    "the first axis of reduced result of B.f\n",
    "\n",
    "\n"
   ]
  },
  {
   "cell_type": "code",
   "execution_count": null,
   "metadata": {
    "collapsed": false
   },
   "outputs": [],
   "source": [
    "print(s[B].op.body)"
   ]
  },
  {
   "cell_type": "markdown",
   "metadata": {},
   "source": [
    "## Cross Thread Reduction\n",
    "We can now parallelize over the factored axis.\n",
    "Here the reduction axis of B is marked to be a thread.\n",
    "TVM allows reduction axis to be marked as thread if it is the only\n",
    "axis in reduction and cross thread reduction is possible in the device.\n",
    "\n",
    "This is indeed the case after the factoring.\n",
    "We can directly compute BF at the reduction axis as well.\n",
    "The final generated kernel will divide the rows by blockIdx.x and threadIdx.y\n",
    "columns by threadIdx.x and finally do a cross thread reduction over threadIdx.x\n",
    "\n",
    "\n"
   ]
  },
  {
   "cell_type": "code",
   "execution_count": null,
   "metadata": {
    "collapsed": false
   },
   "outputs": [],
   "source": [
    "xo, xi = s[B].split(s[B].op.axis[0], factor=32)\n",
    "s[B].bind(xo, te.thread_axis(\"blockIdx.x\"))\n",
    "s[B].bind(xi, te.thread_axis(\"threadIdx.y\"))\n",
    "tx = te.thread_axis(\"threadIdx.x\")\n",
    "s[B].bind(s[B].op.reduce_axis[0], tx)\n",
    "s[BF].compute_at(s[B], s[B].op.reduce_axis[0])\n",
    "s[B].set_store_predicate(tx.var.equal(0))\n",
    "fcuda = tvm.build(s, [A, B], \"cuda\")\n",
    "print(fcuda.imported_modules[0].get_source())"
   ]
  },
  {
   "cell_type": "markdown",
   "metadata": {},
   "source": [
    "Verify the correctness of result kernel by comparing it to numpy.\n",
    "\n",
    "\n"
   ]
  },
  {
   "cell_type": "code",
   "execution_count": null,
   "metadata": {
    "collapsed": false
   },
   "outputs": [],
   "source": [
    "nn = 128\n",
    "dev = tvm.cuda(0)\n",
    "a = tvm.nd.array(np.random.uniform(size=(nn, nn)).astype(A.dtype), dev)\n",
    "b = tvm.nd.array(np.zeros(nn, dtype=B.dtype), dev)\n",
    "fcuda(a, b)\n",
    "tvm.testing.assert_allclose(b.numpy(), np.sum(a.numpy(), axis=1), rtol=1e-4)"
   ]
  },
  {
   "cell_type": "markdown",
   "metadata": {},
   "source": [
    "## Describe Convolution via 2D Reduction\n",
    "In TVM, we can describe convolution via 2D reduction in a simple way.\n",
    "Here is an example for 2D convolution with filter size = [3, 3] and strides = [1, 1].\n",
    "\n",
    "\n"
   ]
  },
  {
   "cell_type": "code",
   "execution_count": null,
   "metadata": {
    "collapsed": false
   },
   "outputs": [],
   "source": [
    "n = te.var(\"n\")\n",
    "Input = te.placeholder((n, n), name=\"Input\")\n",
    "Filter = te.placeholder((3, 3), name=\"Filter\")\n",
    "di = te.reduce_axis((0, 3), name=\"di\")\n",
    "dj = te.reduce_axis((0, 3), name=\"dj\")\n",
    "Output = te.compute(\n",
    "    (n - 2, n - 2),\n",
    "    lambda i, j: te.sum(Input[i + di, j + dj] * Filter[di, dj], axis=[di, dj]),\n",
    "    name=\"Output\",\n",
    ")\n",
    "s = te.create_schedule(Output.op)\n",
    "print(tvm.lower(s, [Input, Filter, Output], simple_mode=True))"
   ]
  },
  {
   "cell_type": "markdown",
   "metadata": {},
   "source": [
    "\n",
    "## Define General Commutative Reduction Operation\n",
    "Besides the built-in reduction operations like :any:`te.sum`,\n",
    ":any:`tvm.te.min` and :any:`tvm.te.max`, you can also define your\n",
    "commutative reduction operation by :any:`te.comm_reducer`.\n",
    "\n",
    "\n"
   ]
  },
  {
   "cell_type": "code",
   "execution_count": null,
   "metadata": {
    "collapsed": false
   },
   "outputs": [],
   "source": [
    "n = te.var(\"n\")\n",
    "m = te.var(\"m\")\n",
    "product = te.comm_reducer(lambda x, y: x * y, lambda t: tvm.tir.const(1, dtype=t), name=\"product\")\n",
    "A = te.placeholder((n, m), name=\"A\")\n",
    "k = te.reduce_axis((0, m), name=\"k\")\n",
    "B = te.compute((n,), lambda i: product(A[i, k], axis=k), name=\"B\")"
   ]
  },
  {
   "cell_type": "markdown",
   "metadata": {},
   "source": [
    "<div class=\"alert alert-info\"><h4>Note</h4><p>Sometimes we would like to perform reduction that involves multiple\n",
    "  values like :code:`argmax`, which can be done by tuple inputs.\n",
    "  See `reduction-with-tuple-inputs` for more detail.</p></div>\n",
    "\n"
   ]
  },
  {
   "cell_type": "markdown",
   "metadata": {},
   "source": [
    "## Summary\n",
    "This tutorial provides a walk through of reduction schedule.\n",
    "\n",
    "- Describe reduction with reduce_axis.\n",
    "- Use rfactor to factor out axis if we need parallelism.\n",
    "- Define new reduction operation by :any:`te.comm_reducer`\n",
    "\n"
   ]
  }
 ],
 "metadata": {
  "kernelspec": {
   "display_name": "Python 3",
   "language": "python",
   "name": "python3"
  },
  "language_info": {
   "codemirror_mode": {
    "name": "ipython",
    "version": 3
   },
   "file_extension": ".py",
   "mimetype": "text/x-python",
   "name": "python",
   "nbconvert_exporter": "python",
   "pygments_lexer": "ipython3",
   "version": "3.7.5"
  }
 },
 "nbformat": 4,
 "nbformat_minor": 0
}