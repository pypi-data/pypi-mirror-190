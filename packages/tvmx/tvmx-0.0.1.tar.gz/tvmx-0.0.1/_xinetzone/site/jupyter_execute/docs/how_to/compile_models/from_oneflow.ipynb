{
 "cells": [
  {
   "cell_type": "code",
   "execution_count": null,
   "metadata": {
    "collapsed": false
   },
   "outputs": [],
   "source": [
    "%matplotlib inline"
   ]
  },
  {
   "cell_type": "markdown",
   "metadata": {},
   "source": [
    "\n",
    "# Compile OneFlow Models\n",
    "**Author**: [Xiaoyu Zhang](https://github.com/BBuf/)\n",
    "\n",
    "This article is an introductory tutorial to deploy OneFlow models with Relay.\n",
    "\n",
    "For us to begin with, OneFlow package should be installed.\n",
    "\n",
    "A quick solution is to install via pip\n",
    "\n",
    "```bash\n",
    "pip install flowvision==0.1.0\n",
    "python3 -m pip install -f https://release.oneflow.info oneflow==0.7.0+cpu\n",
    "```\n",
    "or please refer to official site:\n",
    "https://github.com/Oneflow-Inc/oneflow\n",
    "\n",
    "Currently, TVM supports OneFlow 0.7.0. Other versions may be unstable.\n"
   ]
  },
  {
   "cell_type": "code",
   "execution_count": null,
   "metadata": {
    "collapsed": false
   },
   "outputs": [],
   "source": [
    "import os, math\n",
    "from matplotlib import pyplot as plt\n",
    "import numpy as np\n",
    "from PIL import Image\n",
    "\n",
    "# oneflow imports\n",
    "import flowvision\n",
    "import oneflow as flow\n",
    "import oneflow.nn as nn\n",
    "\n",
    "import tvm\n",
    "from tvm import relay\n",
    "from tvm.contrib.download import download_testdata"
   ]
  },
  {
   "cell_type": "markdown",
   "metadata": {},
   "source": [
    "## Load a pretrained OneFlow model and save model\n",
    "\n"
   ]
  },
  {
   "cell_type": "code",
   "execution_count": null,
   "metadata": {
    "collapsed": false
   },
   "outputs": [],
   "source": [
    "model_name = \"resnet18\"\n",
    "model = getattr(flowvision.models, model_name)(pretrained=True)\n",
    "model = model.eval()\n",
    "\n",
    "model_dir = \"resnet18_model\"\n",
    "if not os.path.exists(model_dir):\n",
    "    flow.save(model.state_dict(), model_dir)"
   ]
  },
  {
   "cell_type": "markdown",
   "metadata": {},
   "source": [
    "## Load a test image\n",
    "Classic cat example!\n",
    "\n"
   ]
  },
  {
   "cell_type": "code",
   "execution_count": null,
   "metadata": {
    "collapsed": false
   },
   "outputs": [],
   "source": [
    "from PIL import Image\n",
    "\n",
    "img_url = \"https://github.com/dmlc/mxnet.js/blob/main/data/cat.png?raw=true\"\n",
    "img_path = download_testdata(img_url, \"cat.png\", module=\"data\")\n",
    "img = Image.open(img_path).resize((224, 224))\n",
    "\n",
    "# Preprocess the image and convert to tensor\n",
    "from flowvision import transforms\n",
    "\n",
    "my_preprocess = transforms.Compose(\n",
    "    [\n",
    "        transforms.Resize(256),\n",
    "        transforms.CenterCrop(224),\n",
    "        transforms.ToTensor(),\n",
    "        transforms.Normalize(mean=[0.485, 0.456, 0.406], std=[0.229, 0.224, 0.225]),\n",
    "    ]\n",
    ")\n",
    "img = my_preprocess(img)\n",
    "img = np.expand_dims(img.numpy(), 0)"
   ]
  },
  {
   "cell_type": "markdown",
   "metadata": {},
   "source": [
    "## Import the graph to Relay\n",
    "Convert OneFlow graph to Relay graph. The input name can be arbitrary.\n",
    "\n"
   ]
  },
  {
   "cell_type": "code",
   "execution_count": null,
   "metadata": {
    "collapsed": false
   },
   "outputs": [],
   "source": [
    "class Graph(flow.nn.Graph):\n",
    "    def __init__(self, module):\n",
    "        super().__init__()\n",
    "        self.m = module\n",
    "\n",
    "    def build(self, x):\n",
    "        out = self.m(x)\n",
    "        return out\n",
    "\n",
    "\n",
    "graph = Graph(model)\n",
    "_ = graph._compile(flow.randn(1, 3, 224, 224))\n",
    "\n",
    "mod, params = relay.frontend.from_oneflow(graph, model_dir)"
   ]
  },
  {
   "cell_type": "markdown",
   "metadata": {},
   "source": [
    "## Relay Build\n",
    "Compile the graph to llvm target with given input specification.\n",
    "\n"
   ]
  },
  {
   "cell_type": "code",
   "execution_count": null,
   "metadata": {
    "collapsed": false
   },
   "outputs": [],
   "source": [
    "target = tvm.target.Target(\"llvm\", host=\"llvm\")\n",
    "dev = tvm.cpu(0)\n",
    "with tvm.transform.PassContext(opt_level=3):\n",
    "    lib = relay.build(mod, target=target, params=params)"
   ]
  },
  {
   "cell_type": "markdown",
   "metadata": {},
   "source": [
    "## Execute the portable graph on TVM\n",
    "Now we can try deploying the compiled model on target.\n",
    "\n"
   ]
  },
  {
   "cell_type": "code",
   "execution_count": null,
   "metadata": {
    "collapsed": false
   },
   "outputs": [],
   "source": [
    "target = \"cuda\"\n",
    "with tvm.transform.PassContext(opt_level=10):\n",
    "    intrp = relay.build_module.create_executor(\"graph\", mod, tvm.cuda(0), target)\n",
    "\n",
    "print(type(img))\n",
    "print(img.shape)\n",
    "tvm_output = intrp.evaluate()(tvm.nd.array(img.astype(\"float32\")), **params)"
   ]
  },
  {
   "cell_type": "markdown",
   "metadata": {},
   "source": [
    "## Look up synset name\n",
    "Look up prediction top 1 index in 1000 class synset.\n",
    "\n"
   ]
  },
  {
   "cell_type": "code",
   "execution_count": null,
   "metadata": {
    "collapsed": false
   },
   "outputs": [],
   "source": [
    "synset_url = \"\".join(\n",
    "    [\n",
    "        \"https://raw.githubusercontent.com/Cadene/\",\n",
    "        \"pretrained-models.pytorch/master/data/\",\n",
    "        \"imagenet_synsets.txt\",\n",
    "    ]\n",
    ")\n",
    "synset_name = \"imagenet_synsets.txt\"\n",
    "synset_path = download_testdata(synset_url, synset_name, module=\"data\")\n",
    "with open(synset_path) as f:\n",
    "    synsets = f.readlines()\n",
    "\n",
    "synsets = [x.strip() for x in synsets]\n",
    "splits = [line.split(\" \") for line in synsets]\n",
    "key_to_classname = {spl[0]: \" \".join(spl[1:]) for spl in splits}\n",
    "\n",
    "class_url = \"\".join(\n",
    "    [\n",
    "        \"https://raw.githubusercontent.com/Cadene/\",\n",
    "        \"pretrained-models.pytorch/master/data/\",\n",
    "        \"imagenet_classes.txt\",\n",
    "    ]\n",
    ")\n",
    "class_name = \"imagenet_classes.txt\"\n",
    "class_path = download_testdata(class_url, class_name, module=\"data\")\n",
    "with open(class_path) as f:\n",
    "    class_id_to_key = f.readlines()\n",
    "\n",
    "class_id_to_key = [x.strip() for x in class_id_to_key]\n",
    "\n",
    "# Get top-1 result for TVM\n",
    "top1_tvm = np.argmax(tvm_output.numpy()[0])\n",
    "tvm_class_key = class_id_to_key[top1_tvm]\n",
    "\n",
    "# Convert input to OneFlow variable and get OneFlow result for comparison\n",
    "with flow.no_grad():\n",
    "    torch_img = flow.from_numpy(img)\n",
    "    output = model(torch_img)\n",
    "\n",
    "    # Get top-1 result for OneFlow\n",
    "    top_oneflow = np.argmax(output.numpy())\n",
    "    oneflow_class_key = class_id_to_key[top_oneflow]\n",
    "\n",
    "print(\"Relay top-1 id: {}, class name: {}\".format(top1_tvm, key_to_classname[tvm_class_key]))\n",
    "print(\n",
    "    \"OneFlow top-1 id: {}, class name: {}\".format(top_oneflow, key_to_classname[oneflow_class_key])\n",
    ")"
   ]
  }
 ],
 "metadata": {
  "kernelspec": {
   "display_name": "Python 3",
   "language": "python",
   "name": "python3"
  },
  "language_info": {
   "codemirror_mode": {
    "name": "ipython",
    "version": 3
   },
   "file_extension": ".py",
   "mimetype": "text/x-python",
   "name": "python",
   "nbconvert_exporter": "python",
   "pygments_lexer": "ipython3",
   "version": "3.7.5"
  }
 },
 "nbformat": 4,
 "nbformat_minor": 0
}