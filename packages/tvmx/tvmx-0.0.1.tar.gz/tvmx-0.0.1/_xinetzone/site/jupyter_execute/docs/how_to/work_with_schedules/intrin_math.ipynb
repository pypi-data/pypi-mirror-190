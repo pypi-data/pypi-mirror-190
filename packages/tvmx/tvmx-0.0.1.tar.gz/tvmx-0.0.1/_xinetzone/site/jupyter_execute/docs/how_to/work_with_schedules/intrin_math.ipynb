{
 "cells": [
  {
   "cell_type": "code",
   "execution_count": null,
   "metadata": {
    "collapsed": false
   },
   "outputs": [],
   "source": [
    "%matplotlib inline"
   ]
  },
  {
   "cell_type": "markdown",
   "metadata": {},
   "source": [
    "\n",
    "# Intrinsics and Math Functions\n",
    "**Author**: [Tianqi Chen](https://tqchen.github.io)\n",
    "\n",
    "While TVM supports basic arithmetic operations. In many cases\n",
    "usually we will need more complicated builtin functions.\n",
    "For example :code:`exp` to take the exponential of the function.\n",
    "\n",
    "These functions are target system dependent and may have different\n",
    "names of different target platforms. In this tutorial, we will learn\n",
    "how we can invoke these target specific functions, and how we can unify\n",
    "the interface via TVM's intrinsic API.\n"
   ]
  },
  {
   "cell_type": "code",
   "execution_count": null,
   "metadata": {
    "collapsed": false
   },
   "outputs": [],
   "source": [
    "from __future__ import absolute_import, print_function\n",
    "\n",
    "\n",
    "import numpy as np\n",
    "\n",
    "import tvm\n",
    "from tvm import te\n",
    "from tvm.ir import register_op_attr, register_intrin_lowering"
   ]
  },
  {
   "cell_type": "markdown",
   "metadata": {},
   "source": [
    "## Direct Declare Extern Math Call\n",
    "The most straight-forward way to call target specific function is via\n",
    "extern function call construct in tvm.\n",
    "In the following example, we use :any:`tvm.tir.call_pure_extern` to call\n",
    ":code:`__expf` function, which is only available under CUDA.\n",
    "\n",
    "\n"
   ]
  },
  {
   "cell_type": "code",
   "execution_count": null,
   "metadata": {
    "collapsed": false
   },
   "outputs": [],
   "source": [
    "n = te.var(\"n\")\n",
    "A = te.placeholder((n,), name=\"A\")\n",
    "B = te.compute(A.shape, lambda i: tvm.tir.call_pure_extern(\"float32\", \"__expf\", A[i]), name=\"B\")\n",
    "s = te.create_schedule(B.op)\n",
    "num_thread = 64\n",
    "bx, tx = s[B].split(B.op.axis[0], factor=num_thread)\n",
    "s[B].bind(bx, te.thread_axis(\"blockIdx.x\"))\n",
    "s[B].bind(tx, te.thread_axis(\"threadIdx.x\"))\n",
    "f = tvm.build(s, [A, B], \"cuda\", name=\"myexp\")\n",
    "print(f.imported_modules[0].get_source())"
   ]
  },
  {
   "cell_type": "markdown",
   "metadata": {},
   "source": [
    "## Unified Intrinsic Call\n",
    "The above code verifies that direct external call can be used to\n",
    "call into device specific functions.\n",
    "However, the above way only works for CUDA target with float type.\n",
    "Ideally, we want to write same code for any device and any data type.\n",
    "\n",
    "TVM intrinsic provides the user a mechanism to achieve this, and this\n",
    "is the recommended way to solve the problem.\n",
    "The following code use te.exp instead, which create an intrinsic call\n",
    ":py::func:`tvm.te.exp` to do the exponential.\n",
    "\n",
    "\n"
   ]
  },
  {
   "cell_type": "code",
   "execution_count": null,
   "metadata": {
    "collapsed": false
   },
   "outputs": [],
   "source": [
    "n = te.var(\"n\")\n",
    "A = te.placeholder((n,), name=\"A\")\n",
    "B = te.compute(A.shape, lambda i: te.exp(A[i]), name=\"B\")\n",
    "s = te.create_schedule(B.op)\n",
    "num_thread = 64\n",
    "bx, tx = s[B].split(B.op.axis[0], factor=num_thread)\n",
    "s[B].bind(bx, te.thread_axis(\"blockIdx.x\"))\n",
    "s[B].bind(tx, te.thread_axis(\"threadIdx.x\"))\n",
    "fcuda = tvm.build(s, [A, B], \"cuda\", name=\"myexp\")\n",
    "print(fcuda.imported_modules[0].get_source())"
   ]
  },
  {
   "cell_type": "markdown",
   "metadata": {},
   "source": [
    "We can find that the code works for both CUDA and opencl.\n",
    "The same te.exp can also be used for float64 data types.\n",
    "\n",
    "\n"
   ]
  },
  {
   "cell_type": "code",
   "execution_count": null,
   "metadata": {
    "collapsed": false
   },
   "outputs": [],
   "source": [
    "fopencl = tvm.build(s, [A, B], \"opencl\", name=\"myexp\")\n",
    "print(fopencl.imported_modules[0].get_source())"
   ]
  },
  {
   "cell_type": "markdown",
   "metadata": {},
   "source": [
    "## Intrinsic Lowering Rule\n",
    "When :py:func:`tvm.te.exp` is called, TVM creates an intrinsic Call Expr.\n",
    "TVM uses transformation rules to transform the intrinsic\n",
    "call to device specific extern calls.\n",
    "\n",
    "TVM also allows user to customize the rules during runtime.\n",
    "The following example customizes CUDA lowering rule for :code:`exp`.\n",
    "\n",
    "\n"
   ]
  },
  {
   "cell_type": "code",
   "execution_count": null,
   "metadata": {
    "collapsed": false
   },
   "outputs": [],
   "source": [
    "def my_cuda_math_rule(op):\n",
    "    \"\"\"Customized CUDA intrinsic lowering rule\"\"\"\n",
    "    assert isinstance(op, tvm.tir.Call)\n",
    "    name = op.op.name\n",
    "    assert name.startswith(\"tir.\")\n",
    "    dispatch_name = name[4:]\n",
    "    if op.dtype == \"float32\":\n",
    "        # call float function\n",
    "        return tvm.tir.call_pure_extern(\"float32\", \"%sf\" % dispatch_name, op.args[0])\n",
    "    elif op.dtype == \"float64\":\n",
    "        # call double function\n",
    "        return tvm.tir.call_pure_extern(\"float32\", dispatch_name, op.args[0])\n",
    "    else:\n",
    "        # cannot do translation, return self.\n",
    "        return op\n",
    "\n",
    "\n",
    "register_intrin_lowering(\"tir.exp\", target=\"cuda\", f=my_cuda_math_rule, level=99)"
   ]
  },
  {
   "cell_type": "markdown",
   "metadata": {},
   "source": [
    "Register the rule to TVM with override option to override existing rule.\n",
    "Notice the difference between the printed code from previous one:\n",
    "our new rule uses math function :code:`expf` instead of\n",
    "fast math version :code:`__expf`.\n",
    "\n",
    "\n"
   ]
  },
  {
   "cell_type": "code",
   "execution_count": null,
   "metadata": {
    "collapsed": false
   },
   "outputs": [],
   "source": [
    "fcuda = tvm.build(s, [A, B], \"cuda\", name=\"myexp\")\n",
    "print(fcuda.imported_modules[0].get_source())"
   ]
  },
  {
   "cell_type": "markdown",
   "metadata": {},
   "source": [
    "## Add Your Own Intrinsic\n",
    "If there is an intrinsic that is not provided by TVM.\n",
    "User can easily add new intrinsic by using the intrinsic rule system.\n",
    "The following example add an intrinsic :code:`mylog` to the system.\n",
    "\n",
    "\n"
   ]
  },
  {
   "cell_type": "code",
   "execution_count": null,
   "metadata": {
    "collapsed": false
   },
   "outputs": [],
   "source": [
    "def mylog(x):\n",
    "    \"\"\"customized log intrinsic function\"\"\"\n",
    "    return tvm.tir.call_intrin(x.dtype, \"tir.mylog\", x)\n",
    "\n",
    "\n",
    "def my_cuda_mylog_rule(op):\n",
    "    \"\"\"CUDA lowering rule for log\"\"\"\n",
    "    if op.dtype == \"float32\":\n",
    "        return tvm.tir.call_pure_extern(\"float32\", \"logf\", op.args[0])\n",
    "    elif op.dtype == \"float64\":\n",
    "        return tvm.tir.call_pure_extern(\"float64\", \"log\", op.args[0])\n",
    "    else:\n",
    "        return op\n",
    "\n",
    "\n",
    "# new op registration is triggered by registering an attribute of the op\n",
    "register_op_attr(\"tir.mylog\", \"TCallEffectKind\", tvm.tir.CallEffectKind.Pure)\n",
    "register_intrin_lowering(\"tir.mylog\", target=\"cuda\", f=my_cuda_mylog_rule, level=99)\n",
    "\n",
    "n = te.var(\"n\")\n",
    "A = te.placeholder((n,), name=\"A\")\n",
    "B = te.compute(A.shape, lambda i: mylog(A[i]), name=\"B\")\n",
    "s = te.create_schedule(B.op)\n",
    "num_thread = 64\n",
    "bx, tx = s[B].split(B.op.axis[0], factor=num_thread)\n",
    "s[B].bind(bx, te.thread_axis(\"blockIdx.x\"))\n",
    "s[B].bind(tx, te.thread_axis(\"threadIdx.x\"))\n",
    "fcuda = tvm.build(s, [A, B], \"cuda\", name=\"mylog\")\n",
    "print(fcuda.imported_modules[0].get_source())"
   ]
  },
  {
   "cell_type": "markdown",
   "metadata": {},
   "source": [
    "## Summary\n",
    "- TVM can call extern target dependent math function.\n",
    "- Use intrinsic to defined a unified interface for the functions.\n",
    "- For more intrinsics available in tvm, take a look at :any:`tvm.tir`\n",
    "- You can customize the intrinsic behavior by defining your own rules.\n",
    "\n",
    "\n"
   ]
  }
 ],
 "metadata": {
  "kernelspec": {
   "display_name": "Python 3",
   "language": "python",
   "name": "python3"
  },
  "language_info": {
   "codemirror_mode": {
    "name": "ipython",
    "version": 3
   },
   "file_extension": ".py",
   "mimetype": "text/x-python",
   "name": "python",
   "nbconvert_exporter": "python",
   "pygments_lexer": "ipython3",
   "version": "3.7.5"
  }
 },
 "nbformat": 4,
 "nbformat_minor": 0
}