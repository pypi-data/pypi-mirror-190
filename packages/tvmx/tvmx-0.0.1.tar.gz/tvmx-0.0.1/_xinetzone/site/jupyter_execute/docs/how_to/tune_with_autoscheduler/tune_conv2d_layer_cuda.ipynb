{
 "cells": [
  {
   "cell_type": "code",
   "execution_count": null,
   "metadata": {
    "collapsed": false
   },
   "outputs": [],
   "source": [
    "%matplotlib inline"
   ]
  },
  {
   "cell_type": "markdown",
   "metadata": {},
   "source": [
    "\n",
    "\n",
    "# Auto-scheduling a Convolution Layer for GPU\n",
    "**Author**: [Lianmin Zheng](https://github.com/merrymercy),             [Chengfan Jia](https://github.com/jcf94/)\n",
    "\n",
    "This is a tutorial on how to use the auto-scheduler for GPUs.\n",
    "\n",
    "Different from the template-based `autotvm <tutorials-autotvm-sec>` which relies on\n",
    "manual templates to define the search space, the auto-scheduler does not require any templates.\n",
    "Users only need to write the computation declaration without any schedule commands or templates.\n",
    "The auto-scheduler can automatically generate a large search space and\n",
    "find a good schedule in the space.\n",
    "\n",
    "We use a convolution layer as an example in this tutorial.\n",
    "\n",
    "Note that this tutorial will not run on Windows or recent versions of macOS. To\n",
    "get it to run, you will need to wrap the body of this tutorial in a :code:`if\n",
    "__name__ == \"__main__\":` block.\n"
   ]
  },
  {
   "cell_type": "code",
   "execution_count": null,
   "metadata": {
    "collapsed": false
   },
   "outputs": [],
   "source": [
    "import os\n",
    "\n",
    "import numpy as np\n",
    "import tvm\n",
    "from tvm import te, auto_scheduler, topi\n",
    "from tvm.topi.testing import conv2d_nchw_python"
   ]
  },
  {
   "cell_type": "markdown",
   "metadata": {},
   "source": [
    "## Define the computation\n",
    "To begin with, let us define the computation of a convolution layer.\n",
    "The function should return the list of input/output tensors.\n",
    "From these tensors, the auto-scheduler can get the whole computational graph.\n",
    "\n"
   ]
  },
  {
   "cell_type": "code",
   "execution_count": null,
   "metadata": {
    "collapsed": false
   },
   "outputs": [],
   "source": [
    "@auto_scheduler.register_workload\n",
    "def conv2d_layer(N, H, W, CO, CI, KH, KW, stride, padding):\n",
    "    data = te.placeholder((N, CI, H, W), name=\"data\")\n",
    "    kernel = te.placeholder((CO, CI, KH, KW), name=\"kernel\")\n",
    "    bias = te.placeholder((1, CO, 1, 1), name=\"bias\")\n",
    "    conv = topi.nn.conv2d_nchw(data, kernel, stride, padding, dilation=1, out_dtype=\"float32\")\n",
    "    out = topi.nn.relu(conv + bias)\n",
    "    return [data, kernel, bias, out]"
   ]
  },
  {
   "cell_type": "markdown",
   "metadata": {},
   "source": [
    "## Create the search task\n",
    "We then create a search task for the last convolution layer in the resnet.\n",
    "\n"
   ]
  },
  {
   "cell_type": "code",
   "execution_count": null,
   "metadata": {
    "collapsed": false
   },
   "outputs": [],
   "source": [
    "target = tvm.target.Target(\"cuda\")\n",
    "\n",
    "# Use the last layer in ResNet-50\n",
    "N, H, W, CO, CI, KH, KW, strides, padding = 1, 7, 7, 512, 512, 3, 3, (1, 1), (1, 1)\n",
    "task = auto_scheduler.SearchTask(\n",
    "    func=conv2d_layer, args=(N, H, W, CO, CI, KH, KW, strides, padding), target=target\n",
    ")\n",
    "\n",
    "# Inspect the computational graph\n",
    "print(\"Computational DAG:\")\n",
    "print(task.compute_dag)"
   ]
  },
  {
   "cell_type": "markdown",
   "metadata": {},
   "source": [
    "Next, we set parameters for the auto-scheduler. These parameters\n",
    "mainly specify how we do the measurement during the search.\n",
    "\n",
    "* :code:`measure_ctx` launches a different process for measurement to\n",
    "  provide isolation. It can protect the main process from GPU crashes\n",
    "  during measurement and avoid other runtime conflicts.\n",
    "* :code:`min_repeat_ms` defines the minimum duration of one \"repeat\" in every measurement.\n",
    "  This can warmup the GPU, which is necessary to get accurate measurement results.\n",
    "  Typically, we recommend a value >= 300 ms.\n",
    "* :code:`num_measure_trials` is the number of measurement trials we can use during the search.\n",
    "  We only make 10 trials in this tutorial for a fast demonstration. In practice, 1000 is a\n",
    "  good value for the search to converge. You can do more trials according to your time budget.\n",
    "* In addition, we use :code:`RecordToFile` to dump measurement records into a file `conv2d.json`.\n",
    "  The measurement records can be used to query the history best, resume the search,\n",
    "  and do more analyses later.\n",
    "* see :any:`auto_scheduler.TuningOptions`,\n",
    "  :any:`auto_scheduler.LocalRPCMeasureContext` for more parameters.\n",
    "\n"
   ]
  },
  {
   "cell_type": "code",
   "execution_count": null,
   "metadata": {
    "collapsed": false
   },
   "outputs": [],
   "source": [
    "log_file = \"conv2d.json\"\n",
    "measure_ctx = auto_scheduler.LocalRPCMeasureContext(min_repeat_ms=300)\n",
    "tune_option = auto_scheduler.TuningOptions(\n",
    "    num_measure_trials=10,  # change this to 1000 to achieve the best performance\n",
    "    runner=measure_ctx.runner,\n",
    "    measure_callbacks=[auto_scheduler.RecordToFile(log_file)],\n",
    "    verbose=2,\n",
    ")"
   ]
  },
  {
   "cell_type": "markdown",
   "metadata": {},
   "source": [
    "## Run the search\n",
    "Now we get all inputs ready. Pretty simple, isn't it?\n",
    "We can kick off the search and let the auto-scheduler do its magic.\n",
    "After some measurement trials, we can load the best schedule from the log\n",
    "file and apply it.\n",
    "\n"
   ]
  },
  {
   "cell_type": "code",
   "execution_count": null,
   "metadata": {
    "collapsed": false
   },
   "outputs": [],
   "source": [
    "# Run auto-tuning (search)\n",
    "task.tune(tune_option)\n",
    "# Apply the best schedule\n",
    "sch, args = task.apply_best(log_file)\n",
    "\n",
    "# Kill the measurement process\n",
    "del measure_ctx"
   ]
  },
  {
   "cell_type": "markdown",
   "metadata": {},
   "source": [
    "We can lower the schedule to see the IR after auto-scheduling.\n",
    "The auto-scheduler correctly performs optimizations including multi-level tiling,\n",
    "cooperative fetching, unrolling and operator fusion.\n",
    "\n"
   ]
  },
  {
   "cell_type": "code",
   "execution_count": null,
   "metadata": {
    "collapsed": false
   },
   "outputs": [],
   "source": [
    "print(\"Lowered TIR:\")\n",
    "print(tvm.lower(sch, args, simple_mode=True))"
   ]
  },
  {
   "cell_type": "markdown",
   "metadata": {},
   "source": [
    "## Check correctness and evaluate performance\n",
    "We build the binary and check its correctness and performance.\n",
    "\n"
   ]
  },
  {
   "cell_type": "code",
   "execution_count": null,
   "metadata": {
    "collapsed": false
   },
   "outputs": [],
   "source": [
    "func = tvm.build(sch, args, target)\n",
    "\n",
    "# Check correctness\n",
    "data_np = np.random.uniform(size=(N, CI, H, W)).astype(np.float32)\n",
    "weight_np = np.random.uniform(size=(CO, CI, KH, KW)).astype(np.float32)\n",
    "bias_np = np.random.uniform(size=(1, CO, 1, 1)).astype(np.float32)\n",
    "conv_np = conv2d_nchw_python(data_np, weight_np, strides, padding)\n",
    "out_np = np.maximum(conv_np + bias_np, 0.0)\n",
    "\n",
    "dev = tvm.cuda()\n",
    "data_tvm = tvm.nd.array(data_np, device=dev)\n",
    "weight_tvm = tvm.nd.array(weight_np, device=dev)\n",
    "bias_tvm = tvm.nd.array(bias_np, device=dev)\n",
    "out_tvm = tvm.nd.empty(out_np.shape, device=dev)\n",
    "func(data_tvm, weight_tvm, bias_tvm, out_tvm)\n",
    "\n",
    "# Check results\n",
    "np.testing.assert_allclose(out_np, out_tvm.numpy(), rtol=1e-3)\n",
    "\n",
    "# Evaluate execution time\n",
    "evaluator = func.time_evaluator(func.entry_name, dev, min_repeat_ms=500)\n",
    "print(\n",
    "    \"Execution time of this operator: %.3f ms\"\n",
    "    % (np.median(evaluator(data_tvm, weight_tvm, bias_tvm, out_tvm).results) * 1000)\n",
    ")"
   ]
  },
  {
   "cell_type": "markdown",
   "metadata": {},
   "source": [
    "## Using the record file\n",
    "During the search, all measurement records are dumped into the record\n",
    "file \"conv2d.json\". The measurement records can be used to re-apply search results,\n",
    "resume the search, and perform other analyses.\n",
    "\n"
   ]
  },
  {
   "cell_type": "markdown",
   "metadata": {},
   "source": [
    "Here is an example where we load the best schedule from a file,\n",
    "print the equivalent python schedule API and CUDA source code.\n",
    "They can be used for debugging and learning the behavior of the auto-scheduler.\n",
    "\n"
   ]
  },
  {
   "cell_type": "code",
   "execution_count": null,
   "metadata": {
    "collapsed": false
   },
   "outputs": [],
   "source": [
    "print(\"Equivalent python schedule:\")\n",
    "print(task.print_best(log_file, print_mode=\"schedule\"))\n",
    "\n",
    "print(\"CUDA source code:\")\n",
    "print(task.print_best(log_file, print_mode=\"cuda\"))"
   ]
  },
  {
   "cell_type": "markdown",
   "metadata": {},
   "source": [
    "A more complicated example is to resume the search.\n",
    "In this case, we need to create the search policy and cost model by ourselves\n",
    "and resume the status of search policy and cost model with the log file.\n",
    "In the example below we resume the status and do more 5 trials.\n",
    "\n"
   ]
  },
  {
   "cell_type": "code",
   "execution_count": null,
   "metadata": {
    "collapsed": false
   },
   "outputs": [],
   "source": [
    "def resume_search(task, log_file):\n",
    "    print(\"Resume search:\")\n",
    "    cost_model = auto_scheduler.XGBModel()\n",
    "    cost_model.update_from_file(log_file)\n",
    "    search_policy = auto_scheduler.SketchPolicy(\n",
    "        task, cost_model, init_search_callbacks=[auto_scheduler.PreloadMeasuredStates(log_file)]\n",
    "    )\n",
    "    measure_ctx = auto_scheduler.LocalRPCMeasureContext(min_repeat_ms=300)\n",
    "    tune_option = auto_scheduler.TuningOptions(\n",
    "        num_measure_trials=5,\n",
    "        runner=measure_ctx.runner,\n",
    "        measure_callbacks=[auto_scheduler.RecordToFile(log_file)],\n",
    "    )\n",
    "    task.tune(tune_option, search_policy=search_policy)\n",
    "\n",
    "    # Kill the measurement process\n",
    "    del measure_ctx\n",
    "\n",
    "\n",
    "resume_search(task, log_file)"
   ]
  }
 ],
 "metadata": {
  "kernelspec": {
   "display_name": "Python 3",
   "language": "python",
   "name": "python3"
  },
  "language_info": {
   "codemirror_mode": {
    "name": "ipython",
    "version": 3
   },
   "file_extension": ".py",
   "mimetype": "text/x-python",
   "name": "python",
   "nbconvert_exporter": "python",
   "pygments_lexer": "ipython3",
   "version": "3.7.5"
  }
 },
 "nbformat": 4,
 "nbformat_minor": 0
}