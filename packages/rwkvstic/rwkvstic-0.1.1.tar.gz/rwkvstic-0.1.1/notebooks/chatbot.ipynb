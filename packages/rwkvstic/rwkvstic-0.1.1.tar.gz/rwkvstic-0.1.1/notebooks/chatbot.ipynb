{
 "cells": [
  {
   "cell_type": "code",
   "execution_count": null,
   "metadata": {},
   "outputs": [],
   "source": [
    "#@title Install Dependencies { display-mode: \"form\" }\n",
    "\n",
    "!pip install inquirer transformers sty rwkvstic\n",
    "import os"
   ]
  },
  {
   "cell_type": "code",
   "execution_count": null,
   "metadata": {},
   "outputs": [],
   "source": [
    "#@title Download and Initialize model { display-mode: \"form\" }\n",
    "from rwkvstic.load import RWKV\n",
    "\n",
    "model = RWKV(\n",
    "    \"https://huggingface.co/Hazzzardous/RWKV-8Bit/resolve/main/RWKV-4-Pile-7B-Instruct.pqth\"\n",
    ")"
   ]
  },
  {
   "cell_type": "code",
   "execution_count": null,
   "metadata": {},
   "outputs": [],
   "source": [
    "#@title Ask Question { display-mode: \"form\" }\n",
    "model.resetState()\n",
    "Prompt = \"Who is Elon Musk\" #@param {type:\"string\"}\n",
    "model.loadContext(\"\\n\",\n",
    "                                     f\"Prompt: {Prompt}?\\n\\nLong Detailed Expert Response: \")\n",
    "out = model.forward(number=100)[\"output\"]\n",
    "import IPython\n",
    "IPython.display.HTML(f\"<p>{out}</p>\")"
   ]
  }
 ],
 "metadata": {
  "kernelspec": {
   "display_name": "Python 3",
   "language": "python",
   "name": "python3"
  },
  "language_info": {
   "name": "python",
   "version": "3.10.6"
  },
  "orig_nbformat": 4,
  "vscode": {
   "interpreter": {
    "hash": "916dbcbb3f70747c44a77c7bcd40155683ae19c65e1c03b4aa3499c5328201f1"
   }
  }
 },
 "nbformat": 4,
 "nbformat_minor": 2
}
