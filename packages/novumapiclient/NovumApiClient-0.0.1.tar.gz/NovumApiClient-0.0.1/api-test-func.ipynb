{
 "cells": [
  {
   "cell_type": "code",
   "execution_count": null,
   "id": "eae18fc5-5f3c-47e1-aaa8-de781c63b95a",
   "metadata": {},
   "outputs": [
    {
     "ename": "",
     "evalue": "",
     "output_type": "error",
     "traceback": [
      "\u001b[1;31mFailed to start the Kernel. \n",
      "\u001b[1;31mJupyter server crashed. Unable to connect. \n",
      "\u001b[1;31mError code from Jupyter: 1\n",
      "\u001b[1;31mError executing Jupyter command 'notebook': [Errno 2] No such file or directory. \n",
      "\u001b[1;31mView Jupyter <a href='command:jupyter.viewOutput'>log</a> for further details."
     ]
    }
   ],
   "source": [
    "import json\n",
    "import requests\n",
    "import urllib\n",
    "from http import HTTPStatus\n",
    "#s\n"
   ]
  },
  {
   "cell_type": "code",
   "execution_count": 2,
   "id": "0975ba78-490b-4471-9a90-128d9fdc9612",
   "metadata": {},
   "outputs": [],
   "source": [
    "from APIClient import APIClient"
   ]
  },
  {
   "cell_type": "code",
   "execution_count": 3,
   "id": "1cd436b3-fec2-4fe5-8433-261a7137376b",
   "metadata": {},
   "outputs": [],
   "source": [
    "api = APIClient('')\n",
    "log = api.login('l.biz@novum-engineering.com', 'Ahahhasdojosjd')"
   ]
  },
  {
   "cell_type": "code",
   "execution_count": 4,
   "id": "5ab4b8d2-8ae1-47ab-bca2-10a4002586d7",
   "metadata": {},
   "outputs": [
    {
     "data": {
      "text/plain": [
       "{'message': 'Hello user this is the Novum batman API server. All routes begin with /api/{api_type}/{api_version}/{resource}. You have to identify using your credentials and /api/batman/v1/login to obtain a token'}"
      ]
     },
     "execution_count": 4,
     "metadata": {},
     "output_type": "execute_result"
    }
   ],
   "source": [
    "api.ping()"
   ]
  },
  {
   "cell_type": "code",
   "execution_count": 5,
   "id": "499faa60-ac5d-4e34-a5aa-551d69f64462",
   "metadata": {},
   "outputs": [
    {
     "data": {
      "text/plain": [
       "{'name': 'EIS-DAS-API',\n",
       " 'dbName': 'batman',\n",
       " 'version': {'tag': 'v1.0.12_F0|c513785_G0|025d733',\n",
       "  'name': 'novum-api',\n",
       "  'hash': '025d733b66110c3b77c03de31a2bcdf82954d9ac',\n",
       "  'branch': 'influxRead',\n",
       "  'build_date': '2023-02-03T12:36:58.798Z'},\n",
       " 'description': 'Electrical Impedance Spectroscopy - Data Acquisition System - Application Programming Interface. A starting point for EIS at its best. Made in go with speed in mind.'}"
      ]
     },
     "execution_count": 5,
     "metadata": {},
     "output_type": "execute_result"
    }
   ],
   "source": [
    "api.get_info()"
   ]
  },
  {
   "cell_type": "code",
   "execution_count": 6,
   "id": "45517078-0e5b-46cd-b376-25ec26964681",
   "metadata": {},
   "outputs": [
    {
     "name": "stdout",
     "output_type": "stream",
     "text": [
      "Error:  400\n"
     ]
    }
   ],
   "source": [
    "api.get_battery_types_count('CgEPllc8gb4QrzuDReA')"
   ]
  },
  {
   "cell_type": "code",
   "execution_count": 7,
   "id": "73079eb7-7123-4096-a7ba-fa8801805874",
   "metadata": {},
   "outputs": [
    {
     "name": "stdout",
     "output_type": "stream",
     "text": [
      "Error:  404\n"
     ]
    },
    {
     "data": {
      "text/plain": [
       "False"
      ]
     },
     "execution_count": 7,
     "metadata": {},
     "output_type": "execute_result"
    }
   ],
   "source": [
    "api.dataset_exists_on_remote('cKoqdHPnks26gg4rqzu')"
   ]
  },
  {
   "cell_type": "code",
   "execution_count": 8,
   "id": "ffb80098-9f13-44e0-858c-94db4493cc78",
   "metadata": {},
   "outputs": [
    {
     "data": {
      "text/plain": [
       "True"
      ]
     },
     "execution_count": 8,
     "metadata": {},
     "output_type": "execute_result"
    }
   ],
   "source": [
    "api.dataset_exists_on_remote('cKoqdHPnks264rqzu')"
   ]
  },
  {
   "cell_type": "code",
   "execution_count": 9,
   "id": "4e08ccd8-737c-46a2-98fc-53ac5119d69a",
   "metadata": {},
   "outputs": [
    {
     "data": {
      "text/plain": [
       "{'id': '62333db4bc78340068c37c91',\n",
       " 'expires_at': 1675782954,\n",
       " 'authenticated': True}"
      ]
     },
     "execution_count": 9,
     "metadata": {},
     "output_type": "execute_result"
    }
   ],
   "source": [
    "api.check_current_user_still_authenticated()"
   ]
  },
  {
   "cell_type": "code",
   "execution_count": null,
   "id": "598b55f2-9b2b-471f-bbd2-1d3ce876d551",
   "metadata": {},
   "outputs": [],
   "source": []
  }
 ],
 "metadata": {
  "kernelspec": {
   "display_name": "notebiz",
   "language": "python",
   "name": "python3"
  },
  "language_info": {
   "codemirror_mode": {
    "name": "ipython",
    "version": 3
   },
   "file_extension": ".py",
   "mimetype": "text/x-python",
   "name": "python",
   "nbconvert_exporter": "python",
   "pygments_lexer": "ipython3",
   "version": "3.10.9"
  },
  "vscode": {
   "interpreter": {
    "hash": "d13597ff4728f975d32337f3c8efd4eb81dc58edd04cb88fb9671eb6e90824a0"
   }
  }
 },
 "nbformat": 4,
 "nbformat_minor": 5
}
