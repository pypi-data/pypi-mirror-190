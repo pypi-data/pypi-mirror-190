{
 "cells": [
  {
   "cell_type": "code",
   "execution_count": 12,
   "id": "eae18fc5-5f3c-47e1-aaa8-de781c63b95a",
   "metadata": {},
   "outputs": [],
   "source": [
    "import json\n",
    "import requests\n",
    "import urllib\n",
    "from http import HTTPStatus\n",
    "#s\n"
   ]
  },
  {
   "cell_type": "code",
   "execution_count": null,
   "id": "0975ba78-490b-4471-9a90-128d9fdc9612",
   "metadata": {},
   "outputs": [],
   "source": [
    "from lib.NovumAPIClient import APIClient"
   ]
  },
  {
   "cell_type": "code",
   "execution_count": null,
   "id": "1cd436b3-fec2-4fe5-8433-261a7137376b",
   "metadata": {},
   "outputs": [],
   "source": [
    "api = APIClient('')\n",
    "log = api.login('l.biz@novum-engineering.com', 'Amoeba19')"
   ]
  },
  {
   "cell_type": "code",
   "execution_count": null,
   "id": "499faa60-ac5d-4e34-a5aa-551d69f64462",
   "metadata": {},
   "outputs": [],
   "source": [
    "ou =api.logout()"
   ]
  },
  {
   "cell_type": "code",
   "execution_count": null,
   "id": "68de2113",
   "metadata": {},
   "outputs": [],
   "source": [
    "ou"
   ]
  },
  {
   "cell_type": "code",
   "execution_count": null,
   "id": "aa6787f7",
   "metadata": {},
   "outputs": [],
   "source": []
  },
  {
   "cell_type": "code",
   "execution_count": null,
   "id": "45517078-0e5b-46cd-b376-25ec26964681",
   "metadata": {},
   "outputs": [],
   "source": [
    "api.get_battery_types_count()"
   ]
  },
  {
   "cell_type": "code",
   "execution_count": null,
   "id": "0ca2e5b3",
   "metadata": {},
   "outputs": [],
   "source": []
  },
  {
   "cell_type": "code",
   "execution_count": null,
   "id": "ad406e43",
   "metadata": {},
   "outputs": [],
   "source": []
  },
  {
   "cell_type": "code",
   "execution_count": null,
   "id": "b3c16e8e",
   "metadata": {},
   "outputs": [],
   "source": []
  },
  {
   "cell_type": "code",
   "execution_count": null,
   "id": "73079eb7-7123-4096-a7ba-fa8801805874",
   "metadata": {},
   "outputs": [],
   "source": [
    "api.dataset_exists_on_remote('cKoqdHPnks26gg4rqzu')"
   ]
  },
  {
   "cell_type": "code",
   "execution_count": null,
   "id": "ffb80098-9f13-44e0-858c-94db4493cc78",
   "metadata": {},
   "outputs": [],
   "source": [
    "api.dataset_exists_on_remote('cKoqdHPnks264rqzu')"
   ]
  },
  {
   "cell_type": "code",
   "execution_count": null,
   "id": "4e08ccd8-737c-46a2-98fc-53ac5119d69a",
   "metadata": {},
   "outputs": [],
   "source": [
    "api.check_current_user_still_authenticated()"
   ]
  },
  {
   "cell_type": "code",
   "execution_count": null,
   "id": "598b55f2-9b2b-471f-bbd2-1d3ce876d551",
   "metadata": {},
   "outputs": [],
   "source": []
  }
 ],
 "metadata": {
  "kernelspec": {
   "display_name": "notebiz",
   "language": "python",
   "name": "python3"
  },
  "language_info": {
   "codemirror_mode": {
    "name": "ipython",
    "version": 3
   },
   "file_extension": ".py",
   "mimetype": "text/x-python",
   "name": "python",
   "nbconvert_exporter": "python",
   "pygments_lexer": "ipython3",
   "version": "3.10.9"
  },
  "vscode": {
   "interpreter": {
    "hash": "d13597ff4728f975d32337f3c8efd4eb81dc58edd04cb88fb9671eb6e90824a0"
   }
  }
 },
 "nbformat": 4,
 "nbformat_minor": 5
}
