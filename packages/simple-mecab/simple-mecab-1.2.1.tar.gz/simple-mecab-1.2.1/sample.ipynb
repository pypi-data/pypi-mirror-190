{
 "cells": [
  {
   "attachments": {},
   "cell_type": "markdown",
   "metadata": {},
   "source": [
    "# simple-mecab サンプル"
   ]
  },
  {
   "attachments": {},
   "cell_type": "markdown",
   "metadata": {},
   "source": [
    "## ライブラリのインストール"
   ]
  },
  {
   "cell_type": "code",
   "execution_count": null,
   "metadata": {},
   "outputs": [],
   "source": [
    "!pip install simple-mecab"
   ]
  },
  {
   "attachments": {},
   "cell_type": "markdown",
   "metadata": {},
   "source": [
    "### パッケージのインポート"
   ]
  },
  {
   "cell_type": "code",
   "execution_count": 1,
   "metadata": {},
   "outputs": [],
   "source": [
    "import simple_mecab"
   ]
  },
  {
   "attachments": {},
   "cell_type": "markdown",
   "metadata": {},
   "source": [
    "以下のサンプルでは、`sentence`に格納された文章を解析します。"
   ]
  },
  {
   "cell_type": "code",
   "execution_count": 2,
   "metadata": {},
   "outputs": [],
   "source": [
    "sentences = \"庭を東へ二十歩に行き尽つくすと、南上がりにいささかばかりの菜園があって、真中まんなかに栗くりの木が一本立っている。これは命より大事な栗だ。実の熟する時分は起き抜けに背戸せどを出て落ちた奴を拾ってきて、学校で食う。\""
   ]
  },
  {
   "attachments": {},
   "cell_type": "markdown",
   "metadata": {},
   "source": [
    "### 1. 名詞の出現頻度をカウント"
   ]
  },
  {
   "cell_type": "code",
   "execution_count": 3,
   "metadata": {},
   "outputs": [
    {
     "name": "stdout",
     "output_type": "stream",
     "text": [
      "{'庭': 1, '東': 1, '二': 1, '十': 1, '歩': 1, '尽': 1, '南': 1, '上がり': 1, '菜園': 1, '真中': 1, 'まんなか': 1, '栗': 2, 'くり': 1, '木': 1, '一': 1, '本': 1, 'これ': 1, '命': 1, '大事': 1, '実': 1, '熟': 1, '時分': 1, '起き抜け': 1, '背戸': 1, '奴': 1, '学校': 1}\n"
     ]
    }
   ],
   "source": [
    "# 出現した名詞の辞書\n",
    "nouns = {}\n",
    "\n",
    "# 出現した名詞の出現回数をカウント.\n",
    "# インスタンス生成処理は重いので、毎回行わないようにする.\n",
    "mecab = simple_mecab.MeCabWrapper(args=r\"-r C:\\PROGRA~2\\meCab\\etc\\mecabrc-u\")\n",
    "result = mecab.parse(sentences)\n",
    "# resultは形態素のリスト. 以下で先頭から1つずつ形態素を解析している.\n",
    "for w in result:\n",
    "    # 品詞はpos0から参照する.\n",
    "    if w.pos0 == '名詞':\n",
    "        try:\n",
    "            nouns[w.token] = nouns[w.token] + 1\n",
    "        except KeyError:\n",
    "            nouns[w.token] = 1\n",
    "\n",
    "# 辞書を表示.\n",
    "print(nouns)"
   ]
  }
 ],
 "metadata": {
  "kernelspec": {
   "display_name": ".venv",
   "language": "python",
   "name": "python3"
  },
  "language_info": {
   "codemirror_mode": {
    "name": "ipython",
    "version": 3
   },
   "file_extension": ".py",
   "mimetype": "text/x-python",
   "name": "python",
   "nbconvert_exporter": "python",
   "pygments_lexer": "ipython3",
   "version": "3.10.8"
  },
  "orig_nbformat": 4,
  "vscode": {
   "interpreter": {
    "hash": "7bc0107d38ce41fdb6584e01cb58eb09d0e0f0b24cd8ea0b45e3bbda4af38043"
   }
  }
 },
 "nbformat": 4,
 "nbformat_minor": 2
}
