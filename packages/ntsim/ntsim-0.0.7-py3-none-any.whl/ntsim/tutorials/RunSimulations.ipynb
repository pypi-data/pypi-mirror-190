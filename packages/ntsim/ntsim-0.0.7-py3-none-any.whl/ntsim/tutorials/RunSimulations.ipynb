{
 "cells": [
  {
   "cell_type": "markdown",
   "id": "9d7a7af1",
   "metadata": {},
   "source": [
    "# Installation\n",
    "## Not yet\n",
    "```\n",
    "pip install neutrinotelescopesimulation\n",
    "pip install bgvd-model\n",
    "```\n",
    "## Oct.14 2022\n",
    "1. get from DN \n",
    " - neutrinotelescopesimulation-0.0.1.tar.gz\n",
    " - bgvd_model-0.0.1.tar.gz\n",
    " - configs.tar.gz\n",
    "\n",
    "2. install with\n",
    "```\n",
    "python -m pip install neutrinotelescopesimulation-0.0.1.tar.gz\n",
    "python -m pip install bgvd_model-0.0.1.tar.gz\n",
    "```\n",
    "\n",
    "3. prepare your working directory\n",
    "```\n",
    "mkdir NTsim_workdir\n",
    "cd NTsim_workdir\n",
    "```\n",
    "copy configs.tar.gz into NTsim_workdir\n",
    "```\n",
    "tar zxvf configs.tar.gz\n",
    "```\n"
   ]
  },
  {
   "cell_type": "code",
   "execution_count": 3,
   "id": "28f1f554",
   "metadata": {},
   "outputs": [
    {
     "name": "stdout",
     "output_type": "stream",
     "text": [
      "/Users/dmitrynaumov/software/generators/tutorials-ipynb\r\n"
     ]
    }
   ],
   "source": [
    "!cd /Users/dmitrynaumov/software/NTsim_workdir\n",
    "!pwd"
   ]
  },
  {
   "cell_type": "markdown",
   "id": "f407f44d",
   "metadata": {},
   "source": [
    "## Running with Geant4\n",
    "\n",
    "### Requirements:\n",
    " - **Geant4** built with CMake flag `GEANT4_BUILD_TLS_MODEL=global-dynamic`. [Building instructions](https://geant4-userdoc.web.cern.ch/UsersGuides/InstallationGuide/html/installguide.html)\n",
    " - **geant4_pybind** Python package\n",
    " install geant4_pybind, [HitHub repo](https://github.com/HaarigerHarald/geant4_pybind)\n",
    " - **g4camp** Python package, [Repository on JINR GitLab](https://git.jinr.ru/malyshkin/g4camp)\n",
    " \n",
    " ### Running\n",
    " - Copy or make a symlink to `ntsim/ntsim/tutorials/configs` and `ntsim/ntsim/tutorials/g4camp/electrons.mac` to your working directory.\n",
    " - Add location of g4camp to your PYTHONPATH:\n",
    "```bash\n",
    "export PYTHONPATH=<path/to/g4camp>:$PYTHOPAH\n",
    "```\n",
    " - Run simulation:\n",
    " ```bash\n",
    " python3 -m ntsim.ntsim --primary_config=configs/g4particlePrimary.cfg --n_events 5\n",
    " ```"
   ]
  }
 ],
 "metadata": {
  "kernelspec": {
   "display_name": "Python 3 (ipykernel)",
   "language": "python",
   "name": "python3"
  },
  "language_info": {
   "codemirror_mode": {
    "name": "ipython",
    "version": 3
   },
   "file_extension": ".py",
   "mimetype": "text/x-python",
   "name": "python",
   "nbconvert_exporter": "python",
   "pygments_lexer": "ipython3",
   "version": "3.8.10"
  }
 },
 "nbformat": 4,
 "nbformat_minor": 5
}
